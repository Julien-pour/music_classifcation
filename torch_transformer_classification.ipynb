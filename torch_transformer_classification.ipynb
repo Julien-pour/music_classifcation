{
 "cells": [
  {
   "cell_type": "code",
   "execution_count": 1,
   "metadata": {
    "ExecuteTime": {
     "end_time": "2021-04-04T10:56:03.622344Z",
     "start_time": "2021-04-04T10:56:00.273068Z"
    },
    "scrolled": false
   },
   "outputs": [
    {
     "name": "stderr",
     "output_type": "stream",
     "text": [
      "C:\\Users\\lejuj\\Anaconda3\\envs\\torchaudio\\lib\\site-packages\\torchaudio\\extension\\extension.py:13: UserWarning: torchaudio C++ extension is not available.\n",
      "  warnings.warn('torchaudio C++ extension is not available.')\n"
     ]
    },
    {
     "name": "stdout",
     "output_type": "stream",
     "text": [
      "1.8.1\n",
      "0.8.1\n"
     ]
    }
   ],
   "source": [
    "# import time\n",
    "import os\n",
    "import numpy as np\n",
    "import pandas as pd\n",
    "from sklearn.preprocessing import MultiLabelBinarizer, LabelEncoder, LabelBinarizer, StandardScaler\n",
    "import matplotlib.pyplot as plt\n",
    "from IPython.display import Audio, display\n",
    "#from pydub import AudioSegment\n",
    "import torch\n",
    "import torch.nn as nn\n",
    "import torch.nn.functional as F\n",
    "import torch.optim as optim\n",
    "import torchaudio\n",
    "import os.path\n",
    "from os import path\n",
    "import os\n",
    "import soundfile as sf\n",
    "# import torchaudio.functional as F\n",
    "# import torchaudio.transforms as T\n",
    "import librosa\n",
    "from tqdm.notebook import tqdm\n",
    "from pytorch_pretrained_vit import ViT\n",
    "\n",
    "from torchaudio import transforms\n",
    "from torchvision import transforms as T\n",
    "import torchvision.models as models\n",
    "from torchsummary import summary\n",
    "device = torch.device(\"cuda\" if torch.cuda.is_available() else \"cpu\")\n",
    "print(torch.__version__)\n",
    "print(torchaudio.__version__)"
   ]
  },
  {
   "cell_type": "code",
   "execution_count": 2,
   "metadata": {
    "ExecuteTime": {
     "end_time": "2021-04-04T10:56:03.743915Z",
     "start_time": "2021-04-04T10:56:03.652718Z"
    }
   },
   "outputs": [
    {
     "name": "stdout",
     "output_type": "stream",
     "text": [
      "Sun Apr 04 12:56:03 2021       \n",
      "+-----------------------------------------------------------------------------+\n",
      "| NVIDIA-SMI 452.06       Driver Version: 452.06       CUDA Version: 11.0     |\n",
      "|-------------------------------+----------------------+----------------------+\n",
      "| GPU  Name            TCC/WDDM | Bus-Id        Disp.A | Volatile Uncorr. ECC |\n",
      "| Fan  Temp  Perf  Pwr:Usage/Cap|         Memory-Usage | GPU-Util  Compute M. |\n",
      "|===============================+======================+======================|\n",
      "|   0  GeForce RTX 2060   WDDM  | 00000000:01:00.0  On |                  N/A |\n",
      "| N/A   53C    P5    12W /  N/A |    605MiB /  6144MiB |      7%      Default |\n",
      "+-------------------------------+----------------------+----------------------+\n",
      "                                                                               \n",
      "+-----------------------------------------------------------------------------+\n",
      "| Processes:                                                                  |\n",
      "|  GPU   GI   CI        PID   Type   Process name                  GPU Memory |\n",
      "|        ID   ID                                                   Usage      |\n",
      "|=============================================================================|\n",
      "|    0   N/A  N/A      1672    C+G   Insufficient Permissions        N/A      |\n",
      "|    0   N/A  N/A      2856    C+G   ...b3d8bbwe\\WinStore.App.exe    N/A      |\n",
      "|    0   N/A  N/A      6716    C+G   ...lPanel\\SystemSettings.exe    N/A      |\n",
      "|    0   N/A  N/A      9796    C+G   C:\\Windows\\explorer.exe         N/A      |\n",
      "|    0   N/A  N/A     11248    C+G   ...artMenuExperienceHost.exe    N/A      |\n",
      "|    0   N/A  N/A     11668    C+G   ...bbwe\\Microsoft.Photos.exe    N/A      |\n",
      "|    0   N/A  N/A     11860    C+G   ...w5n1h2txyewy\\SearchUI.exe    N/A      |\n",
      "|    0   N/A  N/A     12388    C+G   ...ekyb3d8bbwe\\YourPhone.exe    N/A      |\n",
      "|    0   N/A  N/A     12808    C+G   ...me\\Application\\chrome.exe    N/A      |\n",
      "|    0   N/A  N/A     13248    C+G   ...y\\ShellExperienceHost.exe    N/A      |\n",
      "|    0   N/A  N/A     13964    C+G   ...perience\\NVIDIA Share.exe    N/A      |\n",
      "|    0   N/A  N/A     16928    C+G   ...wekyb3d8bbwe\\Video.UI.exe    N/A      |\n",
      "|    0   N/A  N/A     18328    C+G   ...8wekyb3d8bbwe\\GameBar.exe    N/A      |\n",
      "+-----------------------------------------------------------------------------+\n"
     ]
    }
   ],
   "source": [
    "!nvidia-smi "
   ]
  },
  {
   "cell_type": "markdown",
   "metadata": {},
   "source": [
    "# panda time"
   ]
  },
  {
   "cell_type": "code",
   "execution_count": 3,
   "metadata": {
    "ExecuteTime": {
     "end_time": "2021-04-04T10:56:06.743200Z",
     "start_time": "2021-04-04T10:56:03.775359Z"
    },
    "scrolled": true
   },
   "outputs": [],
   "source": [
    "tracks = pd.read_csv('data/fma_metadata/tracks.csv', index_col=0, header=[0, 1])\n",
    "subset=tracks.index[tracks['set', 'subset'] == 'small']\n",
    "tracks=tracks.loc[subset]\n",
    "tracks;"
   ]
  },
  {
   "cell_type": "markdown",
   "metadata": {},
   "source": [
    "## split dataset (train, test)"
   ]
  },
  {
   "cell_type": "code",
   "execution_count": 4,
   "metadata": {
    "ExecuteTime": {
     "end_time": "2021-04-04T10:56:06.923182Z",
     "start_time": "2021-04-04T10:56:06.914265Z"
    },
    "scrolled": false
   },
   "outputs": [
    {
     "name": "stdout",
     "output_type": "stream",
     "text": [
      "6400 training examples, 800 validation examples, 1600 testing examples\n",
      "Top genres (8): ['Electronic', 'Experimental', 'Folk', 'Hip-Hop', 'Instrumental', 'International', 'Pop', 'Rock']\n"
     ]
    }
   ],
   "source": [
    "# train => track_id train \n",
    "# data => track_id + label\n",
    "train_index = tracks.index[tracks['set', 'split'] == 'training']\n",
    "val_index = tracks.index[tracks['set', 'split'] == 'validation']\n",
    "test_index = tracks.index[(tracks['set', 'split'] == 'test' )| (tracks['set', 'split']=='validation') ]\n",
    "print('{} training examples, {} validation examples, {} testing examples'.format(*map(len, [train_index, val_index, test_index])))\n",
    "genres = list(LabelEncoder().fit(tracks['track', 'genre_top']).classes_)\n",
    "print('Top genres ({}): {}'.format(len(genres), genres))\n",
    "data=tracks['track', 'genre_top']\n",
    "# data,train_index[0], data.loc[train_index[0]] # (2, 'Hip-Hop')"
   ]
  },
  {
   "cell_type": "code",
   "execution_count": 5,
   "metadata": {
    "ExecuteTime": {
     "end_time": "2021-04-04T10:56:07.124228Z",
     "start_time": "2021-04-04T10:56:07.098161Z"
    }
   },
   "outputs": [],
   "source": [
    "enc = MultiLabelBinarizer()\n",
    "labels = tracks['track', 'genres_all']\n",
    "#labels = tracks['track', 'genres']\n",
    "test_multi_index = tracks.index[(tracks['set', 'split'] == 'test' ) ]\n",
    "\n",
    "# Split in training, validation and testing sets.\n",
    "y_train = enc.fit_transform(labels[train_index])\n",
    "y_val = enc.transform(labels[val_index])\n",
    "y_test = enc.transform(labels[test_index])\n",
    "# X_train = features.loc[train, columns].as_matrix()\n",
    "# X_val = features.loc[val, columns].as_matrix()\n",
    "# X_test = features.loc[test, columns].as_matrix()"
   ]
  },
  {
   "cell_type": "markdown",
   "metadata": {},
   "source": [
    "/!\\ data corrupted delete them : \"099134.mp3\" \"108925.mp3\" \"133297.mp3\" use cell below"
   ]
  },
  {
   "cell_type": "code",
   "execution_count": 6,
   "metadata": {
    "ExecuteTime": {
     "end_time": "2021-04-04T10:56:07.341269Z",
     "start_time": "2021-04-04T10:56:07.310208Z"
    },
    "scrolled": false
   },
   "outputs": [
    {
     "name": "stdout",
     "output_type": "stream",
     "text": [
      "3530\n",
      "3896\n",
      "5609\n"
     ]
    }
   ],
   "source": [
    "#beug fix that\n",
    "flag=len(train_index)\n",
    "for i in range(len(train_index)):\n",
    "    if flag==i:\n",
    "        break\n",
    "    if str(train_index[i])==\"99134\" or str(train_index[i])==\"108925\" or str(train_index[i])==\"133297\":\n",
    "        print(i)\n",
    "        train_index=train_index.delete(i)\n",
    "        y_train=np.delete(y_train, i,axis=0)\n",
    "\n",
    "        flag=flag-1\n"
   ]
  },
  {
   "cell_type": "markdown",
   "metadata": {
    "ExecuteTime": {
     "end_time": "2021-03-27T09:35:43.630461Z",
     "start_time": "2021-03-27T09:35:43.626599Z"
    }
   },
   "source": [
    "## (use one time) to convert all mp3 to wav (more than 10 to 100 times faster with wav)"
   ]
  },
  {
   "cell_type": "markdown",
   "metadata": {
    "ExecuteTime": {
     "end_time": "2021-03-27T09:27:52.750234Z",
     "start_time": "2021-03-27T09:27:52.284935Z"
    },
    "scrolled": false
   },
   "source": [
    "#!mkdir \"data_proces/fma_small/\"\n",
    "path1=\"data/fma_small/\"\n",
    "path_stockage=\"data_proces/fma_small/\"\n",
    "count=0\n",
    "for root, dirs, files in os.walk(path1):\n",
    "    for name in files:\n",
    "        if name.endswith(\".mp3\"):\n",
    "            if not(path.exists(path_stockage+name[:-4]+'.wav')):\n",
    "                try:\n",
    "                    waveform, sample_rate=librosa.load(root+\"/\"+name,duration=15,sr=22050)\n",
    "                    sf.write(path_stockage+name[:-4]+'.wav', waveform, sample_rate)\n",
    "                    count+=1\n",
    "                except:\n",
    "                    print(\"audio :\"+root+\"/\"+name+\"  is corrupted\")"
   ]
  },
  {
   "cell_type": "markdown",
   "metadata": {},
   "source": [
    "# creation of dataset and dataloader"
   ]
  },
  {
   "cell_type": "code",
   "execution_count": 7,
   "metadata": {
    "ExecuteTime": {
     "end_time": "2021-04-04T10:56:07.539193Z",
     "start_time": "2021-04-04T10:56:07.527165Z"
    }
   },
   "outputs": [],
   "source": [
    "from torch.utils.data import Dataset, DataLoader\n",
    "\n",
    "# creation of torch dataset\n",
    "\n",
    "\n",
    "#type_set= train or test \n",
    "#audio_ids\n",
    "label_dic = {'Electronic': 0,  'Experimental':1, 'Folk':2,'Hip-Hop':3,\n",
    " 'Instrumental':4,\n",
    " 'International':5,\n",
    " 'Pop':6,\n",
    " 'Rock':7}\n",
    "\n",
    "\n",
    "class Audio_classification(Dataset):\n",
    "    def __init__(self,type_set, audio_idx, class_ids,label_dic,time_audio_resize=3, transform = None):#(\"train\",train,data,)\n",
    "            self.type_set=type_set\n",
    "            self.audio_ids = audio_idx\n",
    "            self.class_ids = class_ids\n",
    "            self.label_dic = label_dic\n",
    "            self.time_audio_resize=time_audio_resize\n",
    "            self.transform = transform\n",
    "#             if self.is_valid == 1:\n",
    "#                 self.aug = # transfoms for validation images\n",
    "#             else:                  \n",
    "#                 self.aug = # transfoms for training images\n",
    "                \n",
    "    def __len__(self):\n",
    "          return len(self.audio_ids)\n",
    "    \n",
    "        \n",
    "    def __getitem__(self, index):\n",
    "            #on prend 3s\n",
    "            load_first_n_sec_audio=15\n",
    "            sample_rate_default=22050\n",
    "            #time_audio_resize #= 3#sec\n",
    "            \n",
    "            #audio_path is like 000002.wav but self.audio_ids[index] has not all the 0 include so ...\n",
    "            idx=self.audio_ids[index]\n",
    "            count=len(str(idx))\n",
    "            #print(\"The number of digits in the number are:\",count)\n",
    "            if count!=6:\n",
    "                idx=\"0\"*(6-count)+str(idx)\n",
    "            audio_path=str(idx)\n",
    "\n",
    "            filename = \"data_proces/fma_small/\"+ audio_path +\".wav\"\n",
    "            label = self.label_dic[self.class_ids.loc[self.audio_ids[index]]]\n",
    "            \n",
    "            #load audio mp3\n",
    "            \n",
    "            waveform, sample_rate=torchaudio.load(filename, normalize = True)\n",
    "            #waveform, sample_rate=sf.read(filename,sr=None)\n",
    "                \n",
    "            len_audio_resize = int(sample_rate_default * self.time_audio_resize)\n",
    "            indice_max=len(waveform[0])-len_audio_resize-1\n",
    "            indice_initial=np.random.randint(max(indice_max,1))\n",
    "            #make 3sec long audio (time_audio_resize=3sec)\n",
    "            if self.type_set==\"train\":\n",
    "                waveform = waveform[:,indice_initial:indice_initial+len_audio_resize]\n",
    "            else:\n",
    "                waveform = waveform[:,0:len_audio_resize]\n",
    "                \n",
    "            # if weveform is to short zero padding at the end \n",
    "            if waveform.size()!=(1,len_audio_resize):\n",
    "                waveform=torch.cat((waveform,torch.zeros((1,len_audio_resize-waveform.size(1)))),1)\n",
    "            #to torch\n",
    "            #waveform=torch.tensor(waveform)#m, dtype = torch.float)\n",
    "            # reshape to 1 channel if required\n",
    "            #waveform = torch.reshape(waveform, (1, waveform.shape[0]))\n",
    "           # Change the waveform to Spectrogram, Mel-Spectrogram or,MFCC\n",
    "#             specgram = torchaudio.transforms.Spectrogram()(waveform)\n",
    "\n",
    "#             # convert 1 channel to 3 channels applying imagenet models\n",
    "#             specgram = specgram.repeat(3, 1, 1)\n",
    "\n",
    "#             # Applying audio augmentations by converting to numpy array\n",
    "#             specgram = np.transpose(specgram.numpy(), (1,2,0))\n",
    "#             specgram = self.aug(image = specgram)['image']\n",
    "\n",
    "#             #As torch accepts channels first so applying this\n",
    "#             specgram = np.transpose(specgram,(2,0,1)).astype(np.float32)\n",
    "#             specgram=torch.tensor(waveform, dtype = torch.float) \n",
    "            if self.transform:\n",
    "                waveform = self.transform(waveform)\n",
    "            return waveform,torch.tensor(label, dtype = torch.float)\n",
    "#             return {\n",
    "#                 'waveform' : waveform,\n",
    "#                 'label' : torch.tensor(label, dtype = torch.float)\n",
    "#             }\n",
    "        \n"
   ]
  },
  {
   "cell_type": "code",
   "execution_count": 8,
   "metadata": {
    "ExecuteTime": {
     "end_time": "2021-04-04T10:56:07.602165Z",
     "start_time": "2021-04-04T10:56:07.540222Z"
    }
   },
   "outputs": [],
   "source": [
    "\n",
    "def init_param(model,device=device):\n",
    "    if model.image_size==(384,384):\n",
    "        print(\"384\")\n",
    "        trainset  = Audio_classification(\"train\",train_index,data,label_dic,time_audio_resize=8.9)\n",
    "        trainloader  = DataLoader(trainset , batch_size=5,\n",
    "                                shuffle=True, num_workers=0)\n",
    "\n",
    "        testset = Audio_classification(\"test\",test_index,data,label_dic,time_audio_resize=8.9)\n",
    "        testloader   = DataLoader(testset , batch_size=5,\n",
    "                            shuffle=False, num_workers=0)\n",
    "\n",
    "        sample_rate=22050\n",
    "        n_fft = 2048\n",
    "        win_length = None\n",
    "        hop_length = 512\n",
    "        n_mels = 512\n",
    "        n_mfcc = 384\n",
    "        log_mels=True\n",
    "        mfcc_transform = transforms.MFCC(\n",
    "            sample_rate=sample_rate,\n",
    "            n_mfcc=n_mfcc,log_mels=log_mels, melkwargs={'n_fft': n_fft, 'n_mels': n_mels, 'hop_length': hop_length})\n",
    "\n",
    "\n",
    "        n_fft = 2048\n",
    "        win_length = None\n",
    "        hop_length = 512\n",
    "        n_mels = 384#128\n",
    "        sample_rate=22050\n",
    "        mel_spectrogram = transforms.MelSpectrogram(\n",
    "            sample_rate=sample_rate,\n",
    "            n_fft=n_fft,\n",
    "            win_length=win_length,\n",
    "            hop_length=hop_length,\n",
    "            center=True,\n",
    "            pad_mode=\"reflect\",\n",
    "            power=2.0,\n",
    "            norm='slaney',\n",
    "            onesided=True,\n",
    "            n_mels=n_mels,\n",
    "        )\n",
    "\n",
    "\n",
    "        n_fft = 766\n",
    "        win_length = None\n",
    "        hop_length = 512\n",
    "\n",
    "        # define transformation\n",
    "        spectrogram = transforms.Spectrogram(\n",
    "            n_fft=n_fft,\n",
    "            win_length=win_length,\n",
    "            hop_length=hop_length,\n",
    "            center=True,\n",
    "            pad_mode=\"reflect\",\n",
    "            power=2.0,\n",
    "            normalized=True #a test\n",
    "        )\n",
    "\n",
    "        normalize_spec_db = T.Normalize(mean=[-15.0580, -63.8859, -43.7740],\n",
    "                            std=[19.4417, 48.3987, 21.0964])\n",
    "\n",
    "\n",
    "    if model.image_size==(224,224):\n",
    "        print(\"224\")\n",
    "        \n",
    "\n",
    "\n",
    "        trainset  = Audio_classification(\"train\",train_index,data,label_dic,time_audio_resize=5.2)\n",
    "        trainloader  = DataLoader(trainset , batch_size=64,\n",
    "                                shuffle=True, num_workers=0)\n",
    "\n",
    "        testset = Audio_classification(\"test\",test_index,data,label_dic,time_audio_resize=5.2)\n",
    "        testloader   = DataLoader(testset , batch_size=64,\n",
    "                                shuffle=False, num_workers=0)\n",
    "        sample_rate=22050\n",
    "        n_fft = 2048\n",
    "        win_length = None\n",
    "        hop_length = 512\n",
    "        n_mels = 256\n",
    "        n_mfcc = 224\n",
    "        log_mels=True\n",
    "        mfcc_transform = transforms.MFCC(\n",
    "            sample_rate=sample_rate,\n",
    "            n_mfcc=n_mfcc,log_mels=log_mels, melkwargs={'n_fft': n_fft, 'n_mels': n_mels, 'hop_length': hop_length})\n",
    "\n",
    "        # mfcc = mfcc_transform(waveform)\n",
    "        # plot_spectrogram(mfcc[0])\n",
    "\n",
    "        n_fft = 2048\n",
    "        win_length = None\n",
    "        hop_length = 512\n",
    "        n_mels = 224#128\n",
    "        sample_rate=22050\n",
    "        mel_spectrogram = transforms.MelSpectrogram(\n",
    "            sample_rate=sample_rate,\n",
    "            n_fft=n_fft,\n",
    "            win_length=win_length,\n",
    "            hop_length=hop_length,\n",
    "            center=True,\n",
    "            pad_mode=\"reflect\",\n",
    "            power=2.0,\n",
    "            norm='slaney',\n",
    "            onesided=True,\n",
    "            n_mels=n_mels,\n",
    "        )\n",
    "\n",
    "\n",
    "        n_fft = 446\n",
    "        win_length = None\n",
    "        hop_length = 512\n",
    "\n",
    "        # define transformation\n",
    "        spectrogram = transforms.Spectrogram(\n",
    "            n_fft=n_fft,\n",
    "            win_length=win_length,\n",
    "            hop_length=hop_length,\n",
    "            center=True,\n",
    "            pad_mode=\"reflect\",\n",
    "            power=2.0,\n",
    "        )\n",
    "        normalize_spec_db = T.Normalize(mean=[-13.8637, -53.9947, -21.2606],\n",
    "                            std=[19.2690, 49.1503, 22.0783])\n",
    "    \n",
    "    all_spectro=[mel_spectrogram.to(device),mfcc_transform.to(device),spectrogram.to(device)]\n",
    "\n",
    "    return normalize_spec_db, all_spectro, trainloader, testloader\n",
    "    # a=iter(trainloader)\n",
    "    # im,l=next(a)\n",
    "    # size_in=im.size(2)\n",
    "    # aa=mel_spectrogram(im)\n",
    "    # bb=spectrogram(im)\n",
    "    # aa.size(),bb.size()"
   ]
  },
  {
   "cell_type": "markdown",
   "metadata": {
    "heading_collapsed": true
   },
   "source": [
    "# train and test function"
   ]
  },
  {
   "cell_type": "markdown",
   "metadata": {},
   "source": [
    "# with spectro"
   ]
  },
  {
   "cell_type": "markdown",
   "metadata": {
    "heading_collapsed": true
   },
   "source": [
    "## import and create mel mfcc spectrogramm"
   ]
  },
  {
   "cell_type": "markdown",
   "metadata": {
    "heading_collapsed": true
   },
   "source": [
    "## train/test loader"
   ]
  },
  {
   "cell_type": "markdown",
   "metadata": {
    "heading_collapsed": true
   },
   "source": [
    "## calcul normalisation parameters mean/std"
   ]
  },
  {
   "cell_type": "markdown",
   "metadata": {
    "ExecuteTime": {
     "end_time": "2021-04-01T09:27:39.798505Z",
     "start_time": "2021-04-01T09:27:39.795495Z"
    }
   },
   "source": [
    "## plot spec"
   ]
  },
  {
   "cell_type": "code",
   "execution_count": 9,
   "metadata": {
    "ExecuteTime": {
     "end_time": "2021-04-04T10:56:07.976200Z",
     "start_time": "2021-04-04T10:56:07.972198Z"
    }
   },
   "outputs": [],
   "source": [
    "\n",
    "def plot_spectrogram(spec, title=None, ylabel='freq_bin', aspect='auto', xmax=None):\n",
    "  fig, axs = plt.subplots(1, 1)\n",
    "  axs.set_title(title or 'Spectrogram (db)')\n",
    "  axs.set_ylabel(ylabel)\n",
    "  axs.set_xlabel('frame')\n",
    "  im = axs.imshow(librosa.power_to_db(spec), origin='lower', aspect=aspect)#librosa.power_to_db(spec)\n",
    "  if xmax:\n",
    "    axs.set_xlim((0, xmax))\n",
    "  fig.colorbar(im, ax=axs)\n",
    "  plt.show(block=False)"
   ]
  },
  {
   "cell_type": "markdown",
   "metadata": {},
   "source": [
    "# transformer\n",
    "https://colab.research.google.com/drive/1muZ4QFgVfwALgqmrfOkp7trAvqDemckO?usp=sharing#scrollTo=sb13T_M0yFb1\n",
    "https://colab.research.google.com/github/ra1ph2/Vision-Transformer/blob/main/VisionTransformer.ipynb"
   ]
  },
  {
   "cell_type": "code",
   "execution_count": 10,
   "metadata": {
    "ExecuteTime": {
     "end_time": "2021-04-04T10:56:08.166217Z",
     "start_time": "2021-04-04T10:56:08.163203Z"
    },
    "scrolled": true
   },
   "outputs": [],
   "source": [
    "#!pip install --upgrade pytorch-pretrained-vit"
   ]
  },
  {
   "cell_type": "code",
   "execution_count": 11,
   "metadata": {
    "ExecuteTime": {
     "end_time": "2021-04-04T10:56:08.366217Z",
     "start_time": "2021-04-04T10:56:08.362377Z"
    },
    "scrolled": true
   },
   "outputs": [],
   "source": [
    "from pytorch_pretrained_vit import ViT\n",
    "\n",
    "device = torch.device(\"cuda\" if torch.cuda.is_available() else \"cpu\")\n",
    "from torchaudio import transforms\n",
    "from torchvision import transforms as T\n",
    "import torchvision.models as models\n",
    "from torchsummary import summary\n",
    "from pytorch_pretrained_vit.configs import PRETRAINED_MODELS\n"
   ]
  },
  {
   "cell_type": "code",
   "execution_count": 12,
   "metadata": {
    "ExecuteTime": {
     "end_time": "2021-04-04T10:56:08.570168Z",
     "start_time": "2021-04-04T10:56:08.551253Z"
    }
   },
   "outputs": [],
   "source": [
    "#train test  function\n",
    "\n",
    "#https://pytorch.org/tutorials/recipes/recipes/amp_recipe.html\n",
    "use_amp = False #mixed precision float 16\n",
    "scaler = torch.cuda.amp.GradScaler(enabled=use_amp)\n",
    "\n",
    "def train_transf(transformer,model, device, trainloader, criterion, optimizer, epoch,scheduler,all_spectro,transform_train_db, log_interval,grad_clip=None,Use_waveform=True):\n",
    "    model.train()\n",
    "    correct = 0\n",
    "    train_loss = 0\n",
    "    use_waveform=Use_waveform\n",
    "    for batch_idx, (data, target) in enumerate(tqdm(trainloader)):\n",
    "        data, target = data.to(device), target.to(device)\n",
    "        optimizer.zero_grad()\n",
    "        with torch.no_grad():\n",
    "            spec=torch.tensor([]).to(device)\n",
    "            if use_waveform:#use waveform only\n",
    "                #all_spectro=all_spectro[1:]\n",
    "#                 wave=data[:,:,:transformer.image_size[0]**2]\n",
    "#                 data=wave.view(wave.size(0),1,transformer.image_size[0],transformer.image_size[0]).repeat(1,3,1,1)\n",
    "                im=data\n",
    "                size_in=im.size(2)\n",
    "                zero_pad=torch.zeros(im.size(0),1,transformer.image_size[0]**2*3-size_in).to(device)\n",
    "                concat=torch.cat((zero_pad,im),2).view(im.size(0),3,transformer.image_size[0],transformer.image_size[0])\n",
    "                data=concat\n",
    "            else:\n",
    "                for spectro in all_spectro :\n",
    "                    spec1=spectro(data)\n",
    "                    spec=torch.cat((spec,spec1),1)\n",
    "                spec=spec.to(device)\n",
    "                spec=transform_train_db(spec)\n",
    "                #data=torch.cat((spec,data[:,:transformer.image_size[0]**2]),1)\n",
    "            transf_out = transformer(data).squeeze(0)#.repeat(1,3, 1, 1)\n",
    "        with torch.cuda.amp.autocast(enabled=use_amp): # full mixed precision enabled=use_amp   \n",
    "            output = model(transf_out)\n",
    "            loss = criterion(output, target.long())\n",
    "        scaler.scale(loss).backward()\n",
    "        if grad_clip: \n",
    "                nn.utils.clip_grad_value_(model.parameters(), grad_clip)\n",
    "        scaler.step(optimizer)\n",
    "        scaler.update()\n",
    "        optimizer.zero_grad()\n",
    "        scheduler.step()\n",
    "        \n",
    "        pred = output.argmax(dim=1, keepdim=True)\n",
    "        correct += pred.eq(target.view_as(pred)).sum().item()\n",
    "#         loss.backward()\n",
    "#         optimizer.step()\n",
    "        train_loss += loss.item()\n",
    "#     if batch_idx % log_interval == 0:\n",
    "    print('Train Epoch: {}  \\tLoss: {:.6f}   Accuracy: {}/{} ({:.0f}%'.format(\n",
    "        epoch, loss.item(), correct, len(trainloader.dataset), 100. * correct / len(trainloader.dataset)))\n",
    "    return train_loss/len(trainloader.dataset),100. * correct / len(trainloader.dataset)\n",
    "\n",
    "\n",
    "def test_transf(transformer,model, device, testloader,criterion,all_spectro,transform_test_db,Use_waveform=True):\n",
    "    use_waveform=Use_waveform\n",
    "    model.eval()\n",
    "    test_loss = 0\n",
    "    correct = 0\n",
    "    with torch.no_grad():\n",
    "        for data, target in testloader:\n",
    "            data, target = data.to(device), target.to(device)\n",
    "            if use_waveform:#use waveform only\n",
    "                #all_spectro=all_spectro[1:]\n",
    "#                 wave=data[:,:,:transformer.image_size[0]**2]\n",
    "#                 data=wave.view(wave.size(0),1,transformer.image_size[0],transformer.image_size[0]).repeat(1,3,1,1)\n",
    "                im=data\n",
    "                size_in=im.size(2)\n",
    "                zero_pad=torch.zeros(im.size(0),1,transformer.image_size[0]**2*3-size_in).to(device)\n",
    "                concat=torch.cat((zero_pad,im),2).view(im.size(0),3,transformer.image_size[0],transformer.image_size[0])\n",
    "                data=concat\n",
    "            else:\n",
    "                spec=torch.tensor([]).to(device)\n",
    "                for spectro in all_spectro :\n",
    "                    spec1=spectro(data)\n",
    "                    spec=torch.cat((spec,spec1),1)\n",
    "                data=spec.to(device)\n",
    "                data=transform_test_db(data)\n",
    "            transf_out = transformer(data).squeeze(0)\n",
    "            output = model(transf_out)\n",
    "            test_loss += criterion(output, target.long()).item()  # sum up batch loss\n",
    "            pred = output.argmax(dim=1, keepdim=True)  # get the index of the max log-probability\n",
    "            correct += pred.eq(target.view_as(pred)).sum().item()\n",
    "\n",
    "    test_loss /= len(testloader.dataset)\n",
    "\n",
    "    print('\\nTest set: Average loss: {:.4f}, Accuracy: {}/{} ({:.0f}%)\\n'.format(\n",
    "        test_loss, correct, len(testloader.dataset),\n",
    "        100. * correct / len(testloader.dataset)))\n",
    "    return test_loss,100. * correct / len(testloader.dataset)"
   ]
  },
  {
   "cell_type": "code",
   "execution_count": null,
   "metadata": {
    "ExecuteTime": {
     "end_time": "2021-04-02T11:44:13.542908Z",
     "start_time": "2021-04-02T11:44:13.475867Z"
    },
    "scrolled": true
   },
   "outputs": [],
   "source": []
  },
  {
   "cell_type": "code",
   "execution_count": null,
   "metadata": {},
   "outputs": [],
   "source": []
  },
  {
   "cell_type": "code",
   "execution_count": null,
   "metadata": {
    "ExecuteTime": {
     "end_time": "2021-04-03T15:00:27.861617Z",
     "start_time": "2021-04-03T15:00:27.842620Z"
    }
   },
   "outputs": [],
   "source": []
  },
  {
   "cell_type": "code",
   "execution_count": 13,
   "metadata": {
    "ExecuteTime": {
     "end_time": "2021-04-04T10:56:08.764282Z",
     "start_time": "2021-04-04T10:56:08.760608Z"
    }
   },
   "outputs": [],
   "source": [
    "\n",
    "# trans=[mel_spectrogram,mfcc_transform,spectrogram]\n",
    "# amp_db=transforms.AmplitudeToDB()\n",
    "# db=True\n",
    "# means=[[],[],[]]\n",
    "# stds=[[],[],[]]\n",
    "# for batch_idx, (im, target) in enumerate(tqdm(trainloader)):\n",
    "#     for i in range(len(trans)):\n",
    "#         if db:\n",
    "#             means[i].append(torch.mean(amp_db(trans[i](im))))\n",
    "#             stds[i].append(torch.std(amp_db(trans[i](im))))\n",
    "\n",
    "#         else:\n",
    "#             means[i].append(torch.mean(trans[i](im)))\n",
    "#             stds[i].append(torch.std(trans[i](im)))\n",
    "\n",
    "# mean = torch.mean(torch.tensor(means),1)\n",
    "# std = torch.mean(torch.tensor(stds),1)\n",
    "# print(mean,std)\n"
   ]
  },
  {
   "cell_type": "code",
   "execution_count": 12,
   "metadata": {
    "ExecuteTime": {
     "end_time": "2021-04-04T09:21:36.154694Z",
     "start_time": "2021-04-04T09:21:36.150960Z"
    }
   },
   "outputs": [],
   "source": [
    "#Pretrained on ImageNet-21k and fine tune on ImageNet-1k\n",
    "model_name = 'B_16_imagenet1k' #86859496\n",
    "model_name = \"B_32_imagenet1k\" #88297192\n",
    "model_name = \"B_32_imagenet1k\" #88297192\n",
    "model_name =\"L_16_imagenet1k\" #304 715 752\n",
    "model_name =\"L_32_imagenet1k\" #306 632 680\n",
    "# just Pretrained on ImageNet-21k\n",
    "model_name =\"L_32\" #327 899 475\n",
    "model_name =\"B_16\" #102 595 923\n",
    "model_name =\"B_32\" #104 252 499\n",
    "model_name =\"L_16\" # pretraine param not avaiable\n",
    "model_name =\"L_32\" #327 899 475\n",
    "# count_parameters(model)"
   ]
  },
  {
   "cell_type": "code",
   "execution_count": 14,
   "metadata": {
    "ExecuteTime": {
     "end_time": "2021-04-04T10:56:25.320390Z",
     "start_time": "2021-04-04T10:56:16.511321Z"
    },
    "scrolled": true
   },
   "outputs": [
    {
     "name": "stdout",
     "output_type": "stream",
     "text": [
      "Loaded pretrained weights.\n"
     ]
    },
    {
     "data": {
      "text/plain": [
       "(384, 384)"
      ]
     },
     "execution_count": 14,
     "metadata": {},
     "output_type": "execute_result"
    }
   ],
   "source": [
    "\n",
    "model_name =\"L_16_imagenet1k\"# 'B_16_imagenet1k'\n",
    "\n",
    "model = ViT(model_name, pretrained=True).to(device)\n",
    "model.fc=nn.Identity()\n",
    "\n",
    "model.image_size"
   ]
  },
  {
   "cell_type": "code",
   "execution_count": 14,
   "metadata": {
    "ExecuteTime": {
     "end_time": "2021-04-04T09:20:41.854233Z",
     "start_time": "2021-04-04T09:20:41.846233Z"
    }
   },
   "outputs": [
    {
     "data": {
      "text/plain": [
       "ViT(\n",
       "  (patch_embedding): Conv2d(3, 1024, kernel_size=(16, 16), stride=(16, 16))\n",
       "  (positional_embedding): PositionalEmbedding1D()\n",
       "  (transformer): Transformer(\n",
       "    (blocks): ModuleList(\n",
       "      (0): Block(\n",
       "        (attn): MultiHeadedSelfAttention(\n",
       "          (proj_q): Linear(in_features=1024, out_features=1024, bias=True)\n",
       "          (proj_k): Linear(in_features=1024, out_features=1024, bias=True)\n",
       "          (proj_v): Linear(in_features=1024, out_features=1024, bias=True)\n",
       "          (drop): Dropout(p=0.1, inplace=False)\n",
       "        )\n",
       "        (proj): Linear(in_features=1024, out_features=1024, bias=True)\n",
       "        (norm1): LayerNorm((1024,), eps=1e-06, elementwise_affine=True)\n",
       "        (pwff): PositionWiseFeedForward(\n",
       "          (fc1): Linear(in_features=1024, out_features=4096, bias=True)\n",
       "          (fc2): Linear(in_features=4096, out_features=1024, bias=True)\n",
       "        )\n",
       "        (norm2): LayerNorm((1024,), eps=1e-06, elementwise_affine=True)\n",
       "        (drop): Dropout(p=0.1, inplace=False)\n",
       "      )\n",
       "      (1): Block(\n",
       "        (attn): MultiHeadedSelfAttention(\n",
       "          (proj_q): Linear(in_features=1024, out_features=1024, bias=True)\n",
       "          (proj_k): Linear(in_features=1024, out_features=1024, bias=True)\n",
       "          (proj_v): Linear(in_features=1024, out_features=1024, bias=True)\n",
       "          (drop): Dropout(p=0.1, inplace=False)\n",
       "        )\n",
       "        (proj): Linear(in_features=1024, out_features=1024, bias=True)\n",
       "        (norm1): LayerNorm((1024,), eps=1e-06, elementwise_affine=True)\n",
       "        (pwff): PositionWiseFeedForward(\n",
       "          (fc1): Linear(in_features=1024, out_features=4096, bias=True)\n",
       "          (fc2): Linear(in_features=4096, out_features=1024, bias=True)\n",
       "        )\n",
       "        (norm2): LayerNorm((1024,), eps=1e-06, elementwise_affine=True)\n",
       "        (drop): Dropout(p=0.1, inplace=False)\n",
       "      )\n",
       "      (2): Block(\n",
       "        (attn): MultiHeadedSelfAttention(\n",
       "          (proj_q): Linear(in_features=1024, out_features=1024, bias=True)\n",
       "          (proj_k): Linear(in_features=1024, out_features=1024, bias=True)\n",
       "          (proj_v): Linear(in_features=1024, out_features=1024, bias=True)\n",
       "          (drop): Dropout(p=0.1, inplace=False)\n",
       "        )\n",
       "        (proj): Linear(in_features=1024, out_features=1024, bias=True)\n",
       "        (norm1): LayerNorm((1024,), eps=1e-06, elementwise_affine=True)\n",
       "        (pwff): PositionWiseFeedForward(\n",
       "          (fc1): Linear(in_features=1024, out_features=4096, bias=True)\n",
       "          (fc2): Linear(in_features=4096, out_features=1024, bias=True)\n",
       "        )\n",
       "        (norm2): LayerNorm((1024,), eps=1e-06, elementwise_affine=True)\n",
       "        (drop): Dropout(p=0.1, inplace=False)\n",
       "      )\n",
       "      (3): Block(\n",
       "        (attn): MultiHeadedSelfAttention(\n",
       "          (proj_q): Linear(in_features=1024, out_features=1024, bias=True)\n",
       "          (proj_k): Linear(in_features=1024, out_features=1024, bias=True)\n",
       "          (proj_v): Linear(in_features=1024, out_features=1024, bias=True)\n",
       "          (drop): Dropout(p=0.1, inplace=False)\n",
       "        )\n",
       "        (proj): Linear(in_features=1024, out_features=1024, bias=True)\n",
       "        (norm1): LayerNorm((1024,), eps=1e-06, elementwise_affine=True)\n",
       "        (pwff): PositionWiseFeedForward(\n",
       "          (fc1): Linear(in_features=1024, out_features=4096, bias=True)\n",
       "          (fc2): Linear(in_features=4096, out_features=1024, bias=True)\n",
       "        )\n",
       "        (norm2): LayerNorm((1024,), eps=1e-06, elementwise_affine=True)\n",
       "        (drop): Dropout(p=0.1, inplace=False)\n",
       "      )\n",
       "      (4): Block(\n",
       "        (attn): MultiHeadedSelfAttention(\n",
       "          (proj_q): Linear(in_features=1024, out_features=1024, bias=True)\n",
       "          (proj_k): Linear(in_features=1024, out_features=1024, bias=True)\n",
       "          (proj_v): Linear(in_features=1024, out_features=1024, bias=True)\n",
       "          (drop): Dropout(p=0.1, inplace=False)\n",
       "        )\n",
       "        (proj): Linear(in_features=1024, out_features=1024, bias=True)\n",
       "        (norm1): LayerNorm((1024,), eps=1e-06, elementwise_affine=True)\n",
       "        (pwff): PositionWiseFeedForward(\n",
       "          (fc1): Linear(in_features=1024, out_features=4096, bias=True)\n",
       "          (fc2): Linear(in_features=4096, out_features=1024, bias=True)\n",
       "        )\n",
       "        (norm2): LayerNorm((1024,), eps=1e-06, elementwise_affine=True)\n",
       "        (drop): Dropout(p=0.1, inplace=False)\n",
       "      )\n",
       "      (5): Block(\n",
       "        (attn): MultiHeadedSelfAttention(\n",
       "          (proj_q): Linear(in_features=1024, out_features=1024, bias=True)\n",
       "          (proj_k): Linear(in_features=1024, out_features=1024, bias=True)\n",
       "          (proj_v): Linear(in_features=1024, out_features=1024, bias=True)\n",
       "          (drop): Dropout(p=0.1, inplace=False)\n",
       "        )\n",
       "        (proj): Linear(in_features=1024, out_features=1024, bias=True)\n",
       "        (norm1): LayerNorm((1024,), eps=1e-06, elementwise_affine=True)\n",
       "        (pwff): PositionWiseFeedForward(\n",
       "          (fc1): Linear(in_features=1024, out_features=4096, bias=True)\n",
       "          (fc2): Linear(in_features=4096, out_features=1024, bias=True)\n",
       "        )\n",
       "        (norm2): LayerNorm((1024,), eps=1e-06, elementwise_affine=True)\n",
       "        (drop): Dropout(p=0.1, inplace=False)\n",
       "      )\n",
       "      (6): Block(\n",
       "        (attn): MultiHeadedSelfAttention(\n",
       "          (proj_q): Linear(in_features=1024, out_features=1024, bias=True)\n",
       "          (proj_k): Linear(in_features=1024, out_features=1024, bias=True)\n",
       "          (proj_v): Linear(in_features=1024, out_features=1024, bias=True)\n",
       "          (drop): Dropout(p=0.1, inplace=False)\n",
       "        )\n",
       "        (proj): Linear(in_features=1024, out_features=1024, bias=True)\n",
       "        (norm1): LayerNorm((1024,), eps=1e-06, elementwise_affine=True)\n",
       "        (pwff): PositionWiseFeedForward(\n",
       "          (fc1): Linear(in_features=1024, out_features=4096, bias=True)\n",
       "          (fc2): Linear(in_features=4096, out_features=1024, bias=True)\n",
       "        )\n",
       "        (norm2): LayerNorm((1024,), eps=1e-06, elementwise_affine=True)\n",
       "        (drop): Dropout(p=0.1, inplace=False)\n",
       "      )\n",
       "      (7): Block(\n",
       "        (attn): MultiHeadedSelfAttention(\n",
       "          (proj_q): Linear(in_features=1024, out_features=1024, bias=True)\n",
       "          (proj_k): Linear(in_features=1024, out_features=1024, bias=True)\n",
       "          (proj_v): Linear(in_features=1024, out_features=1024, bias=True)\n",
       "          (drop): Dropout(p=0.1, inplace=False)\n",
       "        )\n",
       "        (proj): Linear(in_features=1024, out_features=1024, bias=True)\n",
       "        (norm1): LayerNorm((1024,), eps=1e-06, elementwise_affine=True)\n",
       "        (pwff): PositionWiseFeedForward(\n",
       "          (fc1): Linear(in_features=1024, out_features=4096, bias=True)\n",
       "          (fc2): Linear(in_features=4096, out_features=1024, bias=True)\n",
       "        )\n",
       "        (norm2): LayerNorm((1024,), eps=1e-06, elementwise_affine=True)\n",
       "        (drop): Dropout(p=0.1, inplace=False)\n",
       "      )\n",
       "      (8): Block(\n",
       "        (attn): MultiHeadedSelfAttention(\n",
       "          (proj_q): Linear(in_features=1024, out_features=1024, bias=True)\n",
       "          (proj_k): Linear(in_features=1024, out_features=1024, bias=True)\n",
       "          (proj_v): Linear(in_features=1024, out_features=1024, bias=True)\n",
       "          (drop): Dropout(p=0.1, inplace=False)\n",
       "        )\n",
       "        (proj): Linear(in_features=1024, out_features=1024, bias=True)\n",
       "        (norm1): LayerNorm((1024,), eps=1e-06, elementwise_affine=True)\n",
       "        (pwff): PositionWiseFeedForward(\n",
       "          (fc1): Linear(in_features=1024, out_features=4096, bias=True)\n",
       "          (fc2): Linear(in_features=4096, out_features=1024, bias=True)\n",
       "        )\n",
       "        (norm2): LayerNorm((1024,), eps=1e-06, elementwise_affine=True)\n",
       "        (drop): Dropout(p=0.1, inplace=False)\n",
       "      )\n",
       "      (9): Block(\n",
       "        (attn): MultiHeadedSelfAttention(\n",
       "          (proj_q): Linear(in_features=1024, out_features=1024, bias=True)\n",
       "          (proj_k): Linear(in_features=1024, out_features=1024, bias=True)\n",
       "          (proj_v): Linear(in_features=1024, out_features=1024, bias=True)\n",
       "          (drop): Dropout(p=0.1, inplace=False)\n",
       "        )\n",
       "        (proj): Linear(in_features=1024, out_features=1024, bias=True)\n",
       "        (norm1): LayerNorm((1024,), eps=1e-06, elementwise_affine=True)\n",
       "        (pwff): PositionWiseFeedForward(\n",
       "          (fc1): Linear(in_features=1024, out_features=4096, bias=True)\n",
       "          (fc2): Linear(in_features=4096, out_features=1024, bias=True)\n",
       "        )\n",
       "        (norm2): LayerNorm((1024,), eps=1e-06, elementwise_affine=True)\n",
       "        (drop): Dropout(p=0.1, inplace=False)\n",
       "      )\n",
       "      (10): Block(\n",
       "        (attn): MultiHeadedSelfAttention(\n",
       "          (proj_q): Linear(in_features=1024, out_features=1024, bias=True)\n",
       "          (proj_k): Linear(in_features=1024, out_features=1024, bias=True)\n",
       "          (proj_v): Linear(in_features=1024, out_features=1024, bias=True)\n",
       "          (drop): Dropout(p=0.1, inplace=False)\n",
       "        )\n",
       "        (proj): Linear(in_features=1024, out_features=1024, bias=True)\n",
       "        (norm1): LayerNorm((1024,), eps=1e-06, elementwise_affine=True)\n",
       "        (pwff): PositionWiseFeedForward(\n",
       "          (fc1): Linear(in_features=1024, out_features=4096, bias=True)\n",
       "          (fc2): Linear(in_features=4096, out_features=1024, bias=True)\n",
       "        )\n",
       "        (norm2): LayerNorm((1024,), eps=1e-06, elementwise_affine=True)\n",
       "        (drop): Dropout(p=0.1, inplace=False)\n",
       "      )\n",
       "      (11): Block(\n",
       "        (attn): MultiHeadedSelfAttention(\n",
       "          (proj_q): Linear(in_features=1024, out_features=1024, bias=True)\n",
       "          (proj_k): Linear(in_features=1024, out_features=1024, bias=True)\n",
       "          (proj_v): Linear(in_features=1024, out_features=1024, bias=True)\n",
       "          (drop): Dropout(p=0.1, inplace=False)\n",
       "        )\n",
       "        (proj): Linear(in_features=1024, out_features=1024, bias=True)\n",
       "        (norm1): LayerNorm((1024,), eps=1e-06, elementwise_affine=True)\n",
       "        (pwff): PositionWiseFeedForward(\n",
       "          (fc1): Linear(in_features=1024, out_features=4096, bias=True)\n",
       "          (fc2): Linear(in_features=4096, out_features=1024, bias=True)\n",
       "        )\n",
       "        (norm2): LayerNorm((1024,), eps=1e-06, elementwise_affine=True)\n",
       "        (drop): Dropout(p=0.1, inplace=False)\n",
       "      )\n",
       "      (12): Block(\n",
       "        (attn): MultiHeadedSelfAttention(\n",
       "          (proj_q): Linear(in_features=1024, out_features=1024, bias=True)\n",
       "          (proj_k): Linear(in_features=1024, out_features=1024, bias=True)\n",
       "          (proj_v): Linear(in_features=1024, out_features=1024, bias=True)\n",
       "          (drop): Dropout(p=0.1, inplace=False)\n",
       "        )\n",
       "        (proj): Linear(in_features=1024, out_features=1024, bias=True)\n",
       "        (norm1): LayerNorm((1024,), eps=1e-06, elementwise_affine=True)\n",
       "        (pwff): PositionWiseFeedForward(\n",
       "          (fc1): Linear(in_features=1024, out_features=4096, bias=True)\n",
       "          (fc2): Linear(in_features=4096, out_features=1024, bias=True)\n",
       "        )\n",
       "        (norm2): LayerNorm((1024,), eps=1e-06, elementwise_affine=True)\n",
       "        (drop): Dropout(p=0.1, inplace=False)\n",
       "      )\n",
       "      (13): Block(\n",
       "        (attn): MultiHeadedSelfAttention(\n",
       "          (proj_q): Linear(in_features=1024, out_features=1024, bias=True)\n",
       "          (proj_k): Linear(in_features=1024, out_features=1024, bias=True)\n",
       "          (proj_v): Linear(in_features=1024, out_features=1024, bias=True)\n",
       "          (drop): Dropout(p=0.1, inplace=False)\n",
       "        )\n",
       "        (proj): Linear(in_features=1024, out_features=1024, bias=True)\n",
       "        (norm1): LayerNorm((1024,), eps=1e-06, elementwise_affine=True)\n",
       "        (pwff): PositionWiseFeedForward(\n",
       "          (fc1): Linear(in_features=1024, out_features=4096, bias=True)\n",
       "          (fc2): Linear(in_features=4096, out_features=1024, bias=True)\n",
       "        )\n",
       "        (norm2): LayerNorm((1024,), eps=1e-06, elementwise_affine=True)\n",
       "        (drop): Dropout(p=0.1, inplace=False)\n",
       "      )\n",
       "      (14): Block(\n",
       "        (attn): MultiHeadedSelfAttention(\n",
       "          (proj_q): Linear(in_features=1024, out_features=1024, bias=True)\n",
       "          (proj_k): Linear(in_features=1024, out_features=1024, bias=True)\n",
       "          (proj_v): Linear(in_features=1024, out_features=1024, bias=True)\n",
       "          (drop): Dropout(p=0.1, inplace=False)\n",
       "        )\n",
       "        (proj): Linear(in_features=1024, out_features=1024, bias=True)\n",
       "        (norm1): LayerNorm((1024,), eps=1e-06, elementwise_affine=True)\n",
       "        (pwff): PositionWiseFeedForward(\n",
       "          (fc1): Linear(in_features=1024, out_features=4096, bias=True)\n",
       "          (fc2): Linear(in_features=4096, out_features=1024, bias=True)\n",
       "        )\n",
       "        (norm2): LayerNorm((1024,), eps=1e-06, elementwise_affine=True)\n",
       "        (drop): Dropout(p=0.1, inplace=False)\n",
       "      )\n",
       "      (15): Block(\n",
       "        (attn): MultiHeadedSelfAttention(\n",
       "          (proj_q): Linear(in_features=1024, out_features=1024, bias=True)\n",
       "          (proj_k): Linear(in_features=1024, out_features=1024, bias=True)\n",
       "          (proj_v): Linear(in_features=1024, out_features=1024, bias=True)\n",
       "          (drop): Dropout(p=0.1, inplace=False)\n",
       "        )\n",
       "        (proj): Linear(in_features=1024, out_features=1024, bias=True)\n",
       "        (norm1): LayerNorm((1024,), eps=1e-06, elementwise_affine=True)\n",
       "        (pwff): PositionWiseFeedForward(\n",
       "          (fc1): Linear(in_features=1024, out_features=4096, bias=True)\n",
       "          (fc2): Linear(in_features=4096, out_features=1024, bias=True)\n",
       "        )\n",
       "        (norm2): LayerNorm((1024,), eps=1e-06, elementwise_affine=True)\n",
       "        (drop): Dropout(p=0.1, inplace=False)\n",
       "      )\n",
       "      (16): Block(\n",
       "        (attn): MultiHeadedSelfAttention(\n",
       "          (proj_q): Linear(in_features=1024, out_features=1024, bias=True)\n",
       "          (proj_k): Linear(in_features=1024, out_features=1024, bias=True)\n",
       "          (proj_v): Linear(in_features=1024, out_features=1024, bias=True)\n",
       "          (drop): Dropout(p=0.1, inplace=False)\n",
       "        )\n",
       "        (proj): Linear(in_features=1024, out_features=1024, bias=True)\n",
       "        (norm1): LayerNorm((1024,), eps=1e-06, elementwise_affine=True)\n",
       "        (pwff): PositionWiseFeedForward(\n",
       "          (fc1): Linear(in_features=1024, out_features=4096, bias=True)\n",
       "          (fc2): Linear(in_features=4096, out_features=1024, bias=True)\n",
       "        )\n",
       "        (norm2): LayerNorm((1024,), eps=1e-06, elementwise_affine=True)\n",
       "        (drop): Dropout(p=0.1, inplace=False)\n",
       "      )\n",
       "      (17): Block(\n",
       "        (attn): MultiHeadedSelfAttention(\n",
       "          (proj_q): Linear(in_features=1024, out_features=1024, bias=True)\n",
       "          (proj_k): Linear(in_features=1024, out_features=1024, bias=True)\n",
       "          (proj_v): Linear(in_features=1024, out_features=1024, bias=True)\n",
       "          (drop): Dropout(p=0.1, inplace=False)\n",
       "        )\n",
       "        (proj): Linear(in_features=1024, out_features=1024, bias=True)\n",
       "        (norm1): LayerNorm((1024,), eps=1e-06, elementwise_affine=True)\n",
       "        (pwff): PositionWiseFeedForward(\n",
       "          (fc1): Linear(in_features=1024, out_features=4096, bias=True)\n",
       "          (fc2): Linear(in_features=4096, out_features=1024, bias=True)\n",
       "        )\n",
       "        (norm2): LayerNorm((1024,), eps=1e-06, elementwise_affine=True)\n",
       "        (drop): Dropout(p=0.1, inplace=False)\n",
       "      )\n",
       "      (18): Block(\n",
       "        (attn): MultiHeadedSelfAttention(\n",
       "          (proj_q): Linear(in_features=1024, out_features=1024, bias=True)\n",
       "          (proj_k): Linear(in_features=1024, out_features=1024, bias=True)\n",
       "          (proj_v): Linear(in_features=1024, out_features=1024, bias=True)\n",
       "          (drop): Dropout(p=0.1, inplace=False)\n",
       "        )\n",
       "        (proj): Linear(in_features=1024, out_features=1024, bias=True)\n",
       "        (norm1): LayerNorm((1024,), eps=1e-06, elementwise_affine=True)\n",
       "        (pwff): PositionWiseFeedForward(\n",
       "          (fc1): Linear(in_features=1024, out_features=4096, bias=True)\n",
       "          (fc2): Linear(in_features=4096, out_features=1024, bias=True)\n",
       "        )\n",
       "        (norm2): LayerNorm((1024,), eps=1e-06, elementwise_affine=True)\n",
       "        (drop): Dropout(p=0.1, inplace=False)\n",
       "      )\n",
       "      (19): Block(\n",
       "        (attn): MultiHeadedSelfAttention(\n",
       "          (proj_q): Linear(in_features=1024, out_features=1024, bias=True)\n",
       "          (proj_k): Linear(in_features=1024, out_features=1024, bias=True)\n",
       "          (proj_v): Linear(in_features=1024, out_features=1024, bias=True)\n",
       "          (drop): Dropout(p=0.1, inplace=False)\n",
       "        )\n",
       "        (proj): Linear(in_features=1024, out_features=1024, bias=True)\n",
       "        (norm1): LayerNorm((1024,), eps=1e-06, elementwise_affine=True)\n",
       "        (pwff): PositionWiseFeedForward(\n",
       "          (fc1): Linear(in_features=1024, out_features=4096, bias=True)\n",
       "          (fc2): Linear(in_features=4096, out_features=1024, bias=True)\n",
       "        )\n",
       "        (norm2): LayerNorm((1024,), eps=1e-06, elementwise_affine=True)\n",
       "        (drop): Dropout(p=0.1, inplace=False)\n",
       "      )\n",
       "      (20): Block(\n",
       "        (attn): MultiHeadedSelfAttention(\n",
       "          (proj_q): Linear(in_features=1024, out_features=1024, bias=True)\n",
       "          (proj_k): Linear(in_features=1024, out_features=1024, bias=True)\n",
       "          (proj_v): Linear(in_features=1024, out_features=1024, bias=True)\n",
       "          (drop): Dropout(p=0.1, inplace=False)\n",
       "        )\n",
       "        (proj): Linear(in_features=1024, out_features=1024, bias=True)\n",
       "        (norm1): LayerNorm((1024,), eps=1e-06, elementwise_affine=True)\n",
       "        (pwff): PositionWiseFeedForward(\n",
       "          (fc1): Linear(in_features=1024, out_features=4096, bias=True)\n",
       "          (fc2): Linear(in_features=4096, out_features=1024, bias=True)\n",
       "        )\n",
       "        (norm2): LayerNorm((1024,), eps=1e-06, elementwise_affine=True)\n",
       "        (drop): Dropout(p=0.1, inplace=False)\n",
       "      )\n",
       "      (21): Block(\n",
       "        (attn): MultiHeadedSelfAttention(\n",
       "          (proj_q): Linear(in_features=1024, out_features=1024, bias=True)\n",
       "          (proj_k): Linear(in_features=1024, out_features=1024, bias=True)\n",
       "          (proj_v): Linear(in_features=1024, out_features=1024, bias=True)\n",
       "          (drop): Dropout(p=0.1, inplace=False)\n",
       "        )\n",
       "        (proj): Linear(in_features=1024, out_features=1024, bias=True)\n",
       "        (norm1): LayerNorm((1024,), eps=1e-06, elementwise_affine=True)\n",
       "        (pwff): PositionWiseFeedForward(\n",
       "          (fc1): Linear(in_features=1024, out_features=4096, bias=True)\n",
       "          (fc2): Linear(in_features=4096, out_features=1024, bias=True)\n",
       "        )\n",
       "        (norm2): LayerNorm((1024,), eps=1e-06, elementwise_affine=True)\n",
       "        (drop): Dropout(p=0.1, inplace=False)\n",
       "      )\n",
       "      (22): Block(\n",
       "        (attn): MultiHeadedSelfAttention(\n",
       "          (proj_q): Linear(in_features=1024, out_features=1024, bias=True)\n",
       "          (proj_k): Linear(in_features=1024, out_features=1024, bias=True)\n",
       "          (proj_v): Linear(in_features=1024, out_features=1024, bias=True)\n",
       "          (drop): Dropout(p=0.1, inplace=False)\n",
       "        )\n",
       "        (proj): Linear(in_features=1024, out_features=1024, bias=True)\n",
       "        (norm1): LayerNorm((1024,), eps=1e-06, elementwise_affine=True)\n",
       "        (pwff): PositionWiseFeedForward(\n",
       "          (fc1): Linear(in_features=1024, out_features=4096, bias=True)\n",
       "          (fc2): Linear(in_features=4096, out_features=1024, bias=True)\n",
       "        )\n",
       "        (norm2): LayerNorm((1024,), eps=1e-06, elementwise_affine=True)\n",
       "        (drop): Dropout(p=0.1, inplace=False)\n",
       "      )\n",
       "      (23): Block(\n",
       "        (attn): MultiHeadedSelfAttention(\n",
       "          (proj_q): Linear(in_features=1024, out_features=1024, bias=True)\n",
       "          (proj_k): Linear(in_features=1024, out_features=1024, bias=True)\n",
       "          (proj_v): Linear(in_features=1024, out_features=1024, bias=True)\n",
       "          (drop): Dropout(p=0.1, inplace=False)\n",
       "        )\n",
       "        (proj): Linear(in_features=1024, out_features=1024, bias=True)\n",
       "        (norm1): LayerNorm((1024,), eps=1e-06, elementwise_affine=True)\n",
       "        (pwff): PositionWiseFeedForward(\n",
       "          (fc1): Linear(in_features=1024, out_features=4096, bias=True)\n",
       "          (fc2): Linear(in_features=4096, out_features=1024, bias=True)\n",
       "        )\n",
       "        (norm2): LayerNorm((1024,), eps=1e-06, elementwise_affine=True)\n",
       "        (drop): Dropout(p=0.1, inplace=False)\n",
       "      )\n",
       "    )\n",
       "  )\n",
       "  (norm): LayerNorm((1024,), eps=1e-06, elementwise_affine=True)\n",
       "  (fc): Identity()\n",
       ")"
      ]
     },
     "execution_count": 14,
     "metadata": {},
     "output_type": "execute_result"
    }
   ],
   "source": [
    "model"
   ]
  },
  {
   "cell_type": "code",
   "execution_count": 15,
   "metadata": {
    "ExecuteTime": {
     "end_time": "2021-04-04T10:56:25.546390Z",
     "start_time": "2021-04-04T10:56:25.521389Z"
    },
    "scrolled": true
   },
   "outputs": [
    {
     "name": "stdout",
     "output_type": "stream",
     "text": [
      "384\n"
     ]
    },
    {
     "name": "stderr",
     "output_type": "stream",
     "text": [
      "C:\\Users\\lejuj\\Anaconda3\\envs\\torchaudio\\lib\\site-packages\\torchaudio\\functional\\functional.py:358: UserWarning: At least one mel filterbank has all zero values. The value for `n_mels` (512) may be set too high. Or, the value for `n_freqs` (1025) may be set too low.\n",
      "  \"At least one mel filterbank has all zero values. \"\n",
      "C:\\Users\\lejuj\\Anaconda3\\envs\\torchaudio\\lib\\site-packages\\torchaudio\\functional\\functional.py:358: UserWarning: At least one mel filterbank has all zero values. The value for `n_mels` (384) may be set too high. Or, the value for `n_freqs` (1025) may be set too low.\n",
      "  \"At least one mel filterbank has all zero values. \"\n"
     ]
    }
   ],
   "source": [
    "amp_db=transforms.AmplitudeToDB().to(device)\n",
    "\n",
    "# index = 1\n",
    "   \n",
    "normalize_spec_db, all_spectro, trainloader, testloader=init_param(model)\n",
    "use_wave=False\n",
    "if use_wave==True:\n",
    "\n",
    "    trainset  = Audio_classification(\"train\",train_index,data,label_dic,time_audio_resize=15)\n",
    "    trainloader  = DataLoader(trainset , batch_size=4,\n",
    "                            shuffle=True, num_workers=0)\n",
    "\n",
    "    testset = Audio_classification(\"test\",test_index,data,label_dic,time_audio_resize=15)\n",
    "    testloader   = DataLoader(testset , batch_size=4,\n",
    "                        shuffle=False, num_workers=0)\n",
    "\n",
    "transform_train_db = T.Compose([  amp_db,     \n",
    "                                \n",
    "        normalize_spec_db,\n",
    "         # transforms.TimeStretch(fixed_rate =1.2),\n",
    "        #transforms.TimeMasking(time_mask_param=20),\n",
    "        #transforms.FrequencyMasking(freq_mask_param=30),\n",
    "        #T.RandomHorizontalFlip(),\n",
    "        #T.Resize((image_size,image_size))\n",
    "                       ])\n",
    "transform_test_db = T.Compose([amp_db,           \n",
    "        normalize_spec_db])\n"
   ]
  },
  {
   "cell_type": "code",
   "execution_count": 16,
   "metadata": {
    "ExecuteTime": {
     "end_time": "2021-04-04T10:56:25.794390Z",
     "start_time": "2021-04-04T10:56:25.790389Z"
    }
   },
   "outputs": [],
   "source": [
    "class Mish(nn.Module):\n",
    "    def __init__(self):\n",
    "        super(Mish, self).__init__()\n",
    "    def forward(self, input):\n",
    "        return input * torch.tanh(F.softplus(input))"
   ]
  },
  {
   "cell_type": "code",
   "execution_count": 17,
   "metadata": {
    "ExecuteTime": {
     "end_time": "2021-04-04T10:56:26.006390Z",
     "start_time": "2021-04-04T10:56:25.999654Z"
    }
   },
   "outputs": [],
   "source": [
    "model=model.to(device)"
   ]
  },
  {
   "cell_type": "code",
   "execution_count": 18,
   "metadata": {
    "ExecuteTime": {
     "end_time": "2021-04-04T10:56:26.231454Z",
     "start_time": "2021-04-04T10:56:26.210553Z"
    }
   },
   "outputs": [],
   "source": [
    "torch.cuda.empty_cache()\n",
    "criterion = nn.CrossEntropyLoss()\n",
    "grad_clip = 0.2\n",
    "weight_decay = 1e-6\n",
    "#post_transf=nn.Sequential(nn.Linear(21843,512),nn.ReLU(),nn.Linear(512,8)).to(device)\n",
    "# TRY\n",
    "# post_transf=nn.Sequential(nn.Linear(768,512),nn.ReLU(),nn.Linear(512,8)).to(device)\n",
    "post_transf=nn.Sequential(nn.Linear(1024,1024),Mish(),nn.Linear(1024,1024),Mish(),nn.Linear(1024,8)).to(device)\n",
    "\n",
    "optimizer = optim.Adam(post_transf.parameters(), lr=0.001,weight_decay=0)\n",
    "Train_loss=[]\n",
    "Test_loss=[]\n",
    "Train_correct=[]\n",
    "Test_correct=[]\n"
   ]
  },
  {
   "cell_type": "code",
   "execution_count": 20,
   "metadata": {
    "ExecuteTime": {
     "end_time": "2021-04-04T18:43:52.245369Z",
     "start_time": "2021-04-04T17:49:46.133235Z"
    },
    "scrolled": true
   },
   "outputs": [
    {
     "data": {
      "application/vnd.jupyter.widget-view+json": {
       "model_id": "866243be81384b7b8722d8a3e8ed9549",
       "version_major": 2,
       "version_minor": 0
      },
      "text/plain": [
       "  0%|          | 0/1280 [00:00<?, ?it/s]"
      ]
     },
     "metadata": {},
     "output_type": "display_data"
    },
    {
     "name": "stdout",
     "output_type": "stream",
     "text": [
      "Train Epoch: 1  \tLoss: 2.040901   Accuracy: 2747/6397 (43%\n",
      "\n",
      "Test set: Average loss: 0.3471, Accuracy: 604/1600 (38%)\n",
      "\n",
      "9.943280017715336e-11\n"
     ]
    },
    {
     "data": {
      "application/vnd.jupyter.widget-view+json": {
       "model_id": "fbd9a77f65dc41adba21884841e18237",
       "version_major": 2,
       "version_minor": 0
      },
      "text/plain": [
       "  0%|          | 0/1280 [00:00<?, ?it/s]"
      ]
     },
     "metadata": {},
     "output_type": "display_data"
    },
    {
     "name": "stdout",
     "output_type": "stream",
     "text": [
      "Train Epoch: 2  \tLoss: 1.239769   Accuracy: 2774/6397 (43%\n",
      "\n",
      "Test set: Average loss: 0.3478, Accuracy: 571/1600 (36%)\n",
      "\n",
      "4.6205439104398606e-11\n"
     ]
    },
    {
     "data": {
      "application/vnd.jupyter.widget-view+json": {
       "model_id": "9c5c0194b6a7479294100dab4813cee0",
       "version_major": 2,
       "version_minor": 0
      },
      "text/plain": [
       "  0%|          | 0/1280 [00:00<?, ?it/s]"
      ]
     },
     "metadata": {},
     "output_type": "display_data"
    },
    {
     "name": "stdout",
     "output_type": "stream",
     "text": [
      "Train Epoch: 3  \tLoss: 0.865486   Accuracy: 2743/6397 (43%\n",
      "\n",
      "Test set: Average loss: 0.3461, Accuracy: 593/1600 (37%)\n",
      "\n",
      "4.341491138637447e-16\n"
     ]
    },
    {
     "data": {
      "image/png": "[encoded data removed]",
      "text/plain": [
       "<Figure size 432x288 with 1 Axes>"
      ]
     },
     "metadata": {
      "needs_background": "light"
     },
     "output_type": "display_data"
    },
    {
     "data": {
      "image/png": "[encoded data removed]",
      "text/plain": [
       "<Figure size 432x288 with 1 Axes>"
      ]
     },
     "metadata": {
      "needs_background": "light"
     },
     "output_type": "display_data"
    }
   ],
   "source": [
    "\n",
    "\n",
    "# model.res.classifier[2].p=0.0\n",
    "# model.res.classifier[5].p=0.0\n",
    "epochs=3\n",
    "scheduler = torch.optim.lr_scheduler.OneCycleLR(optimizer, max_lr=1e-10, steps_per_epoch=len(trainloader), epochs=epochs)\n",
    "for epoch in range(1, epochs + 1):\n",
    "    train_loss,correct_train=train_transf(model,post_transf, device, trainloader, criterion, optimizer, epoch,scheduler,all_spectro,transform_train_db=transform_train_db,log_interval=100,grad_clip=grad_clip)\n",
    "    test_loss,correct_test=test_transf(model,post_transf, device, testloader,criterion,all_spectro,transform_test_db)\n",
    "    Train_loss.append(train_loss)\n",
    "    Test_loss.append(test_loss)\n",
    "    Train_correct.append(correct_train)\n",
    "    Test_correct.append(correct_test)\n",
    "    print(optimizer.param_groups[0]['lr'])\n",
    "\n",
    "plt.plot(Train_loss)\n",
    "plt.plot(Test_loss)\n",
    "plt.legend([\"train\",\"test\"])\n",
    "plt.title(\"CrossEntropyLoss \"+model_name)\n",
    "plt.xlabel(\"epochs\")\n",
    "plt.savefig('loss_'+model_name+' _spectro_all_spectr.png')\n",
    "plt.show()\n",
    "\n",
    "plt.plot(Train_correct)\n",
    "plt.plot(Test_correct)\n",
    "plt.legend([\"train\",\"test\"])\n",
    "plt.title(model_name+ \" accuracy % , max acc = \"+str(max(Test_correct)))\n",
    "plt.xlabel(\"epochs\")\n",
    "plt.savefig('accuracy_ '+model_name+' _spectro_all_spectr.png')"
   ]
  },
  {
   "cell_type": "code",
   "execution_count": null,
   "metadata": {},
   "outputs": [],
   "source": [
    "path=\"model_save/transformer_B_16_imagenet1k_classifier\"+name_mod+\".pth\"\n",
    "            torch.save(model.state_dict(), path)"
   ]
  },
  {
   "cell_type": "markdown",
   "metadata": {},
   "source": [
    "TO TRY:\n",
    "   - raw input in one or all layer \n",
    "   - every transformer layer\n",
    "   - more complex feature extracter like spectrogram"
   ]
  },
  {
   "cell_type": "markdown",
   "metadata": {},
   "source": [
    "# when you gpu suck (6 GB of vram ); )"
   ]
  },
  {
   "cell_type": "code",
   "execution_count": 9,
   "metadata": {
    "ExecuteTime": {
     "end_time": "2021-04-03T15:12:56.573169Z",
     "start_time": "2021-04-03T15:12:56.552141Z"
    }
   },
   "outputs": [],
   "source": [
    "from pytorch_pretrained_vit import ViT\n",
    "\n",
    "\"\"\"model.py - Model and module class for ViT.\n",
    "   They are built to mirror those in the official Jax implementation.\n",
    "\"\"\"\n",
    "\n",
    "from typing import Optional\n",
    "import torch\n",
    "from torch import nn\n",
    "from torch.nn import functional as F\n",
    "\n",
    "from pytorch_pretrained_vit.transformer import Transformer\n",
    "from pytorch_pretrained_vit.utils import load_pretrained_weights, as_tuple\n",
    "from pytorch_pretrained_vit.configs import PRETRAINED_MODELS\n",
    "\n",
    "\n",
    "class PositionalEmbedding1D(nn.Module):\n",
    "    \"\"\"Adds (optionally learned) positional embeddings to the inputs.\"\"\"\n",
    "\n",
    "    def __init__(self, seq_len, dim):\n",
    "        super().__init__()\n",
    "        self.pos_embedding = nn.Parameter(torch.zeros(1, seq_len, dim))\n",
    "    \n",
    "    def forward(self, x):\n",
    "        \"\"\"Input has shape `(batch_size, seq_len, emb_dim)`\"\"\"\n",
    "        return x + self.pos_embedding\n",
    "\n",
    "\n",
    "class ViT(nn.Module):\n",
    "    \"\"\"\n",
    "    Args:\n",
    "        name (str): Model name, e.g. 'B_16'\n",
    "        pretrained (bool): Load pretrained weights\n",
    "        in_channels (int): Number of channels in input data\n",
    "        num_classes (int): Number of classes, default 1000\n",
    "    References:\n",
    "        [1] https://openreview.net/forum?id=YicbFdNTTy\n",
    "    \"\"\"\n",
    "\n",
    "    def __init__(\n",
    "        self, \n",
    "        name: Optional[str] = None, \n",
    "        pretrained: bool = False, \n",
    "        patches: int = 16,\n",
    "        dim: int = 768,\n",
    "        ff_dim: int = 3072,\n",
    "        num_heads: int = 12,\n",
    "        num_layers: int = 12,\n",
    "        attention_dropout_rate: float = 0.0,\n",
    "        dropout_rate: float = 0.1,\n",
    "        representation_size: Optional[int] = None,\n",
    "        load_repr_layer: bool = False,\n",
    "        classifier: str = 'token',\n",
    "        positional_embedding: str = '1d',\n",
    "        in_channels: int = 3, \n",
    "        image_size: Optional[int] = None,\n",
    "        num_classes: Optional[int] = None,\n",
    "    ):\n",
    "        super().__init__()\n",
    "\n",
    "        # Configuration\n",
    "        if name is None:\n",
    "            check_msg = 'must specify name of pretrained model'\n",
    "            assert not pretrained, check_msg\n",
    "            assert not resize_positional_embedding, check_msg\n",
    "            if num_classes is None:\n",
    "                num_classes = 1000\n",
    "            if image_size is None:\n",
    "                image_size = 384\n",
    "        else:  # load pretrained model\n",
    "            assert name in PRETRAINED_MODELS.keys(), \\\n",
    "                'name should be in: ' + ', '.join(PRETRAINED_MODELS.keys())\n",
    "            config = PRETRAINED_MODELS[name]['config']\n",
    "            patches = config['patches']\n",
    "            dim = config['dim']\n",
    "            ff_dim = config['ff_dim']\n",
    "            num_heads = config['num_heads']\n",
    "            num_layers = config['num_layers']\n",
    "            attention_dropout_rate = config['attention_dropout_rate']\n",
    "            dropout_rate = config['dropout_rate']\n",
    "            representation_size = config['representation_size']\n",
    "            classifier = config['classifier']\n",
    "            if image_size is None:\n",
    "                image_size = PRETRAINED_MODELS[name]['image_size']\n",
    "            if num_classes is None:\n",
    "                num_classes = PRETRAINED_MODELS[name]['num_classes']\n",
    "        self.image_size = image_size                \n",
    "\n",
    "        # Image and patch sizes\n",
    "        h, w = as_tuple(image_size)  # image sizes\n",
    "        fh, fw = as_tuple(patches)  # patch sizes\n",
    "        gh, gw = h // fh, w // fw  # number of patches\n",
    "        seq_len = gh * gw\n",
    "\n",
    "        # Patch embedding\n",
    "        self.patch_embedding = nn.Conv2d(in_channels, dim, kernel_size=(fh, fw), stride=(fh, fw))\n",
    "\n",
    "        # Class token\n",
    "        if classifier == 'token':\n",
    "            self.class_token = nn.Parameter(torch.zeros(1, 1, dim))\n",
    "            seq_len += 1\n",
    "        \n",
    "        # Positional embedding\n",
    "        if positional_embedding.lower() == '1d':\n",
    "            self.positional_embedding = PositionalEmbedding1D(seq_len, dim)\n",
    "        else:\n",
    "            raise NotImplementedError()\n",
    "        \n",
    "        # Transformer\n",
    "        self.transformer = Transformer(num_layers=num_layers, dim=dim, num_heads=num_heads, \n",
    "                                       ff_dim=ff_dim, dropout=dropout_rate)\n",
    "        \n",
    "        # Representation layer\n",
    "        if representation_size and load_repr_layer:\n",
    "            self.pre_logits = nn.Linear(dim, representation_size)\n",
    "            pre_logits_size = representation_size\n",
    "        else:\n",
    "            pre_logits_size = dim\n",
    "\n",
    "        # Classifier head\n",
    "        self.norm = nn.LayerNorm(pre_logits_size, eps=1e-6)\n",
    "        self.fc = nn.Linear(pre_logits_size, num_classes)\n",
    "\n",
    "        # Initialize weights\n",
    "        self.init_weights()\n",
    "        \n",
    "        # Load pretrained model\n",
    "        if pretrained:\n",
    "            pretrained_num_channels = 3\n",
    "            pretrained_num_classes = PRETRAINED_MODELS[name]['num_classes']\n",
    "            pretrained_image_size = PRETRAINED_MODELS[name]['image_size']\n",
    "            load_pretrained_weights(\n",
    "                self, name, \n",
    "                load_first_conv=(in_channels == pretrained_num_channels),\n",
    "                load_fc=(num_classes == pretrained_num_classes),\n",
    "                load_repr_layer=load_repr_layer,\n",
    "                resize_positional_embedding=(image_size != pretrained_image_size),\n",
    "                strict=False\n",
    "            )\n",
    "        \n",
    "    @torch.no_grad()\n",
    "    def init_weights(self):\n",
    "        def _init(m):\n",
    "            if isinstance(m, nn.Linear):\n",
    "                nn.init.xavier_uniform_(m.weight)  # _trunc_normal(m.weight, std=0.02)  # from .initialization import _trunc_normal\n",
    "                if hasattr(m, 'bias') and m.bias is not None:\n",
    "                    nn.init.normal_(m.bias, std=1e-6)  # nn.init.constant(m.bias, 0)\n",
    "        self.apply(_init)\n",
    "        nn.init.constant_(self.fc.weight, 0)\n",
    "        nn.init.constant_(self.fc.bias, 0)\n",
    "        nn.init.normal_(self.positional_embedding.pos_embedding, std=0.02)  # _trunc_normal(self.positional_embedding.pos_embedding, std=0.02)\n",
    "        nn.init.constant_(self.class_token, 0)\n",
    "\n",
    "    def forward(self, x):\n",
    "        \"\"\"Breaks image into patches, applies transformer, applies MLP head.\n",
    "        Args:\n",
    "            x (tensor): `b,c,fh,fw`\n",
    "        \"\"\"\n",
    "        b, c, fh, fw = x.shape\n",
    "        x = self.patch_embedding(x)  # b,d,gh,gw\n",
    "        x = x.flatten(2).transpose(1, 2)  # b,gh*gw,d\n",
    "        if hasattr(self, 'class_token'):\n",
    "            x = torch.cat((self.class_token.expand(b, -1, -1), x), dim=1)  # b,gh*gw+1,d\n",
    "        if hasattr(self, 'positional_embedding'): \n",
    "            x = self.positional_embedding(x)  # b,gh*gw+1,d \n",
    "        x = self.transformer(x)  # b,gh*gw+1,d\n",
    "        if hasattr(self, 'pre_logits'):\n",
    "            x = self.pre_logits(x)\n",
    "            x = torch.tanh(x)\n",
    "        if hasattr(self, 'fc'):\n",
    "            x = self.norm(x)[:, 0]  # b,d\n",
    "            x = self.fc(x)  # b,num_classes\n",
    "        return x"
   ]
  },
  {
   "cell_type": "code",
   "execution_count": 10,
   "metadata": {
    "ExecuteTime": {
     "end_time": "2021-04-03T15:12:56.893141Z",
     "start_time": "2021-04-03T15:12:56.888141Z"
    }
   },
   "outputs": [],
   "source": [
    "class Little_ViT(nn.Module):\n",
    "    def __init__(self,transformeur):\n",
    "        super(Little_ViT, self).__init__()\n",
    "        self.model=transformeur.to(device)\n",
    "    def freeze(self):\n",
    "        for param in self.model.parameters():\n",
    "            param.requires_grad = False\n",
    "        for param in self.model.fc.parameters():\n",
    "            param.require_grad = True\n",
    "\n",
    "        \n",
    "    def unfreeze(self):\n",
    "        for param in self.model.parameters():\n",
    "            param.requires_grad = False\n",
    "        for param in self.model.fc.parameters():\n",
    "            param.require_grad = True\n",
    "        \n",
    "    def forward(self, x):\n",
    "        x=self.model(x)\n",
    "        return x\n",
    "    \n",
    "# model=Res_Net_mix_spec([Net_res_mel(spectro_like_device,transform_train_db,transform_test_db).to(device),Net_res_mel(spectro_like_device,transform_train_db,transform_test_db).to(device)]).to(device)\n",
    "# summary(model, ([1,size_in]))"
   ]
  },
  {
   "cell_type": "code",
   "execution_count": 11,
   "metadata": {
    "ExecuteTime": {
     "end_time": "2021-04-03T15:12:57.275143Z",
     "start_time": "2021-04-03T15:12:57.257141Z"
    }
   },
   "outputs": [],
   "source": [
    "#train test  function\n",
    "\n",
    "#https://pytorch.org/tutorials/recipes/recipes/amp_recipe.html\n",
    "use_amp = False #mixed precision float 16\n",
    "scaler = torch.cuda.amp.GradScaler(enabled=use_amp)\n",
    "\n",
    "def train_transf(model, device, trainloader, criterion, optimizer, epoch,scheduler,all_spectro,transform_train_db, log_interval,grad_clip=None,Use_waveform=True):\n",
    "    model.train()\n",
    "    correct = 0\n",
    "    train_loss = 0\n",
    "    use_waveform=Use_waveform\n",
    "    for batch_idx, (data, target) in enumerate(tqdm(trainloader)):\n",
    "        data, target = data.to(device), target.to(device)\n",
    "        optimizer.zero_grad()\n",
    "        with torch.no_grad():\n",
    "            spec=torch.tensor([]).to(device)\n",
    "            if use_waveform:#use waveform only\n",
    "                #all_spectro=all_spectro[1:]\n",
    "#                 wave=data[:,:,:transformer.image_size[0]**2]\n",
    "#                 data=wave.view(wave.size(0),1,transformer.image_size[0],transformer.image_size[0]).repeat(1,3,1,1)\n",
    "                im=data\n",
    "                size_in=im.size(2)\n",
    "                zero_pad=torch.zeros(im.size(0),1,model.image_size[0]**2*3-size_in).to(device)\n",
    "                concat=torch.cat((zero_pad,im),2).view(im.size(0),3,model.image_size[0],model.image_size[0])\n",
    "                data=concat\n",
    "            else:\n",
    "                for spectro in all_spectro :\n",
    "                    spec1=spectro(data)\n",
    "                    spec=torch.cat((spec,spec1),1)\n",
    "                spec=spec.to(device)\n",
    "                spec=transform_train_db(spec)\n",
    "                data=spec.to(device)\n",
    "                #data=torch.cat((spec,data[:,:transformer.image_size[0]**2]),1)\n",
    "        with torch.cuda.amp.autocast(enabled=use_amp): # full mixed precision enabled=use_amp   \n",
    "            output = model(data).squeeze(0)\n",
    "            loss = criterion(output, target.long())\n",
    "        scaler.scale(loss).backward()\n",
    "        if grad_clip: \n",
    "                nn.utils.clip_grad_value_(model.parameters(), grad_clip)\n",
    "        scaler.step(optimizer)\n",
    "        scaler.update()\n",
    "        optimizer.zero_grad()\n",
    "        scheduler.step()\n",
    "        \n",
    "        pred = output.argmax(dim=1, keepdim=True)\n",
    "        correct += pred.eq(target.view_as(pred)).sum().item()\n",
    "#         loss.backward()\n",
    "#         optimizer.step()\n",
    "        train_loss += loss.item()\n",
    "#     if batch_idx % log_interval == 0:\n",
    "    print('Train Epoch: {}  \\tLoss: {:.6f}   Accuracy: {}/{} ({:.0f}%'.format(\n",
    "        epoch, loss.item(), correct, len(trainloader.dataset), 100. * correct / len(trainloader.dataset)))\n",
    "    return train_loss/len(trainloader.dataset),100. * correct / len(trainloader.dataset)\n",
    "\n",
    "\n",
    "def test_transf(model, device, testloader,criterion,all_spectro,transform_test_db,Use_waveform=True):\n",
    "    use_waveform=Use_waveform\n",
    "    model.eval()\n",
    "    test_loss = 0\n",
    "    correct = 0\n",
    "    with torch.no_grad():\n",
    "        for data, target in testloader:\n",
    "            data, target = data.to(device), target.to(device)\n",
    "            if use_waveform:#use waveform only\n",
    "                #all_spectro=all_spectro[1:]\n",
    "#                 wave=data[:,:,:transformer.image_size[0]**2]\n",
    "#                 data=wave.view(wave.size(0),1,transformer.image_size[0],transformer.image_size[0]).repeat(1,3,1,1)\n",
    "                im=data\n",
    "                size_in=im.size(2)\n",
    "                zero_pad=torch.zeros(im.size(0),1,model.image_size[0]**2*3-size_in).to(device)\n",
    "                concat=torch.cat((zero_pad,im),2).view(im.size(0),3,model.image_size[0],model.image_size[0])\n",
    "                data=concat\n",
    "            else:\n",
    "                spec=torch.tensor([]).to(device)\n",
    "                for spectro in all_spectro :\n",
    "                    spec1=spectro(data)\n",
    "                    spec=torch.cat((spec,spec1),1)\n",
    "                data=spec.to(device)\n",
    "                data=transform_test_db(data)\n",
    "            output = model(data.to(device)).squeeze(0)\n",
    "            test_loss += criterion(output, target.long()).item()  # sum up batch loss\n",
    "            pred = output.argmax(dim=1, keepdim=True)  # get the index of the max log-probability\n",
    "            correct += pred.eq(target.view_as(pred)).sum().item()\n",
    "\n",
    "    test_loss /= len(testloader.dataset)\n",
    "\n",
    "    print('\\nTest set: Average loss: {:.4f}, Accuracy: {}/{} ({:.0f}%)\\n'.format(\n",
    "        test_loss, correct, len(testloader.dataset),\n",
    "        100. * correct / len(testloader.dataset)))\n",
    "    return test_loss,100. * correct / len(testloader.dataset)"
   ]
  },
  {
   "cell_type": "code",
   "execution_count": 15,
   "metadata": {
    "ExecuteTime": {
     "end_time": "2021-04-03T15:13:32.124223Z",
     "start_time": "2021-04-03T15:13:29.744192Z"
    },
    "scrolled": true
   },
   "outputs": [],
   "source": [
    "torch.cuda.empty_cache()\n",
    "criterion = nn.CrossEntropyLoss()\n",
    "grad_clip = 0.2\n",
    "weight_decay = 1e-6\n",
    "#post_transf=nn.Sequential(nn.Linear(21843,512),nn.ReLU(),nn.Linear(512,8)).to(device)\n",
    "# TRY\n",
    "# post_transf=nn.Sequential(nn.Linear(768,512),nn.ReLU(),nn.Linear(512,8)).to(device)\n",
    "\n",
    "PRETRAINED_MODELS[\"B_16_imagenet1k\"]['config']['num_layers']=4\n",
    "PRETRAINED_MODELS\n",
    "model = ViT(\"B_16_imagenet1k\", pretrained=False).to(device)\n",
    "model.fc=nn.Linear(768, 512)#nn.Sequential(nn.Linear(768, 512),nn.ReLU(),nn.Linear(512, 8)).to(device)\n",
    "little_ViT=Little_ViT(model).to(device)\n",
    "\n",
    "optimizer = optim.Adam(little_ViT.parameters(), lr=0.001,weight_decay=0)\n",
    "Train_loss=[]\n",
    "Test_loss=[]\n",
    "Train_correct=[]\n",
    "Test_correct=[]\n"
   ]
  },
  {
   "cell_type": "code",
   "execution_count": 16,
   "metadata": {
    "ExecuteTime": {
     "end_time": "2021-04-03T15:13:32.777835Z",
     "start_time": "2021-04-03T15:13:32.753835Z"
    }
   },
   "outputs": [
    {
     "name": "stdout",
     "output_type": "stream",
     "text": [
      "384\n"
     ]
    },
    {
     "name": "stderr",
     "output_type": "stream",
     "text": [
      "C:\\Users\\lejuj\\Anaconda3\\envs\\torchaudio\\lib\\site-packages\\torchaudio\\functional\\functional.py:358: UserWarning: At least one mel filterbank has all zero values. The value for `n_mels` (512) may be set too high. Or, the value for `n_freqs` (1025) may be set too low.\n",
      "  \"At least one mel filterbank has all zero values. \"\n",
      "C:\\Users\\lejuj\\Anaconda3\\envs\\torchaudio\\lib\\site-packages\\torchaudio\\functional\\functional.py:358: UserWarning: At least one mel filterbank has all zero values. The value for `n_mels` (384) may be set too high. Or, the value for `n_freqs` (1025) may be set too low.\n",
      "  \"At least one mel filterbank has all zero values. \"\n"
     ]
    }
   ],
   "source": [
    "amp_db=transforms.AmplitudeToDB().to(device)\n",
    "\n",
    "# index = 1\n",
    "   \n",
    "normalize_spec_db, all_spectro, trainloader, testloader=init_param(model)\n",
    "use_wave=False\n",
    "if use_wave==True:\n",
    "\n",
    "    trainset  = Audio_classification(\"train\",train_index,data,label_dic,time_audio_resize=15)\n",
    "    trainloader  = DataLoader(trainset , batch_size=8,\n",
    "                            shuffle=True, num_workers=0)\n",
    "\n",
    "    testset = Audio_classification(\"test\",test_index,data,label_dic,time_audio_resize=15)\n",
    "    testloader   = DataLoader(testset , batch_size=8,\n",
    "                        shuffle=False, num_workers=0)\n",
    "\n",
    "transform_train_db = T.Compose([  amp_db,     \n",
    "                                \n",
    "        normalize_spec_db,\n",
    "         # transforms.TimeStretch(fixed_rate =1.2),\n",
    "        #transforms.TimeMasking(time_mask_param=20),\n",
    "        #transforms.FrequencyMasking(freq_mask_param=30),\n",
    "        #T.RandomHorizontalFlip(),\n",
    "        #T.Resize((image_size,image_size))\n",
    "                       ])\n",
    "transform_test_db = T.Compose([amp_db,           \n",
    "        normalize_spec_db])\n"
   ]
  },
  {
   "cell_type": "code",
   "execution_count": 19,
   "metadata": {
    "ExecuteTime": {
     "end_time": "2021-04-03T17:08:41.025058Z",
     "start_time": "2021-04-03T16:54:41.691077Z"
    }
   },
   "outputs": [
    {
     "data": {
      "application/vnd.jupyter.widget-view+json": {
       "model_id": "a885e40b3870417ab4f196e293793d33",
       "version_major": 2,
       "version_minor": 0
      },
      "text/plain": [
       "  0%|          | 0/800 [00:00<?, ?it/s]"
      ]
     },
     "metadata": {},
     "output_type": "display_data"
    },
    {
     "name": "stdout",
     "output_type": "stream",
     "text": [
      "Train Epoch: 1  \tLoss: 7.062654   Accuracy: 815/6397 (13%\n",
      "\n",
      "Test set: Average loss: 0.6010, Accuracy: 235/1600 (15%)\n",
      "\n",
      "9.942752174436655e-10\n"
     ]
    },
    {
     "data": {
      "application/vnd.jupyter.widget-view+json": {
       "model_id": "6a854249bd5e426f862aeea09f30b598",
       "version_major": 2,
       "version_minor": 0
      },
      "text/plain": [
       "  0%|          | 0/800 [00:00<?, ?it/s]"
      ]
     },
     "metadata": {},
     "output_type": "display_data"
    },
    {
     "name": "stdout",
     "output_type": "stream",
     "text": [
      "Train Epoch: 2  \tLoss: 4.695582   Accuracy: 847/6397 (13%\n",
      "\n",
      "Test set: Average loss: 0.5960, Accuracy: 235/1600 (15%)\n",
      "\n",
      "4.617047889001959e-10\n"
     ]
    },
    {
     "data": {
      "application/vnd.jupyter.widget-view+json": {
       "model_id": "dda554af14964344a4c157cc54b1fb7e",
       "version_major": 2,
       "version_minor": 0
      },
      "text/plain": [
       "  0%|          | 0/800 [00:00<?, ?it/s]"
      ]
     },
     "metadata": {},
     "output_type": "display_data"
    },
    {
     "name": "stdout",
     "output_type": "stream",
     "text": [
      "Train Epoch: 3  \tLoss: 4.313302   Accuracy: 851/6397 (13%\n",
      "\n",
      "Test set: Average loss: 0.5957, Accuracy: 236/1600 (15%)\n",
      "\n",
      "4.8742171597610385e-15\n"
     ]
    },
    {
     "data": {
      "image/png": "[encoded data removed]",
      "text/plain": [
       "<Figure size 432x288 with 1 Axes>"
      ]
     },
     "metadata": {
      "needs_background": "light"
     },
     "output_type": "display_data"
    },
    {
     "data": {
      "image/png": "[encoded data removed]",
      "text/plain": [
       "<Figure size 432x288 with 1 Axes>"
      ]
     },
     "metadata": {
      "needs_background": "light"
     },
     "output_type": "display_data"
    }
   ],
   "source": [
    "model_name=\"Little_ViT\"\n",
    "\n",
    "\n",
    "# model.res.classifier[2].p=0.0\n",
    "# model.res.classifier[5].p=0.0\n",
    "epochs=3\n",
    "# little_ViT.freeze()\n",
    "scheduler = torch.optim.lr_scheduler.OneCycleLR(optimizer, max_lr=1e-9, steps_per_epoch=len(trainloader), epochs=epochs)\n",
    "for epoch in range(1, epochs + 1):\n",
    "    train_loss,correct_train=train_transf(model, device, trainloader, criterion, optimizer, epoch,scheduler,all_spectro,transform_train_db=transform_train_db,log_interval=100,grad_clip=grad_clip,Use_waveform=False)\n",
    "    test_loss,correct_test=test_transf(model, device, testloader,criterion,all_spectro,transform_test_db,Use_waveform=False)\n",
    "    Train_loss.append(train_loss)\n",
    "    Test_loss.append(test_loss)\n",
    "    Train_correct.append(correct_train)\n",
    "    Test_correct.append(correct_test)\n",
    "    print(optimizer.param_groups[0]['lr'])\n",
    "\n",
    "plt.plot(Train_loss)\n",
    "plt.plot(Test_loss)\n",
    "plt.legend([\"train\",\"test\"])\n",
    "plt.title(\"CrossEntropyLoss \"+model_name)\n",
    "plt.xlabel(\"epochs\")\n",
    "plt.savefig('loss_'+model_name+' _spectro_all_spectr.png')\n",
    "plt.show()\n",
    "\n",
    "plt.plot(Train_correct)\n",
    "plt.plot(Test_correct)\n",
    "plt.legend([\"train\",\"test\"])\n",
    "plt.title(model_name+ \" accuracy % , max acc = \"+str(max(Test_correct)))\n",
    "plt.xlabel(\"epochs\")\n",
    "plt.savefig('accuracy_ '+model_name+' _spectro_all_spectr.png')"
   ]
  },
  {
   "cell_type": "code",
   "execution_count": 18,
   "metadata": {
    "ExecuteTime": {
     "end_time": "2021-04-03T16:51:59.588322Z",
     "start_time": "2021-04-03T16:51:59.308282Z"
    }
   },
   "outputs": [
    {
     "data": {
      "image/png": "[encoded data removed]",
      "text/plain": [
       "<Figure size 432x288 with 1 Axes>"
      ]
     },
     "metadata": {
      "needs_background": "light"
     },
     "output_type": "display_data"
    },
    {
     "data": {
      "text/plain": [
       "Text(0.5, 0, 'epochs')"
      ]
     },
     "execution_count": 18,
     "metadata": {},
     "output_type": "execute_result"
    },
    {
     "data": {
      "image/png": "[encoded data removed]",
      "text/plain": [
       "<Figure size 432x288 with 1 Axes>"
      ]
     },
     "metadata": {
      "needs_background": "light"
     },
     "output_type": "display_data"
    }
   ],
   "source": [
    "model_name=\"Little_ViT\"\n",
    "torch.save(the_model.state_dict(), PATH)\n"
   ]
  },
  {
   "cell_type": "code",
   "execution_count": null,
   "metadata": {},
   "outputs": [],
   "source": [
    "def count_parameters(model):\n",
    "    return sum(p.numel() for p in model.parameters() if p.requires_grad)\n",
    "count_parameters(model)"
   ]
  },
  {
   "cell_type": "markdown",
   "metadata": {
    "heading_collapsed": true
   },
   "source": [
    "# draft\n"
   ]
  },
  {
   "cell_type": "code",
   "execution_count": 136,
   "metadata": {
    "ExecuteTime": {
     "end_time": "2021-04-01T20:22:05.905277Z",
     "start_time": "2021-04-01T20:21:49.482022Z"
    },
    "hidden": true
   },
   "outputs": [
    {
     "name": "stderr",
     "output_type": "stream",
     "text": [
      "C:\\Users\\lejuj\\ai\\fma\\fma\\.data\\wikitext-2-v1.zip: 100%|████████████████████████████████████████████████████████████████████████████████████████████████████████████████████████████████████████████████| 4.48M/4.48M [00:06<00:00, 647kB/s]\n"
     ]
    }
   ],
   "source": [
    "import io\n",
    "import torch\n",
    "from torchtext.datasets import WikiText2\n",
    "from torchtext.data.utils import get_tokenizer\n",
    "from collections import Counter\n",
    "from torchtext.vocab import Vocab\n",
    "\n",
    "train_iter = WikiText2(split='train')\n",
    "tokenizer = get_tokenizer('basic_english')\n",
    "counter = Counter()\n",
    "for line in train_iter:\n",
    "    counter.update(tokenizer(line))\n",
    "vocab = Vocab(counter)\n",
    "\n",
    "def data_process(raw_text_iter):\n",
    "  data = [torch.tensor([vocab[token] for token in tokenizer(item)],\n",
    "                       dtype=torch.long) for item in raw_text_iter]\n",
    "  return torch.cat(tuple(filter(lambda t: t.numel() > 0, data)))\n",
    "\n",
    "train_iter, val_iter, test_iter = WikiText2()\n",
    "train_data = data_process(train_iter)\n",
    "val_data = data_process(val_iter)\n",
    "test_data = data_process(test_iter)\n",
    "\n",
    "device = torch.device(\"cuda\" if torch.cuda.is_available() else \"cpu\")"
   ]
  },
  {
   "cell_type": "code",
   "execution_count": 140,
   "metadata": {
    "ExecuteTime": {
     "end_time": "2021-04-01T20:22:43.571298Z",
     "start_time": "2021-04-01T20:22:43.525289Z"
    },
    "hidden": true
   },
   "outputs": [],
   "source": [
    "def batchify(data, bsz):\n",
    "    # Divide the dataset into bsz parts.\n",
    "    nbatch = data.size(0) // bsz\n",
    "    # Trim off any extra elements that wouldn't cleanly fit (remainders).\n",
    "    data = data.narrow(0, 0, nbatch * bsz)\n",
    "    # Evenly divide the data across the bsz batches.\n",
    "    data = data.view(bsz, -1).t().contiguous()\n",
    "    return data.to(device)\n",
    "\n",
    "batch_size = 20\n",
    "eval_batch_size = 10\n",
    "train_data = batchify(train_data, batch_size)\n",
    "val_data = batchify(val_data, eval_batch_size)\n",
    "test_data = batchify(test_data, eval_batch_size)"
   ]
  },
  {
   "cell_type": "code",
   "execution_count": 141,
   "metadata": {
    "ExecuteTime": {
     "end_time": "2021-04-01T20:22:47.115602Z",
     "start_time": "2021-04-01T20:22:47.106637Z"
    },
    "hidden": true
   },
   "outputs": [
    {
     "data": {
      "text/plain": [
       "tensor([[   10,    60,   565,  ..., 11653,  2436,     2],\n",
       "        [ 3850,    13,   301,  ...,    48,    31,  1991],\n",
       "        [ 3870,   316,    20,  ...,    98,  7721,     5],\n",
       "        ...,\n",
       "        [  588,  4012,    60,  ...,     2,  1440, 12314],\n",
       "        [ 4988,    30,     5,  ...,  3166, 17107,  2061],\n",
       "        [    7,     9,     2,  ...,    63,    19,     3]], device='cuda:0')"
      ]
     },
     "execution_count": 141,
     "metadata": {},
     "output_type": "execute_result"
    }
   ],
   "source": [
    "train_data"
   ]
  },
  {
   "cell_type": "markdown",
   "metadata": {
    "hidden": true
   },
   "source": [
    "model.res.fc[2].p=0.0\n",
    "model.res.fc[5].p=0.0\n",
    "model.unfreeze\n",
    "\n",
    "0 = mel\n",
    "1 = mfcc\n",
    "2 = spec\n",
    "torch.cuda.empty_cache()\n",
    "\n",
    "label_dic = {0: \"model_save/resnet_conv1d mel db _specl.pth\",  1:\"model_save/resnet_conv1d mfcc db _specl.pth\",2:\"model_save/resnet_conv1d spec db_specl.pth\"}\n",
    "\n",
    "amp_db=transforms.AmplitudeToDB()\n",
    "for i in range(4):\n",
    "    if i==0:\n",
    "        name_mod=\"conv1d mfcc+spec \"\n",
    "        index=[1,2]\n",
    "    if i==1:\n",
    "        name_mod=\"conv1d mfcc+mel \"\n",
    "        index=[0,1]\n",
    "    if i==2:\n",
    "        name_mod=\"conv1d mel+spec\"\n",
    "        index=[0,2]\n",
    "    if i==3:\n",
    "        name_mod=\"conv1d mfcc+mel+spec\"\n",
    "        index=[0,1,2]\n",
    "    \n",
    "    all_model=[]\n",
    "    \n",
    "    for j in range(len(index)):\n",
    "        idx=index[j]\n",
    "        spectro_like=[mel_spectrogram,mfcc_transform,spectrogram]\n",
    "        spectro_like=[spectro_like[idx]]\n",
    "        spectro_like_device=[i.to(device) for i in spectro_like]\n",
    "\n",
    "\n",
    "        normalize_spec_db = T.Normalize(mean=[[-13.8637, -53.9947, -21.2606][idx]],\n",
    "                                std=[[19.2690, 49.1503, 22.0783][idx]])\n",
    "\n",
    "        transform_train_db = T.Compose([ amp_db,           \n",
    "                normalize_spec_db,\n",
    "                transforms.TimeMasking(time_mask_param=20),\n",
    "                #transforms.FrequencyMasking(freq_mask_param=30),\n",
    "                #T.RandomHorizontalFlip(),\n",
    "                #T.Resize((image_size,image_size))\n",
    "                               ])\n",
    "        transform_test_db = T.Compose([ amp_db,           \n",
    "                normalize_spec_db])\n",
    "\n",
    "\n",
    "        all_model.append(Net_res_mel(spectro_like_device,transform_train_db,transform_test_db).to(device))\n",
    "        \n",
    "        all_model[j].load_state_dict(torch.load(label_dic[idx]))#,strict=False)\n",
    "        all_model[j].fc[6],all_model[j].fc[5]=nn.Identity(),nn.Identity()\n",
    "    \n",
    "    model=Res_Net_mix_spec(all_model).to(device)\n",
    "    criterion = nn.CrossEntropyLoss()\n",
    "    grad_clip = 0.1\n",
    "    weight_decay = 1e-5\n",
    "    optimizer = optim.Adam(model.parameters(), lr=0.001,weight_decay=weight_decay)\n",
    "    Train_loss=[]\n",
    "    Test_loss=[]\n",
    "    Train_correct=[]\n",
    "    Test_correct=[]\n",
    "    best_model=40\n",
    "    epochs1=6\n",
    "    epochs2=6\n",
    "    epochs=epochs1+epochs2\n",
    "    scheduler = torch.optim.lr_scheduler.OneCycleLR(optimizer, max_lr=1e-5, steps_per_epoch=len(trainloader), epochs=epochs1+1)\n",
    "    model.freeze()\n",
    "    \n",
    "    for epoch in range(1, epochs + 1):\n",
    "        if epoch==epochs1:\n",
    "            scheduler = torch.optim.lr_scheduler.OneCycleLR(optimizer, max_lr=1e-5, steps_per_epoch=len(trainloader), epochs=epochs2+1)\n",
    "            model.unfreeze()\n",
    "        train_loss,correct_train=train(model, device, trainloader, criterion, optimizer, epoch,scheduler,log_interval=100,grad_clip=grad_clip)\n",
    "        test_loss,correct_test=test(model, device, testloader,criterion)\n",
    "        Train_loss.append(train_loss)\n",
    "        Test_loss.append(test_loss)\n",
    "        Train_correct.append(correct_train)\n",
    "        Test_correct.append(correct_test)\n",
    "        print(optimizer.param_groups[0]['lr'])\n",
    "        #save model\n",
    "        if correct_test>best_model:\n",
    "            best_model=correct_test\n",
    "            path=\"model_save/resnet_\"+name_mod+\"_specl.pth\"\n",
    "            torch.save(model.state_dict(), path)\n",
    "        \n",
    "    plt.plot(Train_loss)\n",
    "    plt.plot(Test_loss)\n",
    "    plt.legend([\"train\",\"test\"])\n",
    "    plt.title(\"CrossEntropyLoss \"+name_mod)\n",
    "    plt.xlabel(\"epochs\")\n",
    "    plt.savefig('loss_'+name_mod+' _spectro_all_spectr.png')\n",
    "    plt.show()\n",
    "\n",
    "    plt.plot(Train_correct)\n",
    "    plt.plot(Test_correct)\n",
    "    plt.legend([\"train\",\"test\"])\n",
    "    plt.title(name_mod+ \" accuracy % , max acc = \"+str(max(Test_correct)))\n",
    "    plt.xlabel(\"epochs\")\n",
    "    plt.savefig('accuracy_ '+name_mod+' _spectro_all_spectr.png')\n",
    "\n",
    "\n",
    "    plt.show()"
   ]
  },
  {
   "cell_type": "markdown",
   "metadata": {
    "hidden": true
   },
   "source": [
    "model.res.fc[2].p=0.0\n",
    "model.res.fc[5].p=0.0\n",
    "#model.unfreeze\n",
    "amp_db=transforms.AmplitudeToDB()\n",
    "architecture_name=\"dense net\"\n",
    "#architecture_name=\"conv1d\" #pour resnet \n",
    "\n",
    "for i in range(3):\n",
    "    if i==0:\n",
    "        name_mod=architecture_name+\" mel db \"\n",
    "    if i==1:\n",
    "        name_mod=architecture_name+\" mfcc db \"\n",
    "    if i==2:\n",
    "        name_mod=architecture_name+\" spec db\"\n",
    "    index = i\n",
    "    \n",
    "    spectro_like=[mel_spectrogram,mfcc_transform,spectrogram]\n",
    "    spectro_like=[spectro_like[index]]\n",
    "    spectro_like_device=[i.to(device) for i in spectro_like]\n",
    "\n",
    "    normalize_spec = T.Normalize(mean=[[12.6111, -0.0646,  7.8345][index]],\n",
    "                            std=[[138.5886,   4.2762, 112.3290][index]])\n",
    "    normalize_spec_db = T.Normalize(mean=[[-13.8637, -53.9947, -21.2606][index]],\n",
    "                            std=[[19.2690, 49.1503, 22.0783][index]])\n",
    "    transform_train = T.Compose([             \n",
    "           # transforms.TimeStretch(fixed_rate =1.2),\n",
    "            normalize_spec,\n",
    "            transforms.TimeMasking(time_mask_param=20),\n",
    "            #transforms.FrequencyMasking(freq_mask_param=30),\n",
    "            #T.RandomHorizontalFlip(),\n",
    "            #T.Resize((image_size,image_size))\n",
    "                           ])\n",
    "    transform_test = T.Compose([       \n",
    "            normalize_spec ])\n",
    "\n",
    "    transform_train_db = T.Compose([  amp_db,           \n",
    "            normalize_spec_db,\n",
    "            transforms.TimeMasking(time_mask_param=20),\n",
    "            #transforms.FrequencyMasking(freq_mask_param=30),\n",
    "            #T.RandomHorizontalFlip(),\n",
    "            #T.Resize((image_size,image_size))\n",
    "                           ])\n",
    "    transform_test_db = T.Compose([ amp_db,           \n",
    "            normalize_spec_db])\n",
    "    \n",
    "    torch.cuda.empty_cache()\n",
    "    criterion = nn.CrossEntropyLoss()\n",
    "    grad_clip = 0.1\n",
    "    weight_decay = 1e-5\n",
    "    model=Net_res_mel(spectro_like_device,transform_train_db,transform_test_db).to(device)# transform_train,transform_test \n",
    "    optimizer = optim.Adam(model.parameters(), lr=0.001,weight_decay=weight_decay)\n",
    "    Train_loss=[]\n",
    "    Test_loss=[]\n",
    "    Train_correct=[]\n",
    "    Test_correct=[]\n",
    "    best_model=35\n",
    "    epochs=30\n",
    "    scheduler = torch.optim.lr_scheduler.OneCycleLR(optimizer, max_lr=0.8e-4, steps_per_epoch=len(trainloader), epochs=epochs)\n",
    "    for epoch in range(1, epochs + 1):\n",
    "        train_loss,correct_train=train(model, device, trainloader, criterion, optimizer, epoch,scheduler,log_interval=100,grad_clip=grad_clip)\n",
    "        test_loss,correct_test=test(model, device, testloader,criterion)\n",
    "        Train_loss.append(train_loss)\n",
    "        Test_loss.append(test_loss)\n",
    "        Train_correct.append(correct_train)\n",
    "        Test_correct.append(correct_test)\n",
    "        print(optimizer.param_groups[0]['lr'])\n",
    "        #save model\n",
    "        if correct_test>best_model:\n",
    "            best_model=correct_test\n",
    "            path=\"model_save/resnet_\"+name_mod+\"_specl.pth\"\n",
    "            torch.save(model.state_dict(), path)\n",
    "        \n",
    "    plt.plot(Train_loss)\n",
    "    plt.plot(Test_loss)\n",
    "    plt.legend([\"train\",\"test\"])\n",
    "    plt.title(\"CrossEntropyLoss \"+name_mod)\n",
    "    plt.xlabel(\"epochs\")\n",
    "    plt.savefig('loss_'+name_mod+' _spectro_all_spectr.png')\n",
    "    plt.show()\n",
    "\n",
    "    plt.plot(Train_correct)\n",
    "    plt.plot(Test_correct)\n",
    "    plt.legend([\"train\",\"test\"])\n",
    "    plt.title(name_mod+ \" accuracy % , max acc = \"+str(max(Test_correct)))\n",
    "    plt.xlabel(\"epochs\")\n",
    "    plt.savefig('accuracy_ '+name_mod+' _spectro_all_spectr.png')\n",
    "\n",
    "\n",
    "    plt.show()"
   ]
  },
  {
   "cell_type": "code",
   "execution_count": null,
   "metadata": {
    "hidden": true
   },
   "outputs": [],
   "source": []
  }
 ],
 "metadata": {
  "kernelspec": {
   "display_name": "Python 3",
   "language": "python",
   "name": "python3"
  },
  "language_info": {
   "codemirror_mode": {
    "name": "ipython",
    "version": 3
   },
   "file_extension": ".py",
   "mimetype": "text/x-python",
   "name": "python",
   "nbconvert_exporter": "python",
   "pygments_lexer": "ipython3",
   "version": "3.6.13"
  },
  "notify_time": "5",
  "toc": {
   "base_numbering": 1,
   "nav_menu": {},
   "number_sections": true,
   "sideBar": false,
   "skip_h1_title": false,
   "title_cell": "Table of Contents",
   "title_sidebar": "Contents",
   "toc_cell": false,
   "toc_position": {
    "height": "756.961px",
    "left": "2405.72px",
    "top": "200.352px",
    "width": "267.891px"
   },
   "toc_section_display": true,
   "toc_window_display": false
  },
  "varInspector": {
   "cols": {
    "lenName": 16,
    "lenType": 16,
    "lenVar": 40
   },
   "kernels_config": {
    "python": {
     "delete_cmd_postfix": "",
     "delete_cmd_prefix": "del ",
     "library": "var_list.py",
     "varRefreshCmd": "print(var_dic_list())"
    },
    "r": {
     "delete_cmd_postfix": ") ",
     "delete_cmd_prefix": "rm(",
     "library": "var_list.r",
     "varRefreshCmd": "cat(var_dic_list()) "
    }
   },
   "position": {
    "height": "319px",
    "left": "1550px",
    "right": "20px",
    "top": "120px",
    "width": "350px"
   },
   "types_to_exclude": [
    "module",
    "function",
    "builtin_function_or_method",
    "instance",
    "_Feature"
   ],
   "window_display": false
  }
 },
 "nbformat": 4,
 "nbformat_minor": 4
}
