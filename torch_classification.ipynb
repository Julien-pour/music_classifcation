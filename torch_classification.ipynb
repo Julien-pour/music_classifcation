{
 "cells": [
  {
   "cell_type": "code",
   "execution_count": 1,
   "metadata": {
    "ExecuteTime": {
     "end_time": "2021-04-01T08:19:22.864286Z",
     "start_time": "2021-04-01T08:19:16.825461Z"
    },
    "scrolled": false
   },
   "outputs": [
    {
     "name": "stderr",
     "output_type": "stream",
     "text": [
      "C:\\Users\\lejuj\\Anaconda3\\envs\\torchaudio\\lib\\site-packages\\torchaudio\\extension\\extension.py:13: UserWarning: torchaudio C++ extension is not available.\n",
      "  warnings.warn('torchaudio C++ extension is not available.')\n"
     ]
    },
    {
     "name": "stdout",
     "output_type": "stream",
     "text": [
      "1.8.1\n",
      "0.8.1\n"
     ]
    }
   ],
   "source": [
    "# import time\n",
    "import os\n",
    "import numpy as np\n",
    "import pandas as pd\n",
    "from sklearn.preprocessing import MultiLabelBinarizer, LabelEncoder, LabelBinarizer, StandardScaler\n",
    "import matplotlib.pyplot as plt\n",
    "from IPython.display import Audio, display\n",
    "#from pydub import AudioSegment\n",
    "import torch\n",
    "import torch.nn as nn\n",
    "import torch.nn.functional as F\n",
    "import torch.optim as optim\n",
    "import torchaudio\n",
    "import os.path\n",
    "from os import path\n",
    "import os\n",
    "import soundfile as sf\n",
    "# import torchaudio.functional as F\n",
    "# import torchaudio.transforms as T\n",
    "import librosa\n",
    "from tqdm.notebook import tqdm\n",
    "\n",
    "print(torch.__version__)\n",
    "print(torchaudio.__version__)"
   ]
  },
  {
   "cell_type": "code",
   "execution_count": 23,
   "metadata": {
    "ExecuteTime": {
     "end_time": "2021-04-01T07:58:44.934484Z",
     "start_time": "2021-04-01T07:58:44.799486Z"
    }
   },
   "outputs": [
    {
     "name": "stdout",
     "output_type": "stream",
     "text": [
      "Thu Apr 01 09:58:44 2021       \n",
      "+-----------------------------------------------------------------------------+\n",
      "| NVIDIA-SMI 452.06       Driver Version: 452.06       CUDA Version: 11.0     |\n",
      "|-------------------------------+----------------------+----------------------+\n",
      "| GPU  Name            TCC/WDDM | Bus-Id        Disp.A | Volatile Uncorr. ECC |\n",
      "| Fan  Temp  Perf  Pwr:Usage/Cap|         Memory-Usage | GPU-Util  Compute M. |\n",
      "|===============================+======================+======================|\n",
      "|   0  GeForce RTX 2060   WDDM  | 00000000:01:00.0  On |                  N/A |\n",
      "| N/A   51C    P5    12W /  N/A |    637MiB /  6144MiB |      0%      Default |\n",
      "+-------------------------------+----------------------+----------------------+\n",
      "                                                                               \n",
      "+-----------------------------------------------------------------------------+\n",
      "| Processes:                                                                  |\n",
      "|  GPU   GI   CI        PID   Type   Process name                  GPU Memory |\n",
      "|        ID   ID                                                   Usage      |\n",
      "|=============================================================================|\n",
      "|    0   N/A  N/A      1692    C+G   Insufficient Permissions        N/A      |\n",
      "|    0   N/A  N/A      2376    C+G   ...b3d8bbwe\\WinStore.App.exe    N/A      |\n",
      "|    0   N/A  N/A      6832    C+G   ...8wekyb3d8bbwe\\GameBar.exe    N/A      |\n",
      "|    0   N/A  N/A      8844    C+G   ...y\\ShellExperienceHost.exe    N/A      |\n",
      "|    0   N/A  N/A      8904    C+G   ...wekyb3d8bbwe\\Video.UI.exe    N/A      |\n",
      "|    0   N/A  N/A      9404    C+G   C:\\Windows\\explorer.exe         N/A      |\n",
      "|    0   N/A  N/A     11460    C+G   ...ekyb3d8bbwe\\YourPhone.exe    N/A      |\n",
      "|    0   N/A  N/A     11604    C+G   ...artMenuExperienceHost.exe    N/A      |\n",
      "|    0   N/A  N/A     12028    C+G   ...w5n1h2txyewy\\SearchUI.exe    N/A      |\n",
      "|    0   N/A  N/A     12956    C+G   ...me\\Application\\chrome.exe    N/A      |\n",
      "|    0   N/A  N/A     13732    C+G   ...s (x86)\\Origin\\Origin.exe    N/A      |\n",
      "|    0   N/A  N/A     13912    C+G   ...perience\\NVIDIA Share.exe    N/A      |\n",
      "|    0   N/A  N/A     14876    C+G   ...qxf38zg5c\\Skype\\Skype.exe    N/A      |\n",
      "|    0   N/A  N/A     17768    C+G   ...qxf38zg5c\\Skype\\Skype.exe    N/A      |\n",
      "|    0   N/A  N/A     20976    C+G   ...lPanel\\SystemSettings.exe    N/A      |\n",
      "+-----------------------------------------------------------------------------+\n"
     ]
    }
   ],
   "source": [
    "!nvidia-smi "
   ]
  },
  {
   "cell_type": "code",
   "execution_count": 3,
   "metadata": {
    "ExecuteTime": {
     "end_time": "2021-03-31T17:52:48.072871Z",
     "start_time": "2021-03-31T17:52:48.069874Z"
    }
   },
   "outputs": [],
   "source": [
    "# implement mixed precision"
   ]
  },
  {
   "cell_type": "markdown",
   "metadata": {},
   "source": [
    "# panda time"
   ]
  },
  {
   "cell_type": "code",
   "execution_count": 2,
   "metadata": {
    "ExecuteTime": {
     "end_time": "2021-04-01T08:19:29.612733Z",
     "start_time": "2021-04-01T08:19:27.608735Z"
    },
    "scrolled": true
   },
   "outputs": [],
   "source": [
    "tracks = pd.read_csv('data/fma_metadata/tracks.csv', index_col=0, header=[0, 1])\n",
    "subset=tracks.index[tracks['set', 'subset'] == 'small']\n",
    "tracks=tracks.loc[subset]\n",
    "tracks;"
   ]
  },
  {
   "cell_type": "markdown",
   "metadata": {},
   "source": [
    "## split dataset (train, test)"
   ]
  },
  {
   "cell_type": "code",
   "execution_count": 3,
   "metadata": {
    "ExecuteTime": {
     "end_time": "2021-04-01T08:19:29.720778Z",
     "start_time": "2021-04-01T08:19:29.710763Z"
    },
    "scrolled": false
   },
   "outputs": [
    {
     "name": "stdout",
     "output_type": "stream",
     "text": [
      "6400 training examples, 800 validation examples, 1600 testing examples\n",
      "Top genres (8): ['Electronic', 'Experimental', 'Folk', 'Hip-Hop', 'Instrumental', 'International', 'Pop', 'Rock']\n"
     ]
    }
   ],
   "source": [
    "# train => track_id train \n",
    "# data => track_id + label\n",
    "train_index = tracks.index[tracks['set', 'split'] == 'training']\n",
    "val_index = tracks.index[tracks['set', 'split'] == 'validation']\n",
    "test_index = tracks.index[(tracks['set', 'split'] == 'test' )| (tracks['set', 'split']=='validation') ]\n",
    "print('{} training examples, {} validation examples, {} testing examples'.format(*map(len, [train_index, val_index, test_index])))\n",
    "genres = list(LabelEncoder().fit(tracks['track', 'genre_top']).classes_)\n",
    "print('Top genres ({}): {}'.format(len(genres), genres))\n",
    "data=tracks['track', 'genre_top']\n",
    "# data,train_index[0], data.loc[train_index[0]] # (2, 'Hip-Hop')"
   ]
  },
  {
   "cell_type": "code",
   "execution_count": 4,
   "metadata": {
    "ExecuteTime": {
     "end_time": "2021-04-01T08:19:29.847735Z",
     "start_time": "2021-04-01T08:19:29.812774Z"
    }
   },
   "outputs": [],
   "source": [
    "enc = MultiLabelBinarizer()\n",
    "labels = tracks['track', 'genres_all']\n",
    "#labels = tracks['track', 'genres']\n",
    "test_multi_index = tracks.index[(tracks['set', 'split'] == 'test' ) ]\n",
    "\n",
    "# Split in training, validation and testing sets.\n",
    "y_train = enc.fit_transform(labels[train_index])\n",
    "y_val = enc.transform(labels[val_index])\n",
    "y_test = enc.transform(labels[test_index])\n",
    "# X_train = features.loc[train, columns].as_matrix()\n",
    "# X_val = features.loc[val, columns].as_matrix()\n",
    "# X_test = features.loc[test, columns].as_matrix()"
   ]
  },
  {
   "cell_type": "markdown",
   "metadata": {},
   "source": [
    "/!\\ data corrupted delete them : \"099134.mp3\" \"108925.mp3\" \"133297.mp3\" use cell below"
   ]
  },
  {
   "cell_type": "code",
   "execution_count": 5,
   "metadata": {
    "ExecuteTime": {
     "end_time": "2021-04-01T08:19:30.479036Z",
     "start_time": "2021-04-01T08:19:30.445015Z"
    },
    "scrolled": false
   },
   "outputs": [
    {
     "name": "stdout",
     "output_type": "stream",
     "text": [
      "3530\n",
      "3896\n",
      "5609\n"
     ]
    }
   ],
   "source": [
    "#beug fix that\n",
    "flag=len(train_index)\n",
    "for i in range(len(train_index)):\n",
    "    if flag==i:\n",
    "        break\n",
    "    if str(train_index[i])==\"99134\" or str(train_index[i])==\"108925\" or str(train_index[i])==\"133297\":\n",
    "        print(i)\n",
    "        train_index=train_index.delete(i)\n",
    "        y_train=np.delete(y_train, i,axis=0)\n",
    "\n",
    "        flag=flag-1\n"
   ]
  },
  {
   "cell_type": "markdown",
   "metadata": {
    "ExecuteTime": {
     "end_time": "2021-03-27T09:35:43.630461Z",
     "start_time": "2021-03-27T09:35:43.626599Z"
    }
   },
   "source": [
    "## (use one time) to convert all mp3 to wav (more than 10 to 100 times faster with wav)"
   ]
  },
  {
   "cell_type": "markdown",
   "metadata": {
    "ExecuteTime": {
     "end_time": "2021-03-27T09:27:52.750234Z",
     "start_time": "2021-03-27T09:27:52.284935Z"
    },
    "scrolled": false
   },
   "source": [
    "#!mkdir \"data_proces/fma_small/\"\n",
    "path1=\"data/fma_small/\"\n",
    "path_stockage=\"data_proces/fma_small/\"\n",
    "count=0\n",
    "for root, dirs, files in os.walk(path1):\n",
    "    for name in files:\n",
    "        if name.endswith(\".mp3\"):\n",
    "            if not(path.exists(path_stockage+name[:-4]+'.wav')):\n",
    "                try:\n",
    "                    waveform, sample_rate=librosa.load(root+\"/\"+name,duration=15,sr=22050)\n",
    "                    sf.write(path_stockage+name[:-4]+'.wav', waveform, sample_rate)\n",
    "                    count+=1\n",
    "                except:\n",
    "                    print(\"audio :\"+root+\"/\"+name+\"  is corrupted\")"
   ]
  },
  {
   "cell_type": "markdown",
   "metadata": {},
   "source": [
    "# creation of dataset and dataloader"
   ]
  },
  {
   "cell_type": "code",
   "execution_count": 6,
   "metadata": {
    "ExecuteTime": {
     "end_time": "2021-04-01T08:19:31.938684Z",
     "start_time": "2021-04-01T08:19:31.926685Z"
    }
   },
   "outputs": [],
   "source": [
    "from torch.utils.data import Dataset, DataLoader\n",
    "\n",
    "# creation of torch dataset\n",
    "\n",
    "\n",
    "#type_set= train or test \n",
    "#audio_ids\n",
    "label_dic = {'Electronic': 0,  'Experimental':1, 'Folk':2,'Hip-Hop':3,\n",
    " 'Instrumental':4,\n",
    " 'International':5,\n",
    " 'Pop':6,\n",
    " 'Rock':7}\n",
    "\n",
    "\n",
    "class Audio_classification(Dataset):\n",
    "    def __init__(self,type_set, audio_idx, class_ids,label_dic,time_audio_resize=3, transform = None):#(\"train\",train,data,)\n",
    "            self.type_set=type_set\n",
    "            self.audio_ids = audio_idx\n",
    "            self.class_ids = class_ids\n",
    "            self.label_dic = label_dic\n",
    "            self.time_audio_resize=time_audio_resize\n",
    "            self.transform = transform\n",
    "#             if self.is_valid == 1:\n",
    "#                 self.aug = # transfoms for validation images\n",
    "#             else:                  \n",
    "#                 self.aug = # transfoms for training images\n",
    "                \n",
    "    def __len__(self):\n",
    "          return len(self.audio_ids)\n",
    "    \n",
    "        \n",
    "    def __getitem__(self, index):\n",
    "            #on prend 3s\n",
    "            load_first_n_sec_audio=15\n",
    "            sample_rate_default=22050\n",
    "            #time_audio_resize #= 3#sec\n",
    "            \n",
    "            #audio_path is like 000002.wav but self.audio_ids[index] has not all the 0 include so ...\n",
    "            idx=self.audio_ids[index]\n",
    "            count=len(str(idx))\n",
    "            #print(\"The number of digits in the number are:\",count)\n",
    "            if count!=6:\n",
    "                idx=\"0\"*(6-count)+str(idx)\n",
    "            audio_path=str(idx)\n",
    "\n",
    "            filename = \"data_proces/fma_small/\"+ audio_path +\".wav\"\n",
    "            label = self.label_dic[self.class_ids.loc[self.audio_ids[index]]]\n",
    "            \n",
    "            #load audio mp3\n",
    "            \n",
    "            waveform, sample_rate=torchaudio.load(filename, normalize = True)\n",
    "            #waveform, sample_rate=sf.read(filename,sr=None)\n",
    "                \n",
    "            len_audio_resize = int(sample_rate_default * self.time_audio_resize)\n",
    "            indice_max=len(waveform[0])-len_audio_resize-1\n",
    "            indice_initial=np.random.randint(max(indice_max,1))\n",
    "            #make 3sec long audio (time_audio_resize=3sec)\n",
    "            if self.type_set==\"train\":\n",
    "                waveform = waveform[:,indice_initial:indice_initial+len_audio_resize]\n",
    "            else:\n",
    "                waveform = waveform[:,0:len_audio_resize]\n",
    "                \n",
    "            # if weveform is to short zero padding at the end \n",
    "            if waveform.size()!=(1,len_audio_resize):\n",
    "                waveform=torch.cat((waveform,torch.zeros((1,len_audio_resize-waveform.size(1)))),1)\n",
    "\n",
    "            if self.transform:\n",
    "                waveform = self.transform(waveform)\n",
    "            return waveform,torch.tensor(label, dtype = torch.float)\n",
    "\n",
    "        \n"
   ]
  },
  {
   "cell_type": "markdown",
   "metadata": {},
   "source": [
    "# train and test function"
   ]
  },
  {
   "cell_type": "code",
   "execution_count": 163,
   "metadata": {
    "ExecuteTime": {
     "end_time": "2021-04-01T10:35:30.982715Z",
     "start_time": "2021-04-01T10:35:30.967678Z"
    }
   },
   "outputs": [],
   "source": [
    "#https://pytorch.org/tutorials/recipes/recipes/amp_recipe.html\n",
    "use_amp = False #mixed precision float 16\n",
    "scaler = torch.cuda.amp.GradScaler(enabled=use_amp)\n",
    "\n",
    "def train(model, device, trainloader, criterion, optimizer, epoch,scheduler, log_interval,grad_clip=None):\n",
    "    model.train()\n",
    "    correct = 0\n",
    "    train_loss = 0\n",
    "    for batch_idx, (data, target) in enumerate(tqdm(trainloader)):\n",
    "        data, target = data.to(device), target.to(device)\n",
    "        optimizer.zero_grad()\n",
    "        with torch.cuda.amp.autocast(enabled=use_amp): # full mixed precision enabled=use_amp   \n",
    "            output = model(data)\n",
    "            loss = criterion(output, target.long())\n",
    "        scaler.scale(loss).backward()\n",
    "        if grad_clip: \n",
    "                nn.utils.clip_grad_value_(model.parameters(), grad_clip)\n",
    "        scaler.step(optimizer)\n",
    "        scaler.update()\n",
    "        scheduler.step()\n",
    "\n",
    "        pred = output.argmax(dim=1, keepdim=True)\n",
    "        correct += pred.eq(target.view_as(pred)).sum().item()\n",
    "#         loss.backward()\n",
    "#         optimizer.step()\n",
    "        train_loss += loss.item()\n",
    "#     if batch_idx % log_interval == 0:\n",
    "    print('Train Epoch: {}  \\tLoss: {:.6f}   Accuracy: {}/{} ({:.0f}%'.format(\n",
    "        epoch, loss.item(), correct, len(trainloader.dataset), 100. * correct / len(trainloader.dataset)))\n",
    "    return train_loss/len(trainloader.dataset),100. * correct / len(trainloader.dataset)\n",
    "\n",
    "\n",
    "def test(model, device, testloader,criterion):\n",
    "    model.eval()\n",
    "    test_loss = 0\n",
    "    correct = 0\n",
    "    with torch.no_grad():\n",
    "        for data, target in testloader:\n",
    "            data, target = data.to(device), target.to(device)\n",
    "            output = model(data)\n",
    "            test_loss += criterion(output, target.long()).item()  # sum up batch loss\n",
    "            pred = output.argmax(dim=1, keepdim=True)  # get the index of the max log-probability\n",
    "            correct += pred.eq(target.view_as(pred)).sum().item()\n",
    "\n",
    "    test_loss /= len(testloader.dataset)\n",
    "\n",
    "    print('\\nTest set: Average loss: {:.4f}, Accuracy: {}/{} ({:.0f}%)\\n'.format(\n",
    "        test_loss, correct, len(testloader.dataset),\n",
    "        100. * correct / len(testloader.dataset)))\n",
    "    return test_loss,100. * correct / len(testloader.dataset)"
   ]
  },
  {
   "cell_type": "markdown",
   "metadata": {},
   "source": [
    "# Model"
   ]
  },
  {
   "cell_type": "markdown",
   "metadata": {},
   "source": [
    "## dataset waveform"
   ]
  },
  {
   "cell_type": "code",
   "execution_count": 8,
   "metadata": {
    "ExecuteTime": {
     "end_time": "2021-04-01T08:19:34.017598Z",
     "start_time": "2021-04-01T08:19:33.966586Z"
    }
   },
   "outputs": [
    {
     "data": {
      "text/plain": [
       "66150"
      ]
     },
     "execution_count": 8,
     "metadata": {},
     "output_type": "execute_result"
    }
   ],
   "source": [
    "device = torch.device(\"cuda\" if torch.cuda.is_available() else \"cpu\")\n",
    "\n",
    "trainset  = Audio_classification(\"train\",train_index,data,label_dic)\n",
    "trainloader  = DataLoader(trainset , batch_size=64,\n",
    "                        shuffle=False, num_workers=0)\n",
    "\n",
    "testset = Audio_classification(\"test\",test_index,data,label_dic)\n",
    "testloader   = DataLoader(testset , batch_size=64,\n",
    "                        shuffle=False, num_workers=0)\n",
    "\n",
    "wav,lab=trainset[0]\n",
    "size_in=wav.size(1)\n",
    "# size_in=sample['waveform'].size(1)\n",
    "size_in"
   ]
  },
  {
   "cell_type": "markdown",
   "metadata": {},
   "source": [
    "## Baseline"
   ]
  },
  {
   "cell_type": "code",
   "execution_count": 9,
   "metadata": {
    "ExecuteTime": {
     "end_time": "2021-04-01T08:19:36.343867Z",
     "start_time": "2021-04-01T08:19:36.337912Z"
    }
   },
   "outputs": [],
   "source": [
    "class Model(nn.Module):\n",
    "    def __init__(self,size_in):\n",
    "        super(Model, self).__init__()\n",
    "        self.size_in=size_in\n",
    "        self.fc1 = nn.Linear(size_in, 100)\n",
    "        self.fc2 = nn.Linear(100, 100)\n",
    "        self.fc3 = nn.Linear(100, 8)\n",
    "\n",
    "    def forward(self, x):\n",
    "        x = x.view(-1, self.size_in)\n",
    "        x = F.relu(self.fc1(x))\n",
    "        x = F.relu(self.fc2(x))\n",
    "        x = self.fc3(x)\n",
    "        return x\n",
    "\n",
    "# Initialize model\n",
    "\n",
    "# from torchsummary import summary\n",
    "\n",
    "# summary(model, ([1, size_in]))"
   ]
  },
  {
   "cell_type": "code",
   "execution_count": 15,
   "metadata": {
    "ExecuteTime": {
     "end_time": "2021-04-01T08:26:42.608744Z",
     "start_time": "2021-04-01T08:26:42.537695Z"
    }
   },
   "outputs": [],
   "source": [
    "#use cuda si possible\n",
    "# model init\n",
    "model = Model(size_in).to(device)\n",
    "#loss = softmax + nllloss\n",
    "criterion = nn.CrossEntropyLoss()\n",
    "optimizer = optim.Adam(model.parameters(), lr=0.001)\n",
    "Train_loss=[]\n",
    "Test_loss=[]\n",
    "Train_acc= []\n",
    "Test_acc=[]"
   ]
  },
  {
   "cell_type": "code",
   "execution_count": 19,
   "metadata": {
    "ExecuteTime": {
     "end_time": "2021-04-01T08:45:58.864986Z",
     "start_time": "2021-04-01T08:42:47.817034Z"
    },
    "scrolled": true
   },
   "outputs": [
    {
     "data": {
      "application/vnd.jupyter.widget-view+json": {
       "model_id": "672ab24ab4eb494692460206071830b1",
       "version_major": 2,
       "version_minor": 0
      },
      "text/plain": [
       "  0%|          | 0/100 [00:00<?, ?it/s]"
      ]
     },
     "metadata": {},
     "output_type": "display_data"
    },
    {
     "name": "stdout",
     "output_type": "stream",
     "text": [
      "Train Epoch: 1  \tLoss: 2.019386   Accuracy: 1460/6397 (23%\n",
      "\n",
      "Test set: Average loss: 0.0304, Accuracy: 351/1600 (22%)\n",
      "\n"
     ]
    },
    {
     "data": {
      "application/vnd.jupyter.widget-view+json": {
       "model_id": "5e72bc3f12d548c09fd97fdd92289c19",
       "version_major": 2,
       "version_minor": 0
      },
      "text/plain": [
       "  0%|          | 0/100 [00:00<?, ?it/s]"
      ]
     },
     "metadata": {},
     "output_type": "display_data"
    },
    {
     "name": "stdout",
     "output_type": "stream",
     "text": [
      "Train Epoch: 2  \tLoss: 1.978918   Accuracy: 1544/6397 (24%\n",
      "\n",
      "Test set: Average loss: 0.0304, Accuracy: 347/1600 (22%)\n",
      "\n"
     ]
    },
    {
     "data": {
      "application/vnd.jupyter.widget-view+json": {
       "model_id": "8fab7825ad5c445091cb58b1244dd0e4",
       "version_major": 2,
       "version_minor": 0
      },
      "text/plain": [
       "  0%|          | 0/100 [00:00<?, ?it/s]"
      ]
     },
     "metadata": {},
     "output_type": "display_data"
    },
    {
     "name": "stdout",
     "output_type": "stream",
     "text": [
      "Train Epoch: 3  \tLoss: 1.963755   Accuracy: 1499/6397 (23%\n",
      "\n",
      "Test set: Average loss: 0.0304, Accuracy: 349/1600 (22%)\n",
      "\n"
     ]
    },
    {
     "data": {
      "application/vnd.jupyter.widget-view+json": {
       "model_id": "c3d41585197d4df4920f971d949ac04e",
       "version_major": 2,
       "version_minor": 0
      },
      "text/plain": [
       "  0%|          | 0/100 [00:00<?, ?it/s]"
      ]
     },
     "metadata": {},
     "output_type": "display_data"
    },
    {
     "name": "stdout",
     "output_type": "stream",
     "text": [
      "Train Epoch: 4  \tLoss: 2.021659   Accuracy: 1506/6397 (24%\n",
      "\n",
      "Test set: Average loss: 0.0304, Accuracy: 347/1600 (22%)\n",
      "\n"
     ]
    },
    {
     "data": {
      "application/vnd.jupyter.widget-view+json": {
       "model_id": "77844278a1a64e67b4fbe3e9524abf5d",
       "version_major": 2,
       "version_minor": 0
      },
      "text/plain": [
       "  0%|          | 0/100 [00:00<?, ?it/s]"
      ]
     },
     "metadata": {},
     "output_type": "display_data"
    },
    {
     "name": "stdout",
     "output_type": "stream",
     "text": [
      "Train Epoch: 5  \tLoss: 1.999352   Accuracy: 1519/6397 (24%\n",
      "\n",
      "Test set: Average loss: 0.0304, Accuracy: 364/1600 (23%)\n",
      "\n"
     ]
    },
    {
     "data": {
      "application/vnd.jupyter.widget-view+json": {
       "model_id": "deaa844c85a24285ab94e3a8c06ff5df",
       "version_major": 2,
       "version_minor": 0
      },
      "text/plain": [
       "  0%|          | 0/100 [00:00<?, ?it/s]"
      ]
     },
     "metadata": {},
     "output_type": "display_data"
    },
    {
     "name": "stdout",
     "output_type": "stream",
     "text": [
      "Train Epoch: 6  \tLoss: 1.985306   Accuracy: 1481/6397 (23%\n",
      "\n",
      "Test set: Average loss: 0.0303, Accuracy: 360/1600 (22%)\n",
      "\n"
     ]
    },
    {
     "data": {
      "application/vnd.jupyter.widget-view+json": {
       "model_id": "0261b30bc6f84c43bbe5a54a53b831cb",
       "version_major": 2,
       "version_minor": 0
      },
      "text/plain": [
       "  0%|          | 0/100 [00:00<?, ?it/s]"
      ]
     },
     "metadata": {},
     "output_type": "display_data"
    },
    {
     "name": "stdout",
     "output_type": "stream",
     "text": [
      "Train Epoch: 7  \tLoss: 2.015974   Accuracy: 1491/6397 (23%\n",
      "\n",
      "Test set: Average loss: 0.0303, Accuracy: 359/1600 (22%)\n",
      "\n"
     ]
    },
    {
     "data": {
      "application/vnd.jupyter.widget-view+json": {
       "model_id": "17bb530e2db64f14b2ee3530baa7e388",
       "version_major": 2,
       "version_minor": 0
      },
      "text/plain": [
       "  0%|          | 0/100 [00:00<?, ?it/s]"
      ]
     },
     "metadata": {},
     "output_type": "display_data"
    },
    {
     "name": "stdout",
     "output_type": "stream",
     "text": [
      "Train Epoch: 8  \tLoss: 1.995072   Accuracy: 1539/6397 (24%\n",
      "\n",
      "Test set: Average loss: 0.0303, Accuracy: 365/1600 (23%)\n",
      "\n"
     ]
    },
    {
     "data": {
      "application/vnd.jupyter.widget-view+json": {
       "model_id": "7e3c8bf1075941c196eb69ce8dc28434",
       "version_major": 2,
       "version_minor": 0
      },
      "text/plain": [
       "  0%|          | 0/100 [00:00<?, ?it/s]"
      ]
     },
     "metadata": {},
     "output_type": "display_data"
    },
    {
     "name": "stdout",
     "output_type": "stream",
     "text": [
      "Train Epoch: 9  \tLoss: 1.933881   Accuracy: 1511/6397 (24%\n",
      "\n",
      "Test set: Average loss: 0.0303, Accuracy: 370/1600 (23%)\n",
      "\n"
     ]
    },
    {
     "data": {
      "application/vnd.jupyter.widget-view+json": {
       "model_id": "fcf200f4f5ed4f1784392ae23fdf761c",
       "version_major": 2,
       "version_minor": 0
      },
      "text/plain": [
       "  0%|          | 0/100 [00:00<?, ?it/s]"
      ]
     },
     "metadata": {},
     "output_type": "display_data"
    },
    {
     "name": "stdout",
     "output_type": "stream",
     "text": [
      "Train Epoch: 10  \tLoss: 1.989945   Accuracy: 1522/6397 (24%\n",
      "\n",
      "Test set: Average loss: 0.0303, Accuracy: 374/1600 (23%)\n",
      "\n"
     ]
    },
    {
     "data": {
      "image/png": "[encoded data removed]",
      "text/plain": [
       "<Figure size 432x288 with 1 Axes>"
      ]
     },
     "metadata": {
      "needs_background": "light"
     },
     "output_type": "display_data"
    },
    {
     "data": {
      "image/png": "[encoded data removed]",
      "text/plain": [
       "<Figure size 432x288 with 1 Axes>"
      ]
     },
     "metadata": {
      "needs_background": "light"
     },
     "output_type": "display_data"
    }
   ],
   "source": [
    "# best acc is 25% after 30 epochs\n",
    "epochs=10\n",
    "scheduler = torch.optim.lr_scheduler.OneCycleLR(optimizer, max_lr=0.0001, steps_per_epoch=len(trainloader), epochs=epochs)\n",
    "\n",
    "for epoch in range(1, epochs + 1):\n",
    "    train_loss,train_acc=train(model, device, trainloader, criterion, optimizer, epoch,scheduler,log_interval=100)\n",
    "    test_loss,test_acc=test(model, device, testloader,criterion)\n",
    "    Train_loss.append(train_loss)\n",
    "    Test_loss.append(test_loss)\n",
    "    Train_acc.append(train_acc)\n",
    "    Test_acc.append(test_acc)\n",
    "plt.plot(Train_loss)\n",
    "plt.plot(Test_loss)\n",
    "plt.legend([\"train\",\"test\"])\n",
    "plt.show()\n",
    "plt.plot(Train_acc)\n",
    "plt.plot(Test_acc)\n",
    "plt.legend([\"train\",\"test\"])\n",
    "plt.show()"
   ]
  },
  {
   "cell_type": "code",
   "execution_count": null,
   "metadata": {},
   "outputs": [],
   "source": []
  },
  {
   "cell_type": "code",
   "execution_count": 13,
   "metadata": {
    "ExecuteTime": {
     "end_time": "2021-04-01T08:23:45.543365Z",
     "start_time": "2021-04-01T08:23:45.538395Z"
    }
   },
   "outputs": [
    {
     "data": {
      "text/plain": [
       "[(0.03247521380921985, 13.615757386274817),\n",
       " (0.03227808683463069, 14.303579803032672),\n",
       " (0.03212598541555543, 14.803814287947475),\n",
       " (0.03188480685348714, 16.570267312802876),\n",
       " (0.031567705130416825, 17.945912146318587),\n",
       " (0.0315299689331818, 17.883382835704236),\n",
       " (0.03140983151815563, 18.164764733468814),\n",
       " (0.031170931573545484, 19.212130686259183),\n",
       " (0.030952744545816573, 20.68156948569642),\n",
       " (0.030944689337268405, 20.90042207284665)]"
      ]
     },
     "execution_count": 13,
     "metadata": {},
     "output_type": "execute_result"
    }
   ],
   "source": [
    "Train_loss"
   ]
  },
  {
   "cell_type": "markdown",
   "metadata": {},
   "source": [
    "## model 1"
   ]
  },
  {
   "cell_type": "code",
   "execution_count": 8,
   "metadata": {
    "ExecuteTime": {
     "end_time": "2021-03-31T17:33:12.436771Z",
     "start_time": "2021-03-31T17:33:12.427812Z"
    },
    "scrolled": true
   },
   "outputs": [],
   "source": [
    "class Net(nn.Module):\n",
    "    def __init__(self):\n",
    "        super(Net, self).__init__()\n",
    "        self.conv1 = nn.Conv1d(1, 128, 80, 4)\n",
    "        self.bn1 = nn.BatchNorm1d(128)\n",
    "        self.pool1 = nn.MaxPool1d(4)\n",
    "        self.conv2 = nn.Conv1d(128, 128, 3)\n",
    "        self.bn2 = nn.BatchNorm1d(128)\n",
    "        self.pool2 = nn.MaxPool1d(4)\n",
    "        self.conv3 = nn.Conv1d(128, 256, 3)\n",
    "        self.bn3 = nn.BatchNorm1d(256)\n",
    "        self.pool3 = nn.MaxPool1d(4)\n",
    "        self.conv4 = nn.Conv1d(256, 512, 3)\n",
    "        self.bn4 = nn.BatchNorm1d(512)\n",
    "        self.pool4 = nn.MaxPool1d(4)\n",
    "        self.avgPool = nn.AvgPool1d(30) #input should be 512x30 so this outputs a 512x1\n",
    "        self.fc1 = nn.Linear(1024, 10)\n",
    "        \n",
    "    def forward(self, x):\n",
    "        x = self.conv1(x)\n",
    "        x = F.relu(self.bn1(x))\n",
    "        x = self.pool1(x)\n",
    "        x = self.conv2(x)\n",
    "        x = F.relu(self.bn2(x))\n",
    "        x = self.pool2(x)\n",
    "        x = self.conv3(x)\n",
    "        x = F.relu(self.bn3(x))\n",
    "        x = self.pool3(x)\n",
    "        x = self.conv4(x)\n",
    "        x = F.relu(self.bn4(x))\n",
    "        x = self.pool4(x)\n",
    "        x = self.avgPool(x)\n",
    "        x = x.view(x.size(0),-1)\n",
    "        x = self.fc1(x)\n",
    "        return x\n",
    "\n",
    "# model = Net()\n",
    "# model.to(device)\n",
    "# print(model)\n",
    "\n",
    "# from torchsummary import summary\n",
    "# summary(model, ([1, size_in]))"
   ]
  },
  {
   "cell_type": "code",
   "execution_count": null,
   "metadata": {
    "ExecuteTime": {
     "end_time": "2021-03-31T09:45:14.468169Z",
     "start_time": "2021-03-31T09:45:08.734Z"
    }
   },
   "outputs": [],
   "source": [
    "#use cuda si possible\n",
    "device = torch.device(\"cuda\" if torch.cuda.is_available() else \"cpu\")\n",
    "# model init\n",
    "model = Net().to(device)\n",
    "#loss = softmax + nllloss\n",
    "criterion = nn.CrossEntropyLoss()\n",
    "optimizer = optim.Adam(model.parameters(), lr=0.001)\n",
    "Train_loss=[]\n",
    "Test_loss=[]"
   ]
  },
  {
   "cell_type": "code",
   "execution_count": null,
   "metadata": {
    "ExecuteTime": {
     "end_time": "2021-03-31T09:45:14.479166Z",
     "start_time": "2021-03-31T09:45:09.044Z"
    },
    "scrolled": true
   },
   "outputs": [],
   "source": [
    "# best acc is 25%\n",
    "epochs=8\n",
    "scheduler = torch.optim.lr_scheduler.OneCycleLR(optimizer, max_lr=0.0001, steps_per_epoch=len(trainloader), epochs=epochs)\n",
    "for epoch in range(1, epochs + 1):\n",
    "    train_loss=train(model, device, trainloader, criterion, optimizer, epoch,scheduler,log_interval=100)\n",
    "    test_loss=test(model, device, testloader,criterion)\n",
    "    Train_loss.append(train_loss)\n",
    "    Test_loss.append(test_loss)\n",
    "plt.plot(Train_loss)\n",
    "plt.plot(Test_loss)\n",
    "plt.legend([\"train\",\"test\"])"
   ]
  },
  {
   "cell_type": "code",
   "execution_count": null,
   "metadata": {
    "ExecuteTime": {
     "end_time": "2021-03-31T09:45:14.488173Z",
     "start_time": "2021-03-31T09:45:09.334Z"
    }
   },
   "outputs": [],
   "source": [
    "path=\"model_save/Net.pth\"\n",
    "\n",
    "torch.save(model.state_dict(), path)\n"
   ]
  },
  {
   "cell_type": "code",
   "execution_count": null,
   "metadata": {},
   "outputs": [],
   "source": [
    "model = Net().to(device)(*args, **kwargs)\n",
    "model.load_state_dict(torch.load(PATH))\n",
    "model.eval()"
   ]
  },
  {
   "cell_type": "markdown",
   "metadata": {},
   "source": [
    "## model 2"
   ]
  },
  {
   "cell_type": "code",
   "execution_count": 10,
   "metadata": {
    "ExecuteTime": {
     "end_time": "2021-03-28T20:43:09.594670Z",
     "start_time": "2021-03-28T20:43:09.585711Z"
    }
   },
   "outputs": [],
   "source": [
    "def conv_bn(in_channels, out_channels, kernel_size, same_padd=False, stride=1):\n",
    "    if same_padd:\n",
    "        return nn.Sequential(nn.Conv1d(in_channels, out_channels,kernel_size, stride,int((kernel_size-1)/2)), nn.BatchNorm1d(out_channels),nn.ReLU())\n",
    "    else:\n",
    "        return nn.Sequential(nn.Conv1d(in_channels, out_channels,kernel_size, stride), nn.BatchNorm1d(out_channels),nn.ReLU())\n",
    "    \n",
    "# arXiv:1603.05027v3,2016 un peu comme les resnetxl\n",
    "class ResBlock(nn.Module):\n",
    "    def __init__(self, in_channels, max_channels):\n",
    "        super().__init__()\n",
    "        self.in_channels, self.max_channels = in_channels, max_channels\n",
    "        \n",
    "        self.first_bn=nn.BatchNorm1d(self.in_channels)\n",
    "        self.cbn1=conv_bn(self.in_channels,self.max_channels,1)\n",
    "        self.cbn2=conv_bn(self.max_channels,self.max_channels,9,same_padd=True)\n",
    "        self.c3=nn.Conv1d(self.max_channels,self.in_channels,1)\n",
    "        self.last_bn=nn.BatchNorm1d(self.in_channels)\n",
    "    def forward(self, x):\n",
    "        residual = x\n",
    "        x=self.first_bn(x)\n",
    "        x=self.cbn1(x)\n",
    "        x=self.cbn2(x)\n",
    "        x=self.c3(x)\n",
    "        x += residual\n",
    "        x=self.last_bn(x)\n",
    "        return x"
   ]
  },
  {
   "cell_type": "code",
   "execution_count": 11,
   "metadata": {
    "ExecuteTime": {
     "end_time": "2021-03-28T20:43:14.843068Z",
     "start_time": "2021-03-28T20:43:09.902731Z"
    },
    "scrolled": true
   },
   "outputs": [
    {
     "name": "stdout",
     "output_type": "stream",
     "text": [
      "==========================================================================================\n",
      "Layer (type:depth-idx)                   Output Shape              Param #\n",
      "==========================================================================================\n",
      "├─Sequential: 1-1                        [-1, 512, 821]            --\n",
      "|    └─Sequential: 2-1                   [-1, 512, 3303]           --\n",
      "|    |    └─Conv1d: 3-1                  [-1, 512, 3303]           51,712\n",
      "|    |    └─BatchNorm1d: 3-2             [-1, 512, 3303]           1,024\n",
      "|    |    └─ReLU: 3-3                    [-1, 512, 3303]           --\n",
      "|    └─Conv1d: 2-2                       [-1, 512, 821]            5,243,392\n",
      "├─ResBlock: 1-2                          [-1, 512, 821]            --\n",
      "|    └─BatchNorm1d: 2-3                  [-1, 512, 821]            1,024\n",
      "|    └─Sequential: 2-4                   [-1, 512, 821]            --\n",
      "|    |    └─Conv1d: 3-4                  [-1, 512, 821]            262,656\n",
      "|    |    └─BatchNorm1d: 3-5             [-1, 512, 821]            1,024\n",
      "|    |    └─ReLU: 3-6                    [-1, 512, 821]            --\n",
      "|    └─Sequential: 2-5                   [-1, 512, 821]            --\n",
      "|    |    └─Conv1d: 3-7                  [-1, 512, 821]            2,359,808\n",
      "|    |    └─BatchNorm1d: 3-8             [-1, 512, 821]            1,024\n",
      "|    |    └─ReLU: 3-9                    [-1, 512, 821]            --\n",
      "|    └─Conv1d: 2-6                       [-1, 512, 821]            262,656\n",
      "|    └─BatchNorm1d: 2-7                  [-1, 512, 821]            1,024\n",
      "├─Sequential: 1-3                        [-1, 512, 818]            --\n",
      "|    └─Conv1d: 2-8                       [-1, 512, 818]            1,049,088\n",
      "|    └─BatchNorm1d: 2-9                  [-1, 512, 818]            1,024\n",
      "|    └─ReLU: 2-10                        [-1, 512, 818]            --\n",
      "├─MaxPool1d: 1-4                         [-1, 512, 204]            --\n",
      "├─ResBlock: 1-5                          [-1, 512, 204]            --\n",
      "|    └─BatchNorm1d: 2-11                 [-1, 512, 204]            1,024\n",
      "|    └─Sequential: 2-12                  [-1, 256, 204]            --\n",
      "|    |    └─Conv1d: 3-10                 [-1, 256, 204]            131,328\n",
      "|    |    └─BatchNorm1d: 3-11            [-1, 256, 204]            512\n",
      "|    |    └─ReLU: 3-12                   [-1, 256, 204]            --\n",
      "|    └─Sequential: 2-13                  [-1, 256, 204]            --\n",
      "|    |    └─Conv1d: 3-13                 [-1, 256, 204]            590,080\n",
      "|    |    └─BatchNorm1d: 3-14            [-1, 256, 204]            512\n",
      "|    |    └─ReLU: 3-15                   [-1, 256, 204]            --\n",
      "|    └─Conv1d: 2-14                      [-1, 512, 204]            131,584\n",
      "|    └─BatchNorm1d: 2-15                 [-1, 512, 204]            1,024\n",
      "├─Sequential: 1-6                        [-1, 256, 201]            --\n",
      "|    └─Conv1d: 2-16                      [-1, 256, 201]            524,544\n",
      "|    └─BatchNorm1d: 2-17                 [-1, 256, 201]            512\n",
      "|    └─ReLU: 2-18                        [-1, 256, 201]            --\n",
      "├─MaxPool1d: 1-7                         [-1, 256, 50]             --\n",
      "├─ResBlock: 1-8                          [-1, 256, 50]             --\n",
      "|    └─BatchNorm1d: 2-19                 [-1, 256, 50]             512\n",
      "|    └─Sequential: 2-20                  [-1, 256, 50]             --\n",
      "|    |    └─Conv1d: 3-16                 [-1, 256, 50]             65,792\n",
      "|    |    └─BatchNorm1d: 3-17            [-1, 256, 50]             512\n",
      "|    |    └─ReLU: 3-18                   [-1, 256, 50]             --\n",
      "|    └─Sequential: 2-21                  [-1, 256, 50]             --\n",
      "|    |    └─Conv1d: 3-19                 [-1, 256, 50]             590,080\n",
      "|    |    └─BatchNorm1d: 3-20            [-1, 256, 50]             512\n",
      "|    |    └─ReLU: 3-21                   [-1, 256, 50]             --\n",
      "|    └─Conv1d: 2-22                      [-1, 256, 50]             65,792\n",
      "|    └─BatchNorm1d: 2-23                 [-1, 256, 50]             512\n",
      "├─Sequential: 1-9                        [-1, 128, 21]             --\n",
      "|    └─Conv1d: 2-24                      [-1, 128, 21]             327,808\n",
      "|    └─BatchNorm1d: 2-25                 [-1, 128, 21]             256\n",
      "|    └─ReLU: 2-26                        [-1, 128, 21]             --\n",
      "├─MaxPool1d: 1-10                        [-1, 128, 5]              --\n",
      "├─Sequential: 1-11                       [-1, 100, 1]              --\n",
      "|    └─Conv1d: 2-27                      [-1, 100, 1]              64,100\n",
      "|    └─BatchNorm1d: 2-28                 [-1, 100, 1]              200\n",
      "|    └─ReLU: 2-29                        [-1, 100, 1]              --\n",
      "==========================================================================================\n",
      "Total params: 11,732,652\n",
      "Trainable params: 11,732,652\n",
      "Non-trainable params: 0\n",
      "Total mult-adds (G): 8.04\n",
      "==========================================================================================\n",
      "Input size (MB): 0.25\n",
      "Forward/backward pass size (MB): 63.35\n",
      "Params size (MB): 44.76\n",
      "Estimated Total Size (MB): 108.36\n",
      "==========================================================================================\n"
     ]
    },
    {
     "data": {
      "text/plain": [
       "==========================================================================================\n",
       "Layer (type:depth-idx)                   Output Shape              Param #\n",
       "==========================================================================================\n",
       "├─Sequential: 1-1                        [-1, 512, 821]            --\n",
       "|    └─Sequential: 2-1                   [-1, 512, 3303]           --\n",
       "|    |    └─Conv1d: 3-1                  [-1, 512, 3303]           51,712\n",
       "|    |    └─BatchNorm1d: 3-2             [-1, 512, 3303]           1,024\n",
       "|    |    └─ReLU: 3-3                    [-1, 512, 3303]           --\n",
       "|    └─Conv1d: 2-2                       [-1, 512, 821]            5,243,392\n",
       "├─ResBlock: 1-2                          [-1, 512, 821]            --\n",
       "|    └─BatchNorm1d: 2-3                  [-1, 512, 821]            1,024\n",
       "|    └─Sequential: 2-4                   [-1, 512, 821]            --\n",
       "|    |    └─Conv1d: 3-4                  [-1, 512, 821]            262,656\n",
       "|    |    └─BatchNorm1d: 3-5             [-1, 512, 821]            1,024\n",
       "|    |    └─ReLU: 3-6                    [-1, 512, 821]            --\n",
       "|    └─Sequential: 2-5                   [-1, 512, 821]            --\n",
       "|    |    └─Conv1d: 3-7                  [-1, 512, 821]            2,359,808\n",
       "|    |    └─BatchNorm1d: 3-8             [-1, 512, 821]            1,024\n",
       "|    |    └─ReLU: 3-9                    [-1, 512, 821]            --\n",
       "|    └─Conv1d: 2-6                       [-1, 512, 821]            262,656\n",
       "|    └─BatchNorm1d: 2-7                  [-1, 512, 821]            1,024\n",
       "├─Sequential: 1-3                        [-1, 512, 818]            --\n",
       "|    └─Conv1d: 2-8                       [-1, 512, 818]            1,049,088\n",
       "|    └─BatchNorm1d: 2-9                  [-1, 512, 818]            1,024\n",
       "|    └─ReLU: 2-10                        [-1, 512, 818]            --\n",
       "├─MaxPool1d: 1-4                         [-1, 512, 204]            --\n",
       "├─ResBlock: 1-5                          [-1, 512, 204]            --\n",
       "|    └─BatchNorm1d: 2-11                 [-1, 512, 204]            1,024\n",
       "|    └─Sequential: 2-12                  [-1, 256, 204]            --\n",
       "|    |    └─Conv1d: 3-10                 [-1, 256, 204]            131,328\n",
       "|    |    └─BatchNorm1d: 3-11            [-1, 256, 204]            512\n",
       "|    |    └─ReLU: 3-12                   [-1, 256, 204]            --\n",
       "|    └─Sequential: 2-13                  [-1, 256, 204]            --\n",
       "|    |    └─Conv1d: 3-13                 [-1, 256, 204]            590,080\n",
       "|    |    └─BatchNorm1d: 3-14            [-1, 256, 204]            512\n",
       "|    |    └─ReLU: 3-15                   [-1, 256, 204]            --\n",
       "|    └─Conv1d: 2-14                      [-1, 512, 204]            131,584\n",
       "|    └─BatchNorm1d: 2-15                 [-1, 512, 204]            1,024\n",
       "├─Sequential: 1-6                        [-1, 256, 201]            --\n",
       "|    └─Conv1d: 2-16                      [-1, 256, 201]            524,544\n",
       "|    └─BatchNorm1d: 2-17                 [-1, 256, 201]            512\n",
       "|    └─ReLU: 2-18                        [-1, 256, 201]            --\n",
       "├─MaxPool1d: 1-7                         [-1, 256, 50]             --\n",
       "├─ResBlock: 1-8                          [-1, 256, 50]             --\n",
       "|    └─BatchNorm1d: 2-19                 [-1, 256, 50]             512\n",
       "|    └─Sequential: 2-20                  [-1, 256, 50]             --\n",
       "|    |    └─Conv1d: 3-16                 [-1, 256, 50]             65,792\n",
       "|    |    └─BatchNorm1d: 3-17            [-1, 256, 50]             512\n",
       "|    |    └─ReLU: 3-18                   [-1, 256, 50]             --\n",
       "|    └─Sequential: 2-21                  [-1, 256, 50]             --\n",
       "|    |    └─Conv1d: 3-19                 [-1, 256, 50]             590,080\n",
       "|    |    └─BatchNorm1d: 3-20            [-1, 256, 50]             512\n",
       "|    |    └─ReLU: 3-21                   [-1, 256, 50]             --\n",
       "|    └─Conv1d: 2-22                      [-1, 256, 50]             65,792\n",
       "|    └─BatchNorm1d: 2-23                 [-1, 256, 50]             512\n",
       "├─Sequential: 1-9                        [-1, 128, 21]             --\n",
       "|    └─Conv1d: 2-24                      [-1, 128, 21]             327,808\n",
       "|    └─BatchNorm1d: 2-25                 [-1, 128, 21]             256\n",
       "|    └─ReLU: 2-26                        [-1, 128, 21]             --\n",
       "├─MaxPool1d: 1-10                        [-1, 128, 5]              --\n",
       "├─Sequential: 1-11                       [-1, 100, 1]              --\n",
       "|    └─Conv1d: 2-27                      [-1, 100, 1]              64,100\n",
       "|    └─BatchNorm1d: 2-28                 [-1, 100, 1]              200\n",
       "|    └─ReLU: 2-29                        [-1, 100, 1]              --\n",
       "==========================================================================================\n",
       "Total params: 11,732,652\n",
       "Trainable params: 11,732,652\n",
       "Non-trainable params: 0\n",
       "Total mult-adds (G): 8.04\n",
       "==========================================================================================\n",
       "Input size (MB): 0.25\n",
       "Forward/backward pass size (MB): 63.35\n",
       "Params size (MB): 44.76\n",
       "Estimated Total Size (MB): 108.36\n",
       "=========================================================================================="
      ]
     },
     "execution_count": 11,
     "metadata": {},
     "output_type": "execute_result"
    }
   ],
   "source": [
    "class Net2(nn.Module):\n",
    "    def __init__(self):\n",
    "        super(Net2, self).__init__()\n",
    "        self.conv0 = nn.Sequential(conv_bn(1,512,100,stride=20),nn.Conv1d(512, 512,20, 4))\n",
    "        self.resblock1 = ResBlock(512,512)\n",
    "        self.cbn1=conv_bn(512,512,4)\n",
    "        self.pool1 = nn.MaxPool1d(4)\n",
    "        self.resblock2 = ResBlock(512,256)\n",
    "        self.cbn2=conv_bn(512,256,4)\n",
    "        self.pool2 = nn.MaxPool1d(4)\n",
    "        self.resblock3 = ResBlock(256,256)\n",
    "        self.cbn3=conv_bn(256,128,10,stride=2)\n",
    "        self.pool3 = nn.MaxPool1d(4)\n",
    "        self.cbn4=conv_bn(128,100, 5)\n",
    "        self.fc1 = nn.Linear(100, 64)\n",
    "        self.fc2 = nn.Linear(64, 10)\n",
    "        \n",
    "        \n",
    "    def forward(self, x):\n",
    "        x = self.conv0(x)\n",
    "        x = self.resblock1(x)\n",
    "        x = self.cbn1(x)\n",
    "        x = self.pool1(x)\n",
    "        x = self.resblock2(x)\n",
    "        x = self.cbn2(x)\n",
    "        x = self.pool2(x)\n",
    "        x = self.resblock3(x)\n",
    "        x = self.cbn3(x)\n",
    "        x = self.pool3(x)\n",
    "        x = self.cbn4(x)\n",
    "        x=x.view(x.size(0),-1)\n",
    "#         x = F.relu(self.fc1(x))\n",
    "#         x = F.relu(self.fc2(x))\n",
    "        return x\n",
    "#         x = F.relu(self.bn2(x))\n",
    "#         x = self.pool2(x)\n",
    "#         x = self.conv3(x)\n",
    "#         x = F.relu(self.bn3(x))\n",
    "#         x = self.pool3(x)\n",
    "#         x = self.conv4(x)\n",
    "#         x = F.relu(self.bn4(x))\n",
    "#         x = self.pool4(x)\n",
    "#         x = self.avgPool(x)\n",
    "#         x = x.view(x.size(0),-1)\n",
    "#         x = self.fc1(x)\n",
    "        \n",
    "model = Net2().to(device)\n",
    "# model\n",
    "# print(model)\n",
    "\n",
    "from torchsummary import summary\n",
    "summary(model, ([1, size_in]))"
   ]
  },
  {
   "cell_type": "code",
   "execution_count": 12,
   "metadata": {
    "ExecuteTime": {
     "end_time": "2021-03-28T20:43:15.037024Z",
     "start_time": "2021-03-28T20:43:14.934047Z"
    }
   },
   "outputs": [],
   "source": [
    "model = Net2().to(device)\n",
    "criterion = nn.CrossEntropyLoss()\n",
    "optimizer = optim.Adam(model.parameters(), lr=0.005)\n",
    "Train_loss=[]\n",
    "Test_loss=[]\n",
    "Train_correct=[]\n",
    "Test_correct=[]"
   ]
  },
  {
   "cell_type": "code",
   "execution_count": 19,
   "metadata": {
    "ExecuteTime": {
     "end_time": "2021-03-28T22:03:32.627831Z",
     "start_time": "2021-03-28T21:55:46.315889Z"
    },
    "scrolled": true
   },
   "outputs": [
    {
     "data": {
      "application/vnd.jupyter.widget-view+json": {
       "model_id": "2d8718b6e62a409ca7accc18c11eb732",
       "version_major": 2,
       "version_minor": 0
      },
      "text/plain": [
       "  0%|          | 0/100 [00:00<?, ?it/s]"
      ]
     },
     "metadata": {},
     "output_type": "display_data"
    },
    {
     "name": "stdout",
     "output_type": "stream",
     "text": [
      "Train Epoch: 1  \tLoss: 99.000000   Accuracy: 2.5246670246124268/3279 (6397%\n",
      "\n",
      "Test set: Average loss: 0.0450, Accuracy: 325/800 (41%)\n",
      "\n",
      "7.658192103303785e-06\n"
     ]
    },
    {
     "data": {
      "application/vnd.jupyter.widget-view+json": {
       "model_id": "98773c82d60a403083f699d6355b6ba4",
       "version_major": 2,
       "version_minor": 0
      },
      "text/plain": [
       "  0%|          | 0/100 [00:00<?, ?it/s]"
      ]
     },
     "metadata": {},
     "output_type": "display_data"
    },
    {
     "name": "stdout",
     "output_type": "stream",
     "text": [
      "Train Epoch: 2  \tLoss: 99.000000   Accuracy: 2.4444470405578613/3292 (6397%\n",
      "\n",
      "Test set: Average loss: 0.0450, Accuracy: 331/800 (41%)\n",
      "\n",
      "9.485192531172957e-06\n"
     ]
    },
    {
     "data": {
      "application/vnd.jupyter.widget-view+json": {
       "model_id": "eabd86f6808449ddb2efa9e2e4ce8394",
       "version_major": 2,
       "version_minor": 0
      },
      "text/plain": [
       "  0%|          | 0/100 [00:00<?, ?it/s]"
      ]
     },
     "metadata": {},
     "output_type": "display_data"
    },
    {
     "name": "stdout",
     "output_type": "stream",
     "text": [
      "Train Epoch: 3  \tLoss: 99.000000   Accuracy: 2.2208595275878906/3266 (6397%\n",
      "\n",
      "Test set: Average loss: 0.0450, Accuracy: 325/800 (41%)\n",
      "\n",
      "6.068821499737474e-06\n"
     ]
    },
    {
     "data": {
      "application/vnd.jupyter.widget-view+json": {
       "model_id": "0fb6c92e587240ac86393e0d31c74745",
       "version_major": 2,
       "version_minor": 0
      },
      "text/plain": [
       "  0%|          | 0/100 [00:00<?, ?it/s]"
      ]
     },
     "metadata": {},
     "output_type": "display_data"
    },
    {
     "name": "stdout",
     "output_type": "stream",
     "text": [
      "Train Epoch: 4  \tLoss: 99.000000   Accuracy: 2.376798629760742/3321 (6397%\n",
      "\n",
      "Test set: Average loss: 0.0451, Accuracy: 324/800 (40%)\n",
      "\n",
      "1.8476211394223118e-06\n"
     ]
    },
    {
     "data": {
      "application/vnd.jupyter.widget-view+json": {
       "model_id": "a6c6d6cfc75e44759cc0142bd7a3a754",
       "version_major": 2,
       "version_minor": 0
      },
      "text/plain": [
       "  0%|          | 0/100 [00:00<?, ?it/s]"
      ]
     },
     "metadata": {},
     "output_type": "display_data"
    },
    {
     "name": "stdout",
     "output_type": "stream",
     "text": [
      "Train Epoch: 5  \tLoss: 99.000000   Accuracy: 2.316194772720337/3336 (6397%\n",
      "\n",
      "Test set: Average loss: 0.0452, Accuracy: 322/800 (40%)\n",
      "\n",
      "2.414183399679499e-10\n"
     ]
    },
    {
     "data": {
      "image/png": "[encoded data removed]",
      "text/plain": [
       "<Figure size 432x288 with 1 Axes>"
      ]
     },
     "metadata": {
      "needs_background": "light"
     },
     "output_type": "display_data"
    },
    {
     "data": {
      "image/png": "[encoded data removed]",
      "text/plain": [
       "<Figure size 432x288 with 1 Axes>"
      ]
     },
     "metadata": {
      "needs_background": "light"
     },
     "output_type": "display_data"
    }
   ],
   "source": [
    "\n",
    "epochs=5\n",
    "scheduler = torch.optim.lr_scheduler.OneCycleLR(optimizer, max_lr=0.00001, steps_per_epoch=len(trainloader), epochs=epochs)\n",
    "for epoch in range(1, epochs + 1):\n",
    "    train_loss,correct_train=train(model, device, trainloader, criterion, optimizer, epoch,scheduler,log_interval=100)\n",
    "    test_loss,correct_test=test(model, device, testloader,criterion)\n",
    "    Train_loss.append(train_loss)\n",
    "    Test_loss.append(test_loss)\n",
    "    Train_correct.append(correct_train)\n",
    "    Test_correct.append(correct_test)\n",
    "    print(optimizer.param_groups[0]['lr'])\n",
    "\n",
    "plt.plot(Train_loss)\n",
    "plt.plot(Test_loss)\n",
    "plt.legend([\"train\",\"test\"])\n",
    "plt.show()\n",
    "plt.plot(Train_correct)\n",
    "plt.plot(Test_correct)\n",
    "plt.legend([\"train\",\"test\"])\n",
    "plt.show()"
   ]
  },
  {
   "cell_type": "code",
   "execution_count": 24,
   "metadata": {
    "ExecuteTime": {
     "end_time": "2021-03-28T18:17:23.481882Z",
     "start_time": "2021-03-28T18:17:23.225235Z"
    },
    "scrolled": true
   },
   "outputs": [
    {
     "data": {
      "image/png": "[encoded data removed]",
      "text/plain": [
       "<Figure size 432x288 with 1 Axes>"
      ]
     },
     "metadata": {
      "needs_background": "light"
     },
     "output_type": "display_data"
    },
    {
     "data": {
      "image/png": "[encoded data removed]",
      "text/plain": [
       "<Figure size 432x288 with 1 Axes>"
      ]
     },
     "metadata": {
      "needs_background": "light"
     },
     "output_type": "display_data"
    }
   ],
   "source": [
    "plt.plot(Train_loss)\n",
    "plt.plot(Test_loss)\n",
    "plt.legend([\"train\",\"test\"])\n",
    "plt.show()\n",
    "plt.plot(Train_correct)\n",
    "plt.plot(Test_correct)\n",
    "plt.legend([\"train\",\"test\"])\n",
    "plt.show()"
   ]
  },
  {
   "cell_type": "code",
   "execution_count": 17,
   "metadata": {
    "ExecuteTime": {
     "end_time": "2021-03-28T21:38:55.305211Z",
     "start_time": "2021-03-28T21:38:55.171683Z"
    }
   },
   "outputs": [],
   "source": [
    "path=\"model_save/resnet_like_2.pth\"\n",
    "\n",
    "torch.save(model.state_dict(), path)"
   ]
  },
  {
   "cell_type": "markdown",
   "metadata": {},
   "source": [
    "## model 3"
   ]
  },
  {
   "cell_type": "code",
   "execution_count": 28,
   "metadata": {
    "ExecuteTime": {
     "end_time": "2021-04-01T09:21:45.364646Z",
     "start_time": "2021-04-01T09:21:45.361641Z"
    }
   },
   "outputs": [],
   "source": [
    "import torchvision.models as models\n",
    "from torchsummary import summary\n"
   ]
  },
  {
   "cell_type": "code",
   "execution_count": 68,
   "metadata": {
    "ExecuteTime": {
     "end_time": "2021-03-29T08:45:54.138935Z",
     "start_time": "2021-03-29T08:45:53.570841Z"
    }
   },
   "outputs": [],
   "source": [
    "model = Net_res().to(device)\n",
    "criterion = nn.CrossEntropyLoss()\n",
    "optimizer = optim.Adam(model.parameters(), lr=0.005)\n",
    "Train_loss=[]\n",
    "Test_loss=[]\n",
    "Train_correct=[]\n",
    "Test_correct=[]"
   ]
  },
  {
   "cell_type": "code",
   "execution_count": 70,
   "metadata": {
    "ExecuteTime": {
     "end_time": "2021-03-29T09:00:27.446903Z",
     "start_time": "2021-03-29T08:54:10.013903Z"
    },
    "scrolled": true
   },
   "outputs": [
    {
     "data": {
      "application/vnd.jupyter.widget-view+json": {
       "model_id": "7f60777a25b64dfbb4f719f66646a148",
       "version_major": 2,
       "version_minor": 0
      },
      "text/plain": [
       "  0%|          | 0/100 [00:00<?, ?it/s]"
      ]
     },
     "metadata": {},
     "output_type": "display_data"
    },
    {
     "name": "stdout",
     "output_type": "stream",
     "text": [
      "Train Epoch: 1  \tLoss: 1.608091   Accuracy: 2403/6397 (38%\n",
      "\n",
      "Test set: Average loss: 0.0303, Accuracy: 248/800 (31%)\n",
      "\n",
      "5.629147228973798e-05\n"
     ]
    },
    {
     "data": {
      "application/vnd.jupyter.widget-view+json": {
       "model_id": "45424e1d65324ed4839b56b652e16875",
       "version_major": 2,
       "version_minor": 0
      },
      "text/plain": [
       "  0%|          | 0/100 [00:00<?, ?it/s]"
      ]
     },
     "metadata": {},
     "output_type": "display_data"
    },
    {
     "name": "stdout",
     "output_type": "stream",
     "text": [
      "Train Epoch: 2  \tLoss: 1.617767   Accuracy: 2281/6397 (36%\n",
      "\n",
      "Test set: Average loss: 0.0317, Accuracy: 236/800 (30%)\n",
      "\n",
      "0.00015258117466081583\n"
     ]
    },
    {
     "data": {
      "application/vnd.jupyter.widget-view+json": {
       "model_id": "86ca0b0fa2cd4a3a981f2aeaacc716a8",
       "version_major": 2,
       "version_minor": 0
      },
      "text/plain": [
       "  0%|          | 0/100 [00:00<?, ?it/s]"
      ]
     },
     "metadata": {},
     "output_type": "display_data"
    },
    {
     "name": "stdout",
     "output_type": "stream",
     "text": [
      "Train Epoch: 3  \tLoss: 1.751310   Accuracy: 2229/6397 (35%\n",
      "\n",
      "Test set: Average loss: 0.0313, Accuracy: 212/800 (26%)\n",
      "\n",
      "0.00019999899290322893\n"
     ]
    },
    {
     "data": {
      "application/vnd.jupyter.widget-view+json": {
       "model_id": "b396d63294f1490cb623997e7f880ddb",
       "version_major": 2,
       "version_minor": 0
      },
      "text/plain": [
       "  0%|          | 0/100 [00:00<?, ?it/s]"
      ]
     },
     "metadata": {},
     "output_type": "display_data"
    },
    {
     "name": "stdout",
     "output_type": "stream",
     "text": [
      "Train Epoch: 4  \tLoss: 1.706410   Accuracy: 2302/6397 (36%\n",
      "\n",
      "Test set: Average loss: 0.0315, Accuracy: 219/800 (27%)\n",
      "\n",
      "0.00018990129390569822\n"
     ]
    },
    {
     "data": {
      "application/vnd.jupyter.widget-view+json": {
       "model_id": "d1ffada376c344a19018f29ee1d3febd",
       "version_major": 2,
       "version_minor": 0
      },
      "text/plain": [
       "  0%|          | 0/100 [00:00<?, ?it/s]"
      ]
     },
     "metadata": {},
     "output_type": "display_data"
    },
    {
     "name": "stdout",
     "output_type": "stream",
     "text": [
      "Train Epoch: 5  \tLoss: 1.629497   Accuracy: 2342/6397 (37%\n",
      "\n",
      "Test set: Average loss: 0.0314, Accuracy: 229/800 (29%)\n",
      "\n",
      "0.00016199762030803588\n"
     ]
    },
    {
     "data": {
      "application/vnd.jupyter.widget-view+json": {
       "model_id": "e65989740bc84b5ca9363a5d4b97cb81",
       "version_major": 2,
       "version_minor": 0
      },
      "text/plain": [
       "  0%|          | 0/100 [00:00<?, ?it/s]"
      ]
     },
     "metadata": {},
     "output_type": "display_data"
    },
    {
     "name": "stdout",
     "output_type": "stream",
     "text": [
      "Train Epoch: 6  \tLoss: 1.609946   Accuracy: 2386/6397 (37%\n",
      "\n",
      "Test set: Average loss: 0.0307, Accuracy: 244/800 (30%)\n",
      "\n",
      "0.00012181463688235772\n"
     ]
    },
    {
     "data": {
      "application/vnd.jupyter.widget-view+json": {
       "model_id": "8540f6896bb54ad9bc3c4b9b10b44603",
       "version_major": 2,
       "version_minor": 0
      },
      "text/plain": [
       "  0%|          | 0/100 [00:00<?, ?it/s]"
      ]
     },
     "metadata": {},
     "output_type": "display_data"
    },
    {
     "name": "stdout",
     "output_type": "stream",
     "text": [
      "Train Epoch: 7  \tLoss: 1.572996   Accuracy: 2427/6397 (38%\n",
      "\n",
      "Test set: Average loss: 0.0316, Accuracy: 239/800 (30%)\n",
      "\n",
      "7.731107630807018e-05\n"
     ]
    },
    {
     "data": {
      "application/vnd.jupyter.widget-view+json": {
       "model_id": "452f3e4356b84216ad4f6048d12ea2d5",
       "version_major": 2,
       "version_minor": 0
      },
      "text/plain": [
       "  0%|          | 0/100 [00:00<?, ?it/s]"
      ]
     },
     "metadata": {},
     "output_type": "display_data"
    },
    {
     "name": "stdout",
     "output_type": "stream",
     "text": [
      "Train Epoch: 8  \tLoss: 1.547207   Accuracy: 2427/6397 (38%\n",
      "\n",
      "Test set: Average loss: 0.0305, Accuracy: 234/800 (29%)\n",
      "\n",
      "3.730141455726317e-05\n"
     ]
    },
    {
     "data": {
      "application/vnd.jupyter.widget-view+json": {
       "model_id": "1cb5cb0e3b294cbdbeb87dc73f20efb7",
       "version_major": 2,
       "version_minor": 0
      },
      "text/plain": [
       "  0%|          | 0/100 [00:00<?, ?it/s]"
      ]
     },
     "metadata": {},
     "output_type": "display_data"
    },
    {
     "name": "stdout",
     "output_type": "stream",
     "text": [
      "Train Epoch: 9  \tLoss: 1.532206   Accuracy: 2505/6397 (39%\n",
      "\n",
      "Test set: Average loss: 0.0296, Accuracy: 263/800 (33%)\n",
      "\n",
      "9.710055825984118e-06\n"
     ]
    },
    {
     "data": {
      "application/vnd.jupyter.widget-view+json": {
       "model_id": "cca119eacfea48f6aaf1a4ffe6560332",
       "version_major": 2,
       "version_minor": 0
      },
      "text/plain": [
       "  0%|          | 0/100 [00:00<?, ?it/s]"
      ]
     },
     "metadata": {},
     "output_type": "display_data"
    },
    {
     "name": "stdout",
     "output_type": "stream",
     "text": [
      "Train Epoch: 10  \tLoss: 1.594837   Accuracy: 2704/6397 (42%\n",
      "\n",
      "Test set: Average loss: 0.0296, Accuracy: 265/800 (33%)\n",
      "\n",
      "1.8070967710739916e-09\n"
     ]
    },
    {
     "data": {
      "image/png": "[encoded data removed]",
      "text/plain": [
       "<Figure size 432x288 with 1 Axes>"
      ]
     },
     "metadata": {
      "needs_background": "light"
     },
     "output_type": "display_data"
    },
    {
     "data": {
      "image/png": "[encoded data removed]",
      "text/plain": [
       "<Figure size 432x288 with 1 Axes>"
      ]
     },
     "metadata": {
      "needs_background": "light"
     },
     "output_type": "display_data"
    }
   ],
   "source": [
    "\n",
    "epochs=10\n",
    "scheduler = torch.optim.lr_scheduler.OneCycleLR(optimizer, max_lr=0.0002, steps_per_epoch=len(trainloader), epochs=epochs)\n",
    "for epoch in range(1, epochs + 1):\n",
    "    train_loss,correct_train=train(model, device, trainloader, criterion, optimizer, epoch,scheduler,log_interval=100)\n",
    "    test_loss,correct_test=test(model, device, testloader,criterion)\n",
    "    Train_loss.append(train_loss)\n",
    "    Test_loss.append(test_loss)\n",
    "    Train_correct.append(correct_train)\n",
    "    Test_correct.append(correct_test)\n",
    "    print(optimizer.param_groups[0]['lr'])\n",
    "\n",
    "plt.plot(Train_loss)\n",
    "plt.plot(Test_loss)\n",
    "plt.legend([\"train\",\"test\"])\n",
    "plt.show()\n",
    "plt.plot(Train_correct)\n",
    "plt.plot(Test_correct)\n",
    "plt.legend([\"train\",\"test\"])\n",
    "plt.show()"
   ]
  },
  {
   "cell_type": "code",
   "execution_count": null,
   "metadata": {},
   "outputs": [],
   "source": [
    "path=\"model_save/resnet_34.pth\"\n",
    "\n",
    "torch.save(model.state_dict(), path)"
   ]
  }
 ],
 "metadata": {
  "kernelspec": {
   "display_name": "Python 3",
   "language": "python",
   "name": "python3"
  },
  "language_info": {
   "codemirror_mode": {
    "name": "ipython",
    "version": 3
   },
   "file_extension": ".py",
   "mimetype": "text/x-python",
   "name": "python",
   "nbconvert_exporter": "python",
   "pygments_lexer": "ipython3",
   "version": "3.6.13"
  },
  "notify_time": "5",
  "toc": {
   "base_numbering": 1,
   "nav_menu": {},
   "number_sections": true,
   "sideBar": false,
   "skip_h1_title": false,
   "title_cell": "Table of Contents",
   "title_sidebar": "Contents",
   "toc_cell": false,
   "toc_position": {
    "height": "756.997px",
    "left": "1833.08px",
    "top": "126.979px",
    "width": "180.208px"
   },
   "toc_section_display": true,
   "toc_window_display": true
  },
  "varInspector": {
   "cols": {
    "lenName": 16,
    "lenType": 16,
    "lenVar": 40
   },
   "kernels_config": {
    "python": {
     "delete_cmd_postfix": "",
     "delete_cmd_prefix": "del ",
     "library": "var_list.py",
     "varRefreshCmd": "print(var_dic_list())"
    },
    "r": {
     "delete_cmd_postfix": ") ",
     "delete_cmd_prefix": "rm(",
     "library": "var_list.r",
     "varRefreshCmd": "cat(var_dic_list()) "
    }
   },
   "position": {
    "height": "319px",
    "left": "1550px",
    "right": "20px",
    "top": "120px",
    "width": "350px"
   },
   "types_to_exclude": [
    "module",
    "function",
    "builtin_function_or_method",
    "instance",
    "_Feature"
   ],
   "window_display": false
  }
 },
 "nbformat": 4,
 "nbformat_minor": 4
}
