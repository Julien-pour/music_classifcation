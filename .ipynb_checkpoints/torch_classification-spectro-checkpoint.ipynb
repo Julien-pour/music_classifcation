{
 "cells": [
  {
   "cell_type": "code",
   "execution_count": 1,
   "metadata": {
    "ExecuteTime": {
     "end_time": "2021-04-02T17:19:35.909018Z",
     "start_time": "2021-04-02T17:19:32.545215Z"
    },
    "scrolled": false
   },
   "outputs": [
    {
     "name": "stderr",
     "output_type": "stream",
     "text": [
      "C:\\Users\\lejuj\\Anaconda3\\envs\\torchaudio\\lib\\site-packages\\torchaudio\\extension\\extension.py:13: UserWarning: torchaudio C++ extension is not available.\n",
      "  warnings.warn('torchaudio C++ extension is not available.')\n"
     ]
    },
    {
     "name": "stdout",
     "output_type": "stream",
     "text": [
      "1.8.1\n",
      "0.8.1\n"
     ]
    }
   ],
   "source": [
    "# import time\n",
    "import os\n",
    "import numpy as np\n",
    "import pandas as pd\n",
    "from sklearn.preprocessing import MultiLabelBinarizer, LabelEncoder, LabelBinarizer, StandardScaler\n",
    "import matplotlib.pyplot as plt\n",
    "from IPython.display import Audio, display\n",
    "#from pydub import AudioSegment\n",
    "import torch\n",
    "import torch.nn as nn\n",
    "import torch.nn.functional as F\n",
    "import torch.optim as optim\n",
    "import torchaudio\n",
    "import os.path\n",
    "from os import path\n",
    "import os\n",
    "import soundfile as sf\n",
    "# import torchaudio.functional as F\n",
    "# import torchaudio.transforms as T\n",
    "import librosa\n",
    "from tqdm.notebook import tqdm\n",
    "\n",
    "print(torch.__version__)\n",
    "print(torchaudio.__version__)"
   ]
  },
  {
   "cell_type": "code",
   "execution_count": 2,
   "metadata": {
    "ExecuteTime": {
     "end_time": "2021-04-02T17:19:36.035160Z",
     "start_time": "2021-04-02T17:19:35.932017Z"
    }
   },
   "outputs": [
    {
     "name": "stdout",
     "output_type": "stream",
     "text": [
      "Fri Apr 02 19:19:35 2021       \n",
      "+-----------------------------------------------------------------------------+\n",
      "| NVIDIA-SMI 452.06       Driver Version: 452.06       CUDA Version: 11.0     |\n",
      "|-------------------------------+----------------------+----------------------+\n",
      "| GPU  Name            TCC/WDDM | Bus-Id        Disp.A | Volatile Uncorr. ECC |\n",
      "| Fan  Temp  Perf  Pwr:Usage/Cap|         Memory-Usage | GPU-Util  Compute M. |\n",
      "|===============================+======================+======================|\n",
      "|   0  GeForce RTX 2060   WDDM  | 00000000:01:00.0  On |                  N/A |\n",
      "| N/A   55C    P5    13W /  N/A |    908MiB /  6144MiB |     14%      Default |\n",
      "+-------------------------------+----------------------+----------------------+\n",
      "                                                                               \n",
      "+-----------------------------------------------------------------------------+\n",
      "| Processes:                                                                  |\n",
      "|  GPU   GI   CI        PID   Type   Process name                  GPU Memory |\n",
      "|        ID   ID                                                   Usage      |\n",
      "|=============================================================================|\n",
      "|    0   N/A  N/A      1628    C+G   Insufficient Permissions        N/A      |\n",
      "|    0   N/A  N/A      1936    C+G   ...me\\Application\\chrome.exe    N/A      |\n",
      "|    0   N/A  N/A      3672    C+G   ...wekyb3d8bbwe\\Video.UI.exe    N/A      |\n",
      "|    0   N/A  N/A      8344    C+G   ...root\\Office16\\WINWORD.EXE    N/A      |\n",
      "|    0   N/A  N/A      8512    C+G   ...perience\\NVIDIA Share.exe    N/A      |\n",
      "|    0   N/A  N/A      8672    C+G   C:\\Windows\\explorer.exe         N/A      |\n",
      "|    0   N/A  N/A      9588    C+G   ...tudio\\bin\\64bit\\obs64.exe    N/A      |\n",
      "|    0   N/A  N/A     11012    C+G   ...artMenuExperienceHost.exe    N/A      |\n",
      "|    0   N/A  N/A     11268    C+G   ...lPanel\\SystemSettings.exe    N/A      |\n",
      "|    0   N/A  N/A     11836    C+G   ...bbwe\\Microsoft.Photos.exe    N/A      |\n",
      "|    0   N/A  N/A     12952    C+G   ...cw5n1h2txyewy\\LockApp.exe    N/A      |\n",
      "|    0   N/A  N/A     12964    C+G   ...ekyb3d8bbwe\\YourPhone.exe    N/A      |\n",
      "|    0   N/A  N/A     13524    C+G   ...s (x86)\\Origin\\Origin.exe    N/A      |\n",
      "|    0   N/A  N/A     14840    C+G   ...in7x64\\steamwebhelper.exe    N/A      |\n",
      "|    0   N/A  N/A     16232    C+G   ...w5n1h2txyewy\\SearchUI.exe    N/A      |\n",
      "|    0   N/A  N/A     16552    C+G   ...root\\Office16\\WINWORD.EXE    N/A      |\n",
      "|    0   N/A  N/A     16780    C+G   ...b3d8bbwe\\WinStore.App.exe    N/A      |\n",
      "|    0   N/A  N/A     16864    C+G   ...oot\\Office16\\POWERPNT.EXE    N/A      |\n",
      "|    0   N/A  N/A     17324    C+G   ...y\\ShellExperienceHost.exe    N/A      |\n",
      "|    0   N/A  N/A     21708    C+G   ..._dt26b99r8h8gj\\RtkUWP.exe    N/A      |\n",
      "+-----------------------------------------------------------------------------+\n"
     ]
    }
   ],
   "source": [
    "!nvidia-smi "
   ]
  },
  {
   "cell_type": "markdown",
   "metadata": {},
   "source": [
    "# panda time"
   ]
  },
  {
   "cell_type": "code",
   "execution_count": 3,
   "metadata": {
    "ExecuteTime": {
     "end_time": "2021-04-02T17:19:38.062844Z",
     "start_time": "2021-04-02T17:19:36.059122Z"
    },
    "scrolled": true
   },
   "outputs": [],
   "source": [
    "tracks = pd.read_csv('data/fma_metadata/tracks.csv', index_col=0, header=[0, 1])\n",
    "subset=tracks.index[tracks['set', 'subset'] == 'small']\n",
    "tracks=tracks.loc[subset]\n",
    "tracks;"
   ]
  },
  {
   "cell_type": "markdown",
   "metadata": {},
   "source": [
    "## split dataset (train, test)"
   ]
  },
  {
   "cell_type": "code",
   "execution_count": 4,
   "metadata": {
    "ExecuteTime": {
     "end_time": "2021-04-02T17:19:38.210845Z",
     "start_time": "2021-04-02T17:19:38.201845Z"
    },
    "scrolled": false
   },
   "outputs": [
    {
     "name": "stdout",
     "output_type": "stream",
     "text": [
      "6400 training examples, 800 validation examples, 1600 testing examples\n",
      "Top genres (8): ['Electronic', 'Experimental', 'Folk', 'Hip-Hop', 'Instrumental', 'International', 'Pop', 'Rock']\n"
     ]
    }
   ],
   "source": [
    "# train => track_id train \n",
    "# data => track_id + label\n",
    "train_index = tracks.index[tracks['set', 'split'] == 'training']\n",
    "val_index = tracks.index[tracks['set', 'split'] == 'validation']\n",
    "test_index = tracks.index[(tracks['set', 'split'] == 'test' )| (tracks['set', 'split']=='validation') ]\n",
    "print('{} training examples, {} validation examples, {} testing examples'.format(*map(len, [train_index, val_index, test_index])))\n",
    "genres = list(LabelEncoder().fit(tracks['track', 'genre_top']).classes_)\n",
    "print('Top genres ({}): {}'.format(len(genres), genres))\n",
    "data=tracks['track', 'genre_top']\n",
    "# data,train_index[0], data.loc[train_index[0]] # (2, 'Hip-Hop')"
   ]
  },
  {
   "cell_type": "code",
   "execution_count": 5,
   "metadata": {
    "ExecuteTime": {
     "end_time": "2021-04-02T17:19:38.383844Z",
     "start_time": "2021-04-02T17:19:38.357844Z"
    }
   },
   "outputs": [],
   "source": [
    "enc = MultiLabelBinarizer()\n",
    "labels = tracks['track', 'genres_all']\n",
    "#labels = tracks['track', 'genres']\n",
    "test_multi_index = tracks.index[(tracks['set', 'split'] == 'test' ) ]\n",
    "\n",
    "# Split in training, validation and testing sets.\n",
    "y_train = enc.fit_transform(labels[train_index])\n",
    "y_val = enc.transform(labels[val_index])\n",
    "y_test = enc.transform(labels[test_index])\n",
    "# X_train = features.loc[train, columns].as_matrix()\n",
    "# X_val = features.loc[val, columns].as_matrix()\n",
    "# X_test = features.loc[test, columns].as_matrix()"
   ]
  },
  {
   "cell_type": "markdown",
   "metadata": {},
   "source": [
    "/!\\ data corrupted delete them : \"099134.mp3\" \"108925.mp3\" \"133297.mp3\" use cell below"
   ]
  },
  {
   "cell_type": "code",
   "execution_count": 6,
   "metadata": {
    "ExecuteTime": {
     "end_time": "2021-04-02T17:19:38.570847Z",
     "start_time": "2021-04-02T17:19:38.541844Z"
    },
    "scrolled": false
   },
   "outputs": [
    {
     "name": "stdout",
     "output_type": "stream",
     "text": [
      "3530\n",
      "3896\n",
      "5609\n"
     ]
    }
   ],
   "source": [
    "#beug fix that\n",
    "flag=len(train_index)\n",
    "for i in range(len(train_index)):\n",
    "    if flag==i:\n",
    "        break\n",
    "    if str(train_index[i])==\"99134\" or str(train_index[i])==\"108925\" or str(train_index[i])==\"133297\":\n",
    "        print(i)\n",
    "        train_index=train_index.delete(i)\n",
    "        y_train=np.delete(y_train, i,axis=0)\n",
    "\n",
    "        flag=flag-1\n"
   ]
  },
  {
   "cell_type": "markdown",
   "metadata": {
    "ExecuteTime": {
     "end_time": "2021-03-27T09:35:43.630461Z",
     "start_time": "2021-03-27T09:35:43.626599Z"
    }
   },
   "source": [
    "## (use one time) to convert all mp3 to wav (more than 10 to 100 times faster with wav)"
   ]
  },
  {
   "cell_type": "markdown",
   "metadata": {
    "ExecuteTime": {
     "end_time": "2021-03-27T09:27:52.750234Z",
     "start_time": "2021-03-27T09:27:52.284935Z"
    },
    "scrolled": false
   },
   "source": [
    "#!mkdir \"data_proces/fma_small/\"\n",
    "path1=\"data/fma_small/\"\n",
    "path_stockage=\"data_proces/fma_small/\"\n",
    "count=0\n",
    "for root, dirs, files in os.walk(path1):\n",
    "    for name in files:\n",
    "        if name.endswith(\".mp3\"):\n",
    "            if not(path.exists(path_stockage+name[:-4]+'.wav')):\n",
    "                try:\n",
    "                    waveform, sample_rate=librosa.load(root+\"/\"+name,duration=15,sr=22050)\n",
    "                    sf.write(path_stockage+name[:-4]+'.wav', waveform, sample_rate)\n",
    "                    count+=1\n",
    "                except:\n",
    "                    print(\"audio :\"+root+\"/\"+name+\"  is corrupted\")"
   ]
  },
  {
   "cell_type": "markdown",
   "metadata": {},
   "source": [
    "# creation of dataset and dataloader"
   ]
  },
  {
   "cell_type": "code",
   "execution_count": 7,
   "metadata": {
    "ExecuteTime": {
     "end_time": "2021-04-02T17:19:43.090731Z",
     "start_time": "2021-04-02T17:19:43.079708Z"
    }
   },
   "outputs": [],
   "source": [
    "from torch.utils.data import Dataset, DataLoader\n",
    "\n",
    "# creation of torch dataset\n",
    "\n",
    "\n",
    "#type_set= train or test \n",
    "#audio_ids\n",
    "label_dic = {'Electronic': 0,  'Experimental':1, 'Folk':2,'Hip-Hop':3,\n",
    " 'Instrumental':4,\n",
    " 'International':5,\n",
    " 'Pop':6,\n",
    " 'Rock':7}\n",
    "\n",
    "\n",
    "class Audio_classification(Dataset):\n",
    "    def __init__(self,type_set, audio_idx, class_ids,label_dic,time_audio_resize=3, transform = None):#(\"train\",train,data,)\n",
    "            self.type_set=type_set\n",
    "            self.audio_ids = audio_idx\n",
    "            self.class_ids = class_ids\n",
    "            self.label_dic = label_dic\n",
    "            self.time_audio_resize=time_audio_resize\n",
    "            self.transform = transform\n",
    "#             if self.is_valid == 1:\n",
    "#                 self.aug = # transfoms for validation images\n",
    "#             else:                  \n",
    "#                 self.aug = # transfoms for training images\n",
    "                \n",
    "    def __len__(self):\n",
    "          return len(self.audio_ids)\n",
    "    \n",
    "        \n",
    "    def __getitem__(self, index):\n",
    "            #on prend 3s\n",
    "            load_first_n_sec_audio=15\n",
    "            sample_rate_default=22050\n",
    "            #time_audio_resize #= 3#sec\n",
    "            \n",
    "            #audio_path is like 000002.wav but self.audio_ids[index] has not all the 0 include so ...\n",
    "            idx=self.audio_ids[index]\n",
    "            count=len(str(idx))\n",
    "            #print(\"The number of digits in the number are:\",count)\n",
    "            if count!=6:\n",
    "                idx=\"0\"*(6-count)+str(idx)\n",
    "            audio_path=str(idx)\n",
    "\n",
    "            filename = \"data_proces/fma_small/\"+ audio_path +\".wav\"\n",
    "            label = self.label_dic[self.class_ids.loc[self.audio_ids[index]]]\n",
    "            \n",
    "            #load audio mp3\n",
    "            \n",
    "            waveform, sample_rate=torchaudio.load(filename, normalize = True)\n",
    "            #waveform, sample_rate=sf.read(filename,sr=None)\n",
    "                \n",
    "            len_audio_resize = int(sample_rate_default * self.time_audio_resize)\n",
    "            indice_max=len(waveform[0])-len_audio_resize-1\n",
    "            indice_initial=np.random.randint(max(indice_max,1))\n",
    "            #make 3sec long audio (time_audio_resize=3sec)\n",
    "            if self.type_set==\"train\":\n",
    "                waveform = waveform[:,indice_initial:indice_initial+len_audio_resize]\n",
    "            else:\n",
    "                waveform = waveform[:,0:len_audio_resize]\n",
    "                \n",
    "            # if weveform is to short zero padding at the end \n",
    "            if waveform.size()!=(1,len_audio_resize):\n",
    "                waveform=torch.cat((waveform,torch.zeros((1,len_audio_resize-waveform.size(1)))),1)\n",
    "            #to torch\n",
    "            #waveform=torch.tensor(waveform)#m, dtype = torch.float)\n",
    "            # reshape to 1 channel if required\n",
    "            #waveform = torch.reshape(waveform, (1, waveform.shape[0]))\n",
    "           # Change the waveform to Spectrogram, Mel-Spectrogram or,MFCC\n",
    "#             specgram = torchaudio.transforms.Spectrogram()(waveform)\n",
    "\n",
    "#             # convert 1 channel to 3 channels applying imagenet models\n",
    "#             specgram = specgram.repeat(3, 1, 1)\n",
    "\n",
    "#             # Applying audio augmentations by converting to numpy array\n",
    "#             specgram = np.transpose(specgram.numpy(), (1,2,0))\n",
    "#             specgram = self.aug(image = specgram)['image']\n",
    "\n",
    "#             #As torch accepts channels first so applying this\n",
    "#             specgram = np.transpose(specgram,(2,0,1)).astype(np.float32)\n",
    "#             specgram=torch.tensor(waveform, dtype = torch.float) \n",
    "            if self.transform:\n",
    "                waveform = self.transform(waveform)\n",
    "            return waveform,torch.tensor(label, dtype = torch.float)\n",
    "#             return {\n",
    "#                 'waveform' : waveform,\n",
    "#                 'label' : torch.tensor(label, dtype = torch.float)\n",
    "#             }\n",
    "        \n"
   ]
  },
  {
   "cell_type": "markdown",
   "metadata": {},
   "source": [
    "# train and test function"
   ]
  },
  {
   "cell_type": "code",
   "execution_count": 77,
   "metadata": {
    "ExecuteTime": {
     "end_time": "2021-04-01T16:52:30.026445Z",
     "start_time": "2021-04-01T16:52:30.015445Z"
    }
   },
   "outputs": [],
   "source": [
    "#https://pytorch.org/tutorials/recipes/recipes/amp_recipe.html\n",
    "use_amp = False #mixed precision float 16\n",
    "scaler = torch.cuda.amp.GradScaler(enabled=use_amp)\n",
    "\n",
    "def train(model, device, trainloader, criterion, optimizer, epoch,scheduler, log_interval,grad_clip=None):\n",
    "    model.train()\n",
    "    correct = 0\n",
    "    train_loss = 0\n",
    "    for batch_idx, (data, target) in enumerate(tqdm(trainloader)):\n",
    "        data, target = data.to(device), target.to(device)\n",
    "        optimizer.zero_grad()\n",
    "        with torch.cuda.amp.autocast(enabled=use_amp): # full mixed precision enabled=use_amp   \n",
    "            output = model(data)\n",
    "            loss = criterion(output, target.long())\n",
    "        scaler.scale(loss).backward()\n",
    "        if grad_clip: \n",
    "                nn.utils.clip_grad_value_(model.parameters(), grad_clip)\n",
    "        scaler.step(optimizer)\n",
    "        scaler.update()\n",
    "        optimizer.zero_grad()\n",
    "        scheduler.step()\n",
    "        \n",
    "        pred = output.argmax(dim=1, keepdim=True)\n",
    "        correct += pred.eq(target.view_as(pred)).sum().item()\n",
    "#         loss.backward()\n",
    "#         optimizer.step()\n",
    "        train_loss += loss.item()\n",
    "#     if batch_idx % log_interval == 0:\n",
    "    print('Train Epoch: {}  \\tLoss: {:.6f}   Accuracy: {}/{} ({:.0f}%'.format(\n",
    "        epoch, loss.item(), correct, len(trainloader.dataset), 100. * correct / len(trainloader.dataset)))\n",
    "    return train_loss/len(trainloader.dataset),100. * correct / len(trainloader.dataset)\n",
    "\n",
    "\n",
    "def test(model, device, testloader,criterion):\n",
    "    model.eval()\n",
    "    test_loss = 0\n",
    "    correct = 0\n",
    "    with torch.no_grad():\n",
    "        for data, target in testloader:\n",
    "            data, target = data.to(device), target.to(device)\n",
    "            output = model(data)\n",
    "            test_loss += criterion(output, target.long()).item()  # sum up batch loss\n",
    "            pred = output.argmax(dim=1, keepdim=True)  # get the index of the max log-probability\n",
    "            correct += pred.eq(target.view_as(pred)).sum().item()\n",
    "\n",
    "    test_loss /= len(testloader.dataset)\n",
    "\n",
    "    print('\\nTest set: Average loss: {:.4f}, Accuracy: {}/{} ({:.0f}%)\\n'.format(\n",
    "        test_loss, correct, len(testloader.dataset),\n",
    "        100. * correct / len(testloader.dataset)))\n",
    "    return test_loss,100. * correct / len(testloader.dataset)"
   ]
  },
  {
   "cell_type": "markdown",
   "metadata": {},
   "source": [
    "# with spectro"
   ]
  },
  {
   "cell_type": "markdown",
   "metadata": {},
   "source": [
    "## import and create mel mfcc spectrogramm"
   ]
  },
  {
   "cell_type": "code",
   "execution_count": 12,
   "metadata": {
    "ExecuteTime": {
     "end_time": "2021-04-01T15:26:15.918077Z",
     "start_time": "2021-04-01T15:26:15.899112Z"
    }
   },
   "outputs": [],
   "source": [
    "\n",
    "device = torch.device(\"cuda\" if torch.cuda.is_available() else \"cpu\")\n",
    "from torchaudio import transforms\n",
    "from torchvision import transforms as T\n",
    "import torchvision.models as models\n",
    "from torchsummary import summary\n",
    "\n",
    "sample_rate=22050\n",
    "n_fft = 2048\n",
    "win_length = None\n",
    "hop_length = 512\n",
    "n_mels = 256\n",
    "n_mfcc = 224\n",
    "log_mels=True\n",
    "mfcc_transform = transforms.MFCC(\n",
    "    sample_rate=sample_rate,\n",
    "    n_mfcc=n_mfcc,log_mels=log_mels, melkwargs={'n_fft': n_fft, 'n_mels': n_mels, 'hop_length': hop_length})\n",
    "\n",
    "# mfcc = mfcc_transform(waveform)\n",
    "# plot_spectrogram(mfcc[0])\n",
    "\n",
    "n_fft = 2048\n",
    "win_length = None\n",
    "hop_length = 512\n",
    "n_mels = 224#128\n",
    "sample_rate=22050\n",
    "mel_spectrogram = transforms.MelSpectrogram(\n",
    "    sample_rate=sample_rate,\n",
    "    n_fft=n_fft,\n",
    "    win_length=win_length,\n",
    "    hop_length=hop_length,\n",
    "    center=True,\n",
    "    pad_mode=\"reflect\",\n",
    "    power=2.0,\n",
    "    norm='slaney',\n",
    "    onesided=True,\n",
    "    n_mels=n_mels,\n",
    ")\n",
    "\n",
    "\n",
    "n_fft = 446\n",
    "win_length = None\n",
    "hop_length = 512\n",
    "\n",
    "# define transformation\n",
    "spectrogram = transforms.Spectrogram(\n",
    "    n_fft=n_fft,\n",
    "    win_length=win_length,\n",
    "    hop_length=hop_length,\n",
    "    center=True,\n",
    "    pad_mode=\"reflect\",\n",
    "    power=2.0,\n",
    ")\n"
   ]
  },
  {
   "cell_type": "markdown",
   "metadata": {},
   "source": [
    "## train/test loader"
   ]
  },
  {
   "cell_type": "code",
   "execution_count": 13,
   "metadata": {
    "ExecuteTime": {
     "end_time": "2021-04-01T15:26:16.858255Z",
     "start_time": "2021-04-01T15:26:16.751290Z"
    },
    "scrolled": true
   },
   "outputs": [
    {
     "data": {
      "text/plain": [
       "torch.Size([64, 1, 114660])"
      ]
     },
     "execution_count": 13,
     "metadata": {},
     "output_type": "execute_result"
    }
   ],
   "source": [
    "\n",
    "image_size=240\n",
    "\n",
    "trainset  = Audio_classification(\"train\",train_index,data,label_dic,time_audio_resize=5.2)\n",
    "trainloader  = DataLoader(trainset , batch_size=64,\n",
    "                        shuffle=True, num_workers=0)\n",
    "\n",
    "testset = Audio_classification(\"test\",test_index,data,label_dic,time_audio_resize=5.2)\n",
    "testloader   = DataLoader(testset , batch_size=64,\n",
    "                        shuffle=False, num_workers=0)\n",
    "\n",
    "# trainloader = DeviceDataLoader(trainloader_mel, device)\n",
    "# testloader = DeviceDataLoader(testloader_mel, device)\n",
    "a=iter(trainloader)\n",
    "im,l=next(a)\n",
    "size_in=im.size(2)\n",
    "im.size()"
   ]
  },
  {
   "cell_type": "markdown",
   "metadata": {},
   "source": [
    "## calcul normalisation parameters mean/std"
   ]
  },
  {
   "cell_type": "code",
   "execution_count": 174,
   "metadata": {
    "ExecuteTime": {
     "end_time": "2021-04-01T10:54:24.931143Z",
     "start_time": "2021-04-01T10:51:44.669175Z"
    }
   },
   "outputs": [
    {
     "data": {
      "application/vnd.jupyter.widget-view+json": {
       "model_id": "7d4fc314c1df49179b4965bf9f336c81",
       "version_major": 2,
       "version_minor": 0
      },
      "text/plain": [
       "  0%|          | 0/100 [00:00<?, ?it/s]"
      ]
     },
     "metadata": {},
     "output_type": "display_data"
    },
    {
     "name": "stdout",
     "output_type": "stream",
     "text": [
      "tensor([-29.8918, -30.0426, -30.8079, -30.1271, -28.8824, -29.7499, -30.1909,\n",
      "        -30.0198, -30.0881, -29.2209, -28.8242, -29.4921, -28.2861, -29.8071,\n",
      "        -28.7049, -29.4456, -29.8006, -29.2725, -30.5629, -29.1115, -29.9078,\n",
      "        -28.8545, -31.1737, -29.8009, -29.7892, -30.9591, -30.2976, -29.9600,\n",
      "        -29.8361, -31.2458, -30.9641, -28.7133, -29.9548, -30.3029, -28.7352,\n",
      "        -31.1689, -31.1231, -30.5018, -28.9524, -29.8465, -30.7264, -28.2109,\n",
      "        -29.2857, -29.2213, -28.8301, -29.3380, -28.6555, -29.4853, -30.5209,\n",
      "        -28.4743, -29.5652, -29.2757, -31.4632, -30.7483, -29.1122, -29.8338,\n",
      "        -28.8773, -28.4188, -29.9639, -29.5570, -27.5400, -28.9107, -30.2654,\n",
      "        -30.2161, -29.4752, -29.0337, -29.4039, -30.4680, -30.4123, -30.8138,\n",
      "        -28.7605, -29.8669, -29.5711, -29.7230, -29.6199, -30.4025, -30.1306,\n",
      "        -32.0620, -29.6220, -29.7836, -30.2586, -30.0719, -30.6859, -30.0684,\n",
      "        -29.7223, -28.1571, -29.6770, -28.8759, -30.8540, -28.1217, -29.1017,\n",
      "        -29.2677, -29.3305, -30.4112, -30.4458, -28.5357, -29.3896, -28.3802,\n",
      "        -29.2982, -29.9184]) tensor([19.2690, 49.1503, 22.0783])\n"
     ]
    }
   ],
   "source": [
    "\n",
    "trans=[mel_spectrogram,mfcc_transform,spectrogram]\n",
    "amp_db=transforms.AmplitudeToDB()\n",
    "db=True\n",
    "means=[[],[],[]]\n",
    "stds=[[],[],[]]\n",
    "for batch_idx, (im, target) in enumerate(tqdm(trainloader)):\n",
    "    for i in range(len(trans)):\n",
    "        if db:\n",
    "            means[i].append(torch.mean(amp_db(trans[i](im))))\n",
    "            stds[i].append(torch.std(amp_db(trans[i](im))))\n",
    "\n",
    "        else:\n",
    "            means[i].append(torch.mean(trans[i](im)))\n",
    "            stds[i].append(torch.std(trans[i](im)))\n",
    "\n",
    "mean = torch.mean(torch.tensor(means),1)\n",
    "std = torch.mean(torch.tensor(stds),1)\n",
    "print(mean,std)\n"
   ]
  },
  {
   "cell_type": "markdown",
   "metadata": {
    "ExecuteTime": {
     "end_time": "2021-04-01T09:27:39.798505Z",
     "start_time": "2021-04-01T09:27:39.795495Z"
    }
   },
   "source": [
    "## plot spec"
   ]
  },
  {
   "cell_type": "code",
   "execution_count": 14,
   "metadata": {
    "ExecuteTime": {
     "end_time": "2021-04-01T15:26:26.862184Z",
     "start_time": "2021-04-01T15:26:26.857191Z"
    }
   },
   "outputs": [],
   "source": [
    "\n",
    "def plot_spectrogram(spec, title=None, ylabel='freq_bin', aspect='auto', xmax=None):\n",
    "  fig, axs = plt.subplots(1, 1)\n",
    "  axs.set_title(title or 'Spectrogram (db)')\n",
    "  axs.set_ylabel(ylabel)\n",
    "  axs.set_xlabel('frame')\n",
    "  im = axs.imshow(librosa.power_to_db(spec), origin='lower', aspect=aspect)#librosa.power_to_db(spec)\n",
    "  if xmax:\n",
    "    axs.set_xlim((0, xmax))\n",
    "  fig.colorbar(im, ax=axs)\n",
    "  plt.show(block=False)"
   ]
  },
  {
   "cell_type": "code",
   "execution_count": null,
   "metadata": {
    "ExecuteTime": {
     "end_time": "2021-04-01T15:26:30.168948Z",
     "start_time": "2021-04-01T15:26:29.678947Z"
    }
   },
   "outputs": [],
   "source": [
    "spe=mel_spectrogram(im)\n",
    "print(spe.size())\n",
    "for i in range(1):\n",
    "    plot_spectrogram(\n",
    "        spe[i,0,:,], title=\"MelSpectrogram - torchaudio\", ylabel='mel freq')"
   ]
  },
  {
   "cell_type": "markdown",
   "metadata": {},
   "source": [
    "## model"
   ]
  },
  {
   "cell_type": "markdown",
   "metadata": {
    "heading_collapsed": true
   },
   "source": [
    "# model resnet"
   ]
  },
  {
   "cell_type": "code",
   "execution_count": 21,
   "metadata": {
    "ExecuteTime": {
     "end_time": "2021-04-01T15:30:12.045601Z",
     "start_time": "2021-04-01T15:30:12.040597Z"
    },
    "hidden": true
   },
   "outputs": [],
   "source": [
    "class Mish(nn.Module):\n",
    "    def __init__(self):\n",
    "        super(Mish, self).__init__()\n",
    "    def forward(self, input):\n",
    "        return input * torch.tanh(F.softplus(input))"
   ]
  },
  {
   "cell_type": "code",
   "execution_count": 22,
   "metadata": {
    "ExecuteTime": {
     "end_time": "2021-04-01T15:30:12.339592Z",
     "start_time": "2021-04-01T15:30:12.327592Z"
    },
    "hidden": true,
    "scrolled": true
   },
   "outputs": [],
   "source": [
    "# https://medium.com/swlh/music-genre-classification-using-transfer-learning-pytorch-ea1c23e36eb8\n",
    "amp_db=transforms.AmplitudeToDB()\n",
    "\n",
    "\n",
    "normalize_spec = T.Normalize(mean=[-13.8637, -53.9947, -21.2606],\n",
    "                        std=[19.2690, 49.1503, 22.0783])\n",
    "\n",
    "\n",
    "transform_train = T.Compose([  amp_db,     \n",
    "                                \n",
    "        normalize_spec,\n",
    "         # transforms.TimeStretch(fixed_rate =1.2),\n",
    "        transforms.TimeMasking(time_mask_param=20),\n",
    "        #transforms.FrequencyMasking(freq_mask_param=30),\n",
    "        #T.RandomHorizontalFlip(),\n",
    "        #T.Resize((image_size,image_size))\n",
    "                       ])\n",
    "transform_test = T.Compose([ amp_db,           \n",
    "        normalize_spec])\n",
    "\n",
    "spectro_like=[mel_spectrogram,mfcc_transform,spectrogram]\n",
    "spectro_like=[i.to(device) for i in spectro_like]\n",
    "\n",
    "class Net_res_mel(nn.Module):\n",
    "    def __init__(self,spectro_like=None,transform_train=None,transform_test=None):\n",
    "        super(Net_res_mel, self).__init__()\n",
    "        self.spectro_like=spectro_like\n",
    "        self.len_feat=len(self.spectro_like)\n",
    "        self.transform_train=transform_train\n",
    "        self.transform_test=transform_test\n",
    "        kernel_size=3\n",
    "        #self.preprocess = nn.Sequential(nn.Conv2d(3,64,(kernel_size,kernel_size),stride=kernel_size),nn.BatchNorm2d(64),Mish(),\n",
    "                                        \n",
    "                                        #nn.Conv2d(3,3,(kernel_size*2,kernel_size)), nn.BatchNorm2d(3),Mish(),\n",
    "#                                         nn.Conv2d(64,64,(kernel_size,kernel_size)), nn.BatchNorm2d(64),Mish())\n",
    "        self.res=models.resnext50_32x4d()#models.vgg16_bn()#models.resnet34(pretrained=True)\n",
    "        \n",
    "        #self.res.avgpool=nn.MaxPool2d(2)\n",
    "        kernel_size_2=3\n",
    "#         self.res.avgpool = nn.Sequential(nn.Conv2d(512,512,(kernel_size_2,kernel_size_2)),nn.BatchNorm2d(512),nn.ReLU(),\n",
    "#                                                    nn.Conv2d(512,512,(kernel_size_2,kernel_size_2)),nn.BatchNorm2d(512),nn.ReLU(),nn.AdaptiveAvgPool2d((1,1)))\n",
    "#                                          nn.Conv2d(512,512,kernel_size_2),nn.BatchNorm2d(512),Mish(),         \n",
    "#                                          nn.Conv2d(512,512,kernel_size_2),nn.BatchNorm2d(512),Mish())\n",
    "        self.res.fc=nn.Sequential(nn.Linear(2048, 8))#,nn.ReLU(),nn.Linear(256, 8))#,#nn.Identity()#\n",
    "        #self.res.features[0]=nn.Conv2d(64,64,(3,3))\n",
    "    \n",
    "    def freeze(self):\n",
    "        for param in self.res.parameters():\n",
    "            param.require_grad = False\n",
    "        for param in self.res.fc.parameters():\n",
    "            param.require_grad = True\n",
    "\n",
    "        \n",
    "    def unfreeze(self):\n",
    "        for param in self.res.parameters():\n",
    "            param.require_grad = True\n",
    "        \n",
    "    def forward(self, x):\n",
    "        if self.spectro_like:\n",
    "            spec=torch.tensor([]).to(device)\n",
    "            for spectro in self.spectro_like :\n",
    "                spec1=spectro(x)\n",
    "                spec=torch.cat((spec,spec1),1)\n",
    "            x=spec.to(device)\n",
    "        if self.train():\n",
    "            if self.transform_train:\n",
    "                x = self.transform_train(x)\n",
    "        else:\n",
    "            if self.transform_test:\n",
    "                x = self.transform_test(x)\n",
    "        #x = x.repeat(1,3, 1, 1) #like imagenet\n",
    "        #x = self.preprocess(x)\n",
    "        #x = x\n",
    "        \n",
    "        x = self.res(x)\n",
    "        \n",
    "#         x = F.relu(self.fc1(x))\n",
    "#         x = F.relu(self.fc2(x))\n",
    "        return x\n",
    "\n",
    "        \n",
    "#model = Net_res_mel(spectro_like,transform_train,transform_test)\n",
    "# model\n",
    "# print(model)\n",
    "#summary(model, ([1, size_in]))"
   ]
  },
  {
   "cell_type": "code",
   "execution_count": 16,
   "metadata": {
    "ExecuteTime": {
     "end_time": "2021-03-31T12:23:26.777687Z",
     "start_time": "2021-03-31T12:23:26.404644Z"
    },
    "hidden": true
   },
   "outputs": [],
   "source": [
    "torch.cuda.empty_cache()\n",
    "model = Net_res_mel(spectro_like,transform_train,transform_test).to(device)\n",
    "criterion = nn.CrossEntropyLoss()\n",
    "grad_clip = 0.2\n",
    "weight_decay = 1e-6\n",
    "\n",
    "optimizer = optim.Adam(model.parameters(), lr=0.001,weight_decay=0)\n",
    "Train_loss=[]\n",
    "Test_loss=[]\n",
    "Train_correct=[]\n",
    "Test_correct=[]\n",
    "model.freeze()\n"
   ]
  },
  {
   "cell_type": "code",
   "execution_count": 48,
   "metadata": {
    "ExecuteTime": {
     "end_time": "2021-03-31T14:02:40.793332Z",
     "start_time": "2021-03-31T13:56:11.002047Z"
    },
    "hidden": true,
    "scrolled": true
   },
   "outputs": [
    {
     "data": {
      "application/vnd.jupyter.widget-view+json": {
       "model_id": "ac8711d8012e46b99a8c1615c289df23",
       "version_major": 2,
       "version_minor": 0
      },
      "text/plain": [
       "  0%|          | 0/400 [00:00<?, ?it/s]"
      ]
     },
     "metadata": {},
     "output_type": "display_data"
    },
    {
     "name": "stdout",
     "output_type": "stream",
     "text": [
      "Train Epoch: 1  \tLoss: 0.991374   Accuracy: 3887/6397 (61%\n",
      "\n",
      "Test set: Average loss: 0.0263, Accuracy: 702/1600 (44%)\n",
      "\n",
      "9.941332710209922e-08\n"
     ]
    },
    {
     "data": {
      "application/vnd.jupyter.widget-view+json": {
       "model_id": "a1375b9521cb44edac07d3c9e499cdcb",
       "version_major": 2,
       "version_minor": 0
      },
      "text/plain": [
       "  0%|          | 0/400 [00:00<?, ?it/s]"
      ]
     },
     "metadata": {},
     "output_type": "display_data"
    },
    {
     "name": "stdout",
     "output_type": "stream",
     "text": [
      "Train Epoch: 2  \tLoss: 1.251548   Accuracy: 3891/6397 (61%\n",
      "\n",
      "Test set: Average loss: 0.0263, Accuracy: 697/1600 (44%)\n",
      "\n",
      "4.607726090542691e-08\n"
     ]
    },
    {
     "data": {
      "application/vnd.jupyter.widget-view+json": {
       "model_id": "b571eaa452964145bc394c8ba37e2d7d",
       "version_major": 2,
       "version_minor": 0
      },
      "text/plain": [
       "  0%|          | 0/400 [00:00<?, ?it/s]"
      ]
     },
     "metadata": {},
     "output_type": "display_data"
    },
    {
     "name": "stdout",
     "output_type": "stream",
     "text": [
      "Train Epoch: 3  \tLoss: 0.617101   Accuracy: 3917/6397 (61%\n",
      "\n",
      "Test set: Average loss: 0.0262, Accuracy: 704/1600 (44%)\n",
      "\n",
      "7.496865581946261e-13\n"
     ]
    },
    {
     "data": {
      "image/png": "[encoded data removed]",
      "text/plain": [
       "<Figure size 432x288 with 1 Axes>"
      ]
     },
     "metadata": {
      "needs_background": "light"
     },
     "output_type": "display_data"
    },
    {
     "data": {
      "image/png": "[encoded data removed]",
      "text/plain": [
       "<Figure size 432x288 with 1 Axes>"
      ]
     },
     "metadata": {
      "needs_background": "light"
     },
     "output_type": "display_data"
    }
   ],
   "source": [
    "model.unfreeze()\n",
    "optimizer = optim.Adam(model.parameters(), lr=0.001,weight_decay=0)\n",
    "\n",
    "# model.res.classifier[2].p=0.0\n",
    "# model.res.classifier[5].p=0.0\n",
    "epochs=3\n",
    "scheduler = torch.optim.lr_scheduler.OneCycleLR(optimizer, max_lr=1e-7, steps_per_epoch=len(trainloader), epochs=epochs)\n",
    "for epoch in range(1, epochs + 1):\n",
    "    train_loss,correct_train=train(model, device, trainloader, criterion, optimizer, epoch,scheduler,log_interval=100,grad_clip=grad_clip)\n",
    "    test_loss,correct_test=test(model, device, testloader,criterion)\n",
    "    Train_loss.append(train_loss)\n",
    "    Test_loss.append(test_loss)\n",
    "    Train_correct.append(correct_train)\n",
    "    Test_correct.append(correct_test)\n",
    "    print(optimizer.param_groups[0]['lr'])\n",
    "\n",
    "plt.plot(Train_loss)\n",
    "plt.plot(Test_loss)\n",
    "plt.legend([\"train\",\"test\"])\n",
    "plt.show()\n",
    "plt.plot(Train_correct)\n",
    "plt.plot(Test_correct)\n",
    "plt.legend([\"train\",\"test\"])\n",
    "plt.show()"
   ]
  },
  {
   "cell_type": "code",
   "execution_count": 71,
   "metadata": {
    "ExecuteTime": {
     "end_time": "2021-03-31T17:30:30.424254Z",
     "start_time": "2021-03-31T17:30:30.182281Z"
    },
    "hidden": true
   },
   "outputs": [],
   "source": [
    "path=\"model_save/vgg_34_all_specl.pth\"\n",
    "\n",
    "torch.save(model.state_dict(), path)"
   ]
  },
  {
   "cell_type": "markdown",
   "metadata": {},
   "source": [
    "# Audio-Based Music Classification with DenseNet And Data Augmentation\n"
   ]
  },
  {
   "cell_type": "markdown",
   "metadata": {},
   "source": [
    "https://arxiv.org/ftp/arxiv/papers/1906/1906.11620.pdf"
   ]
  },
  {
   "cell_type": "markdown",
   "metadata": {},
   "source": [
    "## choose on model"
   ]
  },
  {
   "cell_type": "markdown",
   "metadata": {},
   "source": [
    "### resnet like\n"
   ]
  },
  {
   "cell_type": "code",
   "execution_count": 23,
   "metadata": {
    "ExecuteTime": {
     "end_time": "2021-04-01T15:30:16.600780Z",
     "start_time": "2021-04-01T15:30:16.594825Z"
    }
   },
   "outputs": [],
   "source": [
    "class Res_block(nn.Module):\n",
    "    def __init__(self,channel=224,kernel=5):\n",
    "        super(Res_block, self).__init__()\n",
    "\n",
    "        self.pad=int((kernel-1)/2)\n",
    "        self.res_block = nn.Sequential(nn.Conv1d(channel,channel,kernel,padding=self.pad),nn.BatchNorm1d(channel),nn.ReLU(),\n",
    "                                           nn.Conv1d(channel,channel,kernel,padding=self.pad),nn.BatchNorm1d(channel),nn.ReLU())\n",
    "    def forward(self, x):\n",
    "        x_id=x\n",
    "        x=self.res_block(x)\n",
    "        return x+x_id\n",
    "\n",
    "# model=Res_block()\n",
    "# summary(model, ([240,240]))"
   ]
  },
  {
   "cell_type": "code",
   "execution_count": 24,
   "metadata": {
    "ExecuteTime": {
     "end_time": "2021-04-01T15:30:17.396529Z",
     "start_time": "2021-04-01T15:30:17.382534Z"
    },
    "scrolled": true
   },
   "outputs": [],
   "source": [
    "#choose index\n",
    "# 0 = mel\n",
    "# 1 = mfcc\n",
    "# 2 = spec\n",
    "amp_db=transforms.AmplitudeToDB()\n",
    "\n",
    "index = 1\n",
    "spectro_like=[mel_spectrogram,mfcc_transform,spectrogram]\n",
    "spectro_like=[spectro_like[index]]\n",
    "spectro_like_device=[i.to(device) for i in spectro_like]\n",
    "\n",
    "normalize_spec = T.Normalize(mean=[[12.6111, -0.0646,  7.8345][index]],\n",
    "                        std=[[138.5886,   4.2762, 112.3290][index]])\n",
    "normalize_spec_db = T.Normalize(mean=[[-13.8637, -53.9947, -21.2606][index]],\n",
    "                        std=[[19.2690, 49.1503, 22.0783][index]])\n",
    "\n",
    "\n",
    "transform_train_db = T.Compose([  amp_db,     \n",
    "                                \n",
    "        normalize_spec_db,\n",
    "         # transforms.TimeStretch(fixed_rate =1.2),\n",
    "        transforms.TimeMasking(time_mask_param=20),\n",
    "        #transforms.FrequencyMasking(freq_mask_param=30),\n",
    "        #T.RandomHorizontalFlip(),\n",
    "        #T.Resize((image_size,image_size))\n",
    "                       ])\n",
    "transform_test_db = T.Compose([ amp_db,           \n",
    "        normalize_spec_db])\n",
    "\n",
    "\n",
    "class Net_res_mel(nn.Module):\n",
    "    def __init__(self,spectro_like=None,transform_train=None,transform_test=None):\n",
    "        super(Net_res_mel, self).__init__()\n",
    "        self.spectro_like=spectro_like\n",
    "        self.len_feat=len(self.spectro_like)\n",
    "        self.transform_train=transform_train_db\n",
    "        self.transform_test=transform_test\n",
    "        \n",
    "        self.kernel=5\n",
    "        self.channel=224\n",
    "        self.channel2=512\n",
    "        self.layer=nn.Sequential(Res_block(channel=self.channel,kernel=self.kernel),nn.MaxPool1d(2),Res_block(channel=self.channel,kernel=self.kernel),nn.MaxPool1d(2),\n",
    "                                 Res_block(channel=self.channel,kernel=self.kernel),nn.MaxPool1d(4),nn.Conv1d(self.channel,self.channel2,self.kernel),nn.BatchNorm1d(self.channel2),nn.ReLU(),\n",
    "                                 Res_block(channel=self.channel2,kernel=self.kernel),nn.MaxPool1d(2),nn.Conv1d(self.channel2,self.channel2,self.kernel),nn.BatchNorm1d(self.channel2),nn.ReLU()\n",
    "                                )\n",
    "        \n",
    "        self.fc=nn.Sequential(nn.Linear(512, 512),nn.ReLU(),nn.Dropout(p=0.2),nn.Linear(512, 512),nn.ReLU(),nn.Dropout(p=0.2),nn.Linear(512,8))\n",
    "        #self.res.fc=nn.Sequential(nn.Linear(2048, 8))#,nn.ReLU(),nn.Linear(256, 8))#,#nn.Identity()#\n",
    "        #self.res.features[0]=nn.Conv2d(64,64,(3,3))\n",
    "    \n",
    "#     def freeze(self):\n",
    "#         for param in self.res.parameters():\n",
    "#             param.require_grad = False\n",
    "#         for param in self.res.fc.parameters():\n",
    "#             param.require_grad = True\n",
    "\n",
    "        \n",
    "#     def unfreeze(self):\n",
    "#         for param in self.res.parameters():\n",
    "#             param.require_grad = True\n",
    "        \n",
    "    def forward(self, x):\n",
    "        if self.spectro_like:\n",
    "            spec=torch.tensor([]).to(device)\n",
    "            for spectro in self.spectro_like :\n",
    "                spec1=spectro(x)\n",
    "                spec=torch.cat((spec,spec1),1)\n",
    "            x=spec.to(device)\n",
    "        if self.train():\n",
    "            if self.transform_train:\n",
    "                x = self.transform_train(x)\n",
    "        else:\n",
    "            if self.transform_test:\n",
    "                x = self.transform_test(x)\n",
    "        if x.size(1)!=1:\n",
    "            print(\"pb\")\n",
    "        x=x[:,0] # (bs,channel=1,img_size,img_size)=>(bs,img_size,img_size)\n",
    "        x=x.permute(0,2,1)\n",
    "        x=self.layer(x)\n",
    "        x=self.fc(x.view(x.size(0),-1))\n",
    "        return x\n",
    "\n",
    "# model=Net_res_mel(spectro_like,transform_train,transform_test)\n",
    "# summary(model, ([1,size_in]))"
   ]
  },
  {
   "cell_type": "markdown",
   "metadata": {},
   "source": [
    "### dense net like"
   ]
  },
  {
   "cell_type": "code",
   "execution_count": 127,
   "metadata": {
    "ExecuteTime": {
     "end_time": "2021-04-01T18:36:05.721828Z",
     "start_time": "2021-04-01T18:36:05.685873Z"
    }
   },
   "outputs": [
    {
     "name": "stdout",
     "output_type": "stream",
     "text": [
      "==========================================================================================\n",
      "Layer (type:depth-idx)                   Output Shape              Param #\n",
      "==========================================================================================\n",
      "├─Sequential: 1-1                        [-1, 256, 224]            --\n",
      "|    └─Conv1d: 2-1                       [-1, 256, 224]            286,976\n",
      "|    └─BatchNorm1d: 2-2                  [-1, 256, 224]            512\n",
      "|    └─ReLU: 2-3                         [-1, 256, 224]            --\n",
      "├─Sequential: 1-2                        [-1, 480, 224]            --\n",
      "|    └─Conv1d: 2-4                       [-1, 480, 224]            1,152,480\n",
      "|    └─BatchNorm1d: 2-5                  [-1, 480, 224]            960\n",
      "|    └─ReLU: 2-6                         [-1, 480, 224]            --\n",
      "├─Sequential: 1-3                        [-1, 256, 220]            --\n",
      "|    └─Conv1d: 2-7                       [-1, 256, 220]            1,229,056\n",
      "|    └─BatchNorm1d: 2-8                  [-1, 256, 220]            512\n",
      "|    └─ReLU: 2-9                         [-1, 256, 220]            --\n",
      "==========================================================================================\n",
      "Total params: 2,670,496\n",
      "Trainable params: 2,670,496\n",
      "Non-trainable params: 0\n",
      "Total mult-adds (M): 595.28\n",
      "==========================================================================================\n",
      "Input size (MB): 0.19\n",
      "Forward/backward pass size (MB): 3.38\n",
      "Params size (MB): 10.19\n",
      "Estimated Total Size (MB): 13.75\n",
      "==========================================================================================\n"
     ]
    },
    {
     "data": {
      "text/plain": [
       "==========================================================================================\n",
       "Layer (type:depth-idx)                   Output Shape              Param #\n",
       "==========================================================================================\n",
       "├─Sequential: 1-1                        [-1, 256, 224]            --\n",
       "|    └─Conv1d: 2-1                       [-1, 256, 224]            286,976\n",
       "|    └─BatchNorm1d: 2-2                  [-1, 256, 224]            512\n",
       "|    └─ReLU: 2-3                         [-1, 256, 224]            --\n",
       "├─Sequential: 1-2                        [-1, 480, 224]            --\n",
       "|    └─Conv1d: 2-4                       [-1, 480, 224]            1,152,480\n",
       "|    └─BatchNorm1d: 2-5                  [-1, 480, 224]            960\n",
       "|    └─ReLU: 2-6                         [-1, 480, 224]            --\n",
       "├─Sequential: 1-3                        [-1, 256, 220]            --\n",
       "|    └─Conv1d: 2-7                       [-1, 256, 220]            1,229,056\n",
       "|    └─BatchNorm1d: 2-8                  [-1, 256, 220]            512\n",
       "|    └─ReLU: 2-9                         [-1, 256, 220]            --\n",
       "==========================================================================================\n",
       "Total params: 2,670,496\n",
       "Trainable params: 2,670,496\n",
       "Non-trainable params: 0\n",
       "Total mult-adds (M): 595.28\n",
       "==========================================================================================\n",
       "Input size (MB): 0.19\n",
       "Forward/backward pass size (MB): 3.38\n",
       "Params size (MB): 10.19\n",
       "Estimated Total Size (MB): 13.75\n",
       "=========================================================================================="
      ]
     },
     "execution_count": 127,
     "metadata": {},
     "output_type": "execute_result"
    }
   ],
   "source": [
    "class Dense_block(nn.Module):\n",
    "    def __init__(self,channel=224,channel_out=256,kernel=5):\n",
    "        super(Dense_block, self).__init__()\n",
    "\n",
    "        self.pad=int((kernel-1)/2)\n",
    "        \n",
    "        self.channel_out=channel_out\n",
    "        self.channel_block2=channel+2*self.channel_out\n",
    "        self.dense_block1 = nn.Sequential(nn.Conv1d(channel,self.channel_out,kernel,padding=self.pad),nn.BatchNorm1d(self.channel_out),nn.ReLU())\n",
    "        self.dense_block2 = nn.Sequential(nn.Conv1d(self.channel_out,self.channel_out,kernel,padding=self.pad),nn.BatchNorm1d(self.channel_out),nn.ReLU())\n",
    "        self.last_conv=nn.Sequential(nn.Conv1d(self.channel_block2,channel_out,kernel),nn.BatchNorm1d(channel_out),nn.ReLU())\n",
    "    def forward(self, x):\n",
    "        x_cat1=x#224\n",
    "        x=self.dense_block1(x)\n",
    "        x_cat2=x\n",
    "        #x=torch.cat((x,x_cat1),1)#448\n",
    "        x=self.dense_block2(x)\n",
    "        x=torch.cat((x,x_cat1,x_cat2),1)\n",
    "        x=self.last_conv(x)\n",
    "        return x\n",
    "\n",
    "model=Dense_block()\n",
    "summary(model, ([224,224]))"
   ]
  },
  {
   "cell_type": "code",
   "execution_count": null,
   "metadata": {},
   "outputs": [],
   "source": []
  },
  {
   "cell_type": "code",
   "execution_count": 132,
   "metadata": {
    "ExecuteTime": {
     "end_time": "2021-04-01T19:29:40.280340Z",
     "start_time": "2021-04-01T19:29:40.171342Z"
    }
   },
   "outputs": [
    {
     "name": "stdout",
     "output_type": "stream",
     "text": [
      "==========================================================================================\n",
      "Layer (type:depth-idx)                   Output Shape              Param #\n",
      "==========================================================================================\n",
      "├─Sequential: 1-1                        [-1, 512, 1]              --\n",
      "|    └─Conv1d: 2-1                       [-1, 224, 224]            251,104\n",
      "|    └─BatchNorm1d: 2-2                  [-1, 224, 224]            448\n",
      "|    └─ReLU: 2-3                         [-1, 224, 224]            --\n",
      "|    └─Dense_block: 2-4                  [-1, 224, 220]            --\n",
      "|    |    └─Sequential: 3-1              [-1, 224, 224]            251,552\n",
      "|    |    └─Sequential: 3-2              [-1, 448, 224]            1,004,864\n",
      "|    |    └─Sequential: 3-3              [-1, 224, 220]            1,004,192\n",
      "|    └─MaxPool1d: 2-5                    [-1, 224, 55]             --\n",
      "|    └─Dense_block: 2-6                  [-1, 224, 51]             --\n",
      "|    |    └─Sequential: 3-4              [-1, 224, 55]             251,552\n",
      "|    |    └─Sequential: 3-5              [-1, 448, 55]             1,004,864\n",
      "|    |    └─Sequential: 3-6              [-1, 224, 51]             1,004,192\n",
      "|    └─MaxPool1d: 2-7                    [-1, 224, 25]             --\n",
      "|    └─Conv1d: 2-8                       [-1, 512, 21]             573,952\n",
      "|    └─BatchNorm1d: 2-9                  [-1, 512, 21]             1,024\n",
      "|    └─ReLU: 2-10                        [-1, 512, 21]             --\n",
      "|    └─MaxPool1d: 2-11                   [-1, 512, 5]              --\n",
      "|    └─Conv1d: 2-12                      [-1, 512, 5]              1,311,232\n",
      "|    └─BatchNorm1d: 2-13                 [-1, 512, 5]              1,024\n",
      "|    └─ReLU: 2-14                        [-1, 512, 5]              --\n",
      "|    └─MaxPool1d: 2-15                   [-1, 512, 2]              --\n",
      "|    └─Conv1d: 2-16                      [-1, 512, 2]              262,656\n",
      "|    └─BatchNorm1d: 2-17                 [-1, 512, 2]              1,024\n",
      "|    └─ReLU: 2-18                        [-1, 512, 2]              --\n",
      "|    └─MaxPool1d: 2-19                   [-1, 512, 1]              --\n",
      "|    └─Conv1d: 2-20                      [-1, 512, 1]              262,656\n",
      "|    └─BatchNorm1d: 2-21                 [-1, 512, 1]              1,024\n",
      "|    └─ReLU: 2-22                        [-1, 512, 1]              --\n",
      "├─Sequential: 1-2                        [-1, 8]                   --\n",
      "|    └─Dropout: 2-23                     [-1, 512]                 --\n",
      "|    └─Linear: 2-24                      [-1, 8]                   4,104\n",
      "==========================================================================================\n",
      "Total params: 7,191,464\n",
      "Trainable params: 7,191,464\n",
      "Non-trainable params: 0\n",
      "Total mult-adds (M): 713.74\n",
      "==========================================================================================\n",
      "Input size (MB): 0.44\n",
      "Forward/backward pass size (MB): 4.78\n",
      "Params size (MB): 27.43\n",
      "Estimated Total Size (MB): 32.65\n",
      "==========================================================================================\n"
     ]
    },
    {
     "data": {
      "text/plain": [
       "==========================================================================================\n",
       "Layer (type:depth-idx)                   Output Shape              Param #\n",
       "==========================================================================================\n",
       "├─Sequential: 1-1                        [-1, 512, 1]              --\n",
       "|    └─Conv1d: 2-1                       [-1, 224, 224]            251,104\n",
       "|    └─BatchNorm1d: 2-2                  [-1, 224, 224]            448\n",
       "|    └─ReLU: 2-3                         [-1, 224, 224]            --\n",
       "|    └─Dense_block: 2-4                  [-1, 224, 220]            --\n",
       "|    |    └─Sequential: 3-1              [-1, 224, 224]            251,552\n",
       "|    |    └─Sequential: 3-2              [-1, 448, 224]            1,004,864\n",
       "|    |    └─Sequential: 3-3              [-1, 224, 220]            1,004,192\n",
       "|    └─MaxPool1d: 2-5                    [-1, 224, 55]             --\n",
       "|    └─Dense_block: 2-6                  [-1, 224, 51]             --\n",
       "|    |    └─Sequential: 3-4              [-1, 224, 55]             251,552\n",
       "|    |    └─Sequential: 3-5              [-1, 448, 55]             1,004,864\n",
       "|    |    └─Sequential: 3-6              [-1, 224, 51]             1,004,192\n",
       "|    └─MaxPool1d: 2-7                    [-1, 224, 25]             --\n",
       "|    └─Conv1d: 2-8                       [-1, 512, 21]             573,952\n",
       "|    └─BatchNorm1d: 2-9                  [-1, 512, 21]             1,024\n",
       "|    └─ReLU: 2-10                        [-1, 512, 21]             --\n",
       "|    └─MaxPool1d: 2-11                   [-1, 512, 5]              --\n",
       "|    └─Conv1d: 2-12                      [-1, 512, 5]              1,311,232\n",
       "|    └─BatchNorm1d: 2-13                 [-1, 512, 5]              1,024\n",
       "|    └─ReLU: 2-14                        [-1, 512, 5]              --\n",
       "|    └─MaxPool1d: 2-15                   [-1, 512, 2]              --\n",
       "|    └─Conv1d: 2-16                      [-1, 512, 2]              262,656\n",
       "|    └─BatchNorm1d: 2-17                 [-1, 512, 2]              1,024\n",
       "|    └─ReLU: 2-18                        [-1, 512, 2]              --\n",
       "|    └─MaxPool1d: 2-19                   [-1, 512, 1]              --\n",
       "|    └─Conv1d: 2-20                      [-1, 512, 1]              262,656\n",
       "|    └─BatchNorm1d: 2-21                 [-1, 512, 1]              1,024\n",
       "|    └─ReLU: 2-22                        [-1, 512, 1]              --\n",
       "├─Sequential: 1-2                        [-1, 8]                   --\n",
       "|    └─Dropout: 2-23                     [-1, 512]                 --\n",
       "|    └─Linear: 2-24                      [-1, 8]                   4,104\n",
       "==========================================================================================\n",
       "Total params: 7,191,464\n",
       "Trainable params: 7,191,464\n",
       "Non-trainable params: 0\n",
       "Total mult-adds (M): 713.74\n",
       "==========================================================================================\n",
       "Input size (MB): 0.44\n",
       "Forward/backward pass size (MB): 4.78\n",
       "Params size (MB): 27.43\n",
       "Estimated Total Size (MB): 32.65\n",
       "=========================================================================================="
      ]
     },
     "execution_count": 132,
     "metadata": {},
     "output_type": "execute_result"
    }
   ],
   "source": [
    "#choose index\n",
    "# 0 = mel\n",
    "# 1 = mfcc\n",
    "# 2 = spec\n",
    "amp_db=transforms.AmplitudeToDB()\n",
    "\n",
    "index = 1\n",
    "spectro_like=[mel_spectrogram,mfcc_transform,spectrogram]\n",
    "spectro_like=[spectro_like[index]]\n",
    "spectro_like_device=[i.to(device) for i in spectro_like]\n",
    "\n",
    "\n",
    "normalize_spec_db = T.Normalize(mean=[[-13.8637, -53.9947, -21.2606][index]],\n",
    "                        std=[[19.2690, 49.1503, 22.0783][index]])\n",
    "\n",
    "\n",
    "transform_train_db = T.Compose([  amp_db,     \n",
    "                                \n",
    "        normalize_spec_db,\n",
    "         # transforms.TimeStretch(fixed_rate =1.2),\n",
    "        transforms.TimeMasking(time_mask_param=20),\n",
    "        #transforms.FrequencyMasking(freq_mask_param=30),\n",
    "        #T.RandomHorizontalFlip(),\n",
    "        #T.Resize((image_size,image_size))\n",
    "                       ])\n",
    "transform_test_db = T.Compose([ amp_db,           \n",
    "        normalize_spec_db])\n",
    "\n",
    "\n",
    "class Net_res_mel(nn.Module):\n",
    "    def __init__(self,spectro_like=None,transform_train=None,transform_test=None):\n",
    "        super(Net_res_mel, self).__init__()\n",
    "        self.spectro_like=spectro_like\n",
    "        self.len_feat=len(self.spectro_like)\n",
    "        self.transform_train=transform_train_db\n",
    "        self.transform_test=transform_test\n",
    "        \n",
    "        self.kernel=5\n",
    "        self.pad=int((self.kernel-1)/2)\n",
    "        \n",
    "        self.channel=224\n",
    "        self.channel2=512\n",
    "        self.layer=nn.Sequential(nn.Conv1d(self.channel,self.channel,self.kernel,padding=self.pad),nn.BatchNorm1d(self.channel),nn.ReLU(),\n",
    "                                 Dense_block(channel=self.channel,channel_out=self.channel,kernel=self.kernel),nn.MaxPool1d(4),\n",
    "                                 Dense_block(channel=self.channel,channel_out=self.channel,kernel=self.kernel),nn.MaxPool1d(2),\n",
    "                                 nn.Conv1d(self.channel,self.channel2,self.kernel),nn.BatchNorm1d(self.channel2),nn.ReLU(),nn.MaxPool1d(4),\n",
    "                                 nn.Conv1d(self.channel2,self.channel2,self.kernel,padding=2),nn.BatchNorm1d(self.channel2),nn.ReLU(),nn.MaxPool1d(2),\n",
    "                                 nn.Conv1d(self.channel2,self.channel2,1),nn.BatchNorm1d(self.channel2),nn.ReLU(),nn.MaxPool1d(2),\n",
    "                                 nn.Conv1d(self.channel2,self.channel2,1),nn.BatchNorm1d(self.channel2),nn.ReLU()\n",
    "                                )\n",
    "        \n",
    "        self.fc=nn.Sequential(nn.Dropout(p=0.2),nn.Linear(512,8))\n",
    "        #self.res.fc=nn.Sequential(nn.Linear(2048, 8))#,nn.ReLU(),nn.Linear(256, 8))#,#nn.Identity()#\n",
    "        #self.res.features[0]=nn.Conv2d(64,64,(3,3))\n",
    "    \n",
    "#     def freeze(self):\n",
    "#         for param in self.res.parameters():\n",
    "#             param.require_grad = False\n",
    "#         for param in self.res.fc.parameters():\n",
    "#             param.require_grad = True\n",
    "\n",
    "        \n",
    "#     def unfreeze(self):\n",
    "#         for param in self.res.parameters():\n",
    "#             param.require_grad = True\n",
    "        \n",
    "    def forward(self, x):\n",
    "        if self.spectro_like:\n",
    "            spec=torch.tensor([]).to(device)\n",
    "            for spectro in self.spectro_like :\n",
    "                spec1=spectro(x)\n",
    "                spec=torch.cat((spec,spec1),1)\n",
    "            x=spec.to(device)\n",
    "        if self.train():\n",
    "            if self.transform_train:\n",
    "                x = self.transform_train(x)\n",
    "        else:\n",
    "            if self.transform_test:\n",
    "                x = self.transform_test(x)\n",
    "        if x.size(1)!=1:\n",
    "            print(\"pb\")\n",
    "        x=x[:,0] # (bs,channel=1,img_size,img_size)=>(bs,img_size,img_size)\n",
    "        x=x.permute(0,2,1)\n",
    "        x=self.layer(x)\n",
    "        x=self.fc(x.view(x.size(0),-1))\n",
    "        return x\n",
    "\n",
    "model=Net_res_mel(spectro_like,transform_train_db,transform_test_db)\n",
    "summary(model, ([1,size_in]))"
   ]
  },
  {
   "cell_type": "markdown",
   "metadata": {},
   "source": [
    "## train model on mel, mfcc or spec"
   ]
  },
  {
   "cell_type": "code",
   "execution_count": null,
   "metadata": {},
   "outputs": [],
   "source": [
    "#Test for mel mfccc"
   ]
  },
  {
   "cell_type": "code",
   "execution_count": 133,
   "metadata": {
    "ExecuteTime": {
     "end_time": "2021-04-01T20:12:42.775143Z",
     "start_time": "2021-04-01T19:29:58.803178Z"
    }
   },
   "outputs": [
    {
     "data": {
      "application/vnd.jupyter.widget-view+json": {
       "model_id": "6253cdb0de4748aabee9e624315bf5e7",
       "version_major": 2,
       "version_minor": 0
      },
      "text/plain": [
       "  0%|          | 0/100 [00:00<?, ?it/s]"
      ]
     },
     "metadata": {},
     "output_type": "display_data"
    },
    {
     "name": "stdout",
     "output_type": "stream",
     "text": [
      "Train Epoch: 1  \tLoss: 2.011040   Accuracy: 1199/6397 (19%\n",
      "\n",
      "Test set: Average loss: 0.0320, Accuracy: 332/1600 (21%)\n",
      "\n",
      "5.520905616820604e-06\n"
     ]
    },
    {
     "data": {
      "application/vnd.jupyter.widget-view+json": {
       "model_id": "e029a202898747cd934efd2584b4ab4b",
       "version_major": 2,
       "version_minor": 0
      },
      "text/plain": [
       "  0%|          | 0/100 [00:00<?, ?it/s]"
      ]
     },
     "metadata": {},
     "output_type": "display_data"
    },
    {
     "name": "stdout",
     "output_type": "stream",
     "text": [
      "Train Epoch: 2  \tLoss: 1.829034   Accuracy: 1775/6397 (28%\n",
      "\n",
      "Test set: Average loss: 0.0308, Accuracy: 413/1600 (26%)\n",
      "\n",
      "1.220307023383507e-05\n"
     ]
    },
    {
     "data": {
      "application/vnd.jupyter.widget-view+json": {
       "model_id": "9b19b4cc16aa4b40a3cd695c90126a44",
       "version_major": 2,
       "version_minor": 0
      },
      "text/plain": [
       "  0%|          | 0/100 [00:00<?, ?it/s]"
      ]
     },
     "metadata": {},
     "output_type": "display_data"
    },
    {
     "name": "stdout",
     "output_type": "stream",
     "text": [
      "Train Epoch: 3  \tLoss: 1.680527   Accuracy: 2131/6397 (33%\n",
      "\n",
      "Test set: Average loss: 0.0296, Accuracy: 481/1600 (30%)\n",
      "\n",
      "2.243875044520231e-05\n"
     ]
    },
    {
     "data": {
      "application/vnd.jupyter.widget-view+json": {
       "model_id": "6f39dad8270149849d592d40051e36f9",
       "version_major": 2,
       "version_minor": 0
      },
      "text/plain": [
       "  0%|          | 0/100 [00:00<?, ?it/s]"
      ]
     },
     "metadata": {},
     "output_type": "display_data"
    },
    {
     "name": "stdout",
     "output_type": "stream",
     "text": [
      "Train Epoch: 4  \tLoss: 1.776490   Accuracy: 2446/6397 (38%\n",
      "\n",
      "Test set: Average loss: 0.0290, Accuracy: 487/1600 (30%)\n",
      "\n",
      "3.499065210016493e-05\n"
     ]
    },
    {
     "data": {
      "application/vnd.jupyter.widget-view+json": {
       "model_id": "aae0faf269724fab8d565d9f30563995",
       "version_major": 2,
       "version_minor": 0
      },
      "text/plain": [
       "  0%|          | 0/100 [00:00<?, ?it/s]"
      ]
     },
     "metadata": {},
     "output_type": "display_data"
    },
    {
     "name": "stdout",
     "output_type": "stream",
     "text": [
      "Train Epoch: 5  \tLoss: 1.545504   Accuracy: 2682/6397 (42%\n",
      "\n",
      "Test set: Average loss: 0.0295, Accuracy: 491/1600 (31%)\n",
      "\n",
      "4.834149503972384e-05\n"
     ]
    },
    {
     "data": {
      "application/vnd.jupyter.widget-view+json": {
       "model_id": "37e72f4f4b334b07938d1ce5cd84c408",
       "version_major": 2,
       "version_minor": 0
      },
      "text/plain": [
       "  0%|          | 0/100 [00:00<?, ?it/s]"
      ]
     },
     "metadata": {},
     "output_type": "display_data"
    },
    {
     "name": "stdout",
     "output_type": "stream",
     "text": [
      "Train Epoch: 6  \tLoss: 1.418317   Accuracy: 2846/6397 (44%\n",
      "\n",
      "Test set: Average loss: 0.0289, Accuracy: 529/1600 (33%)\n",
      "\n",
      "6.087742268222736e-05\n"
     ]
    },
    {
     "data": {
      "application/vnd.jupyter.widget-view+json": {
       "model_id": "bcad584234444afda7bc001036edcccc",
       "version_major": 2,
       "version_minor": 0
      },
      "text/plain": [
       "  0%|          | 0/100 [00:00<?, ?it/s]"
      ]
     },
     "metadata": {},
     "output_type": "display_data"
    },
    {
     "name": "stdout",
     "output_type": "stream",
     "text": [
      "Train Epoch: 7  \tLoss: 1.560695   Accuracy: 2967/6397 (46%\n",
      "\n",
      "Test set: Average loss: 0.0287, Accuracy: 530/1600 (33%)\n",
      "\n",
      "7.108308581530347e-05\n"
     ]
    },
    {
     "data": {
      "application/vnd.jupyter.widget-view+json": {
       "model_id": "ce3056ea632c4b939c10fafe8f41fab0",
       "version_major": 2,
       "version_minor": 0
      },
      "text/plain": [
       "  0%|          | 0/100 [00:00<?, ?it/s]"
      ]
     },
     "metadata": {},
     "output_type": "display_data"
    },
    {
     "name": "stdout",
     "output_type": "stream",
     "text": [
      "Train Epoch: 8  \tLoss: 1.376963   Accuracy: 2961/6397 (46%\n",
      "\n",
      "Test set: Average loss: 0.0283, Accuracy: 547/1600 (34%)\n",
      "\n",
      "7.772481876765342e-05\n"
     ]
    },
    {
     "data": {
      "application/vnd.jupyter.widget-view+json": {
       "model_id": "ae268a158002489d97afd953328d3b59",
       "version_major": 2,
       "version_minor": 0
      },
      "text/plain": [
       "  0%|          | 0/100 [00:00<?, ?it/s]"
      ]
     },
     "metadata": {},
     "output_type": "display_data"
    },
    {
     "name": "stdout",
     "output_type": "stream",
     "text": [
      "Train Epoch: 9  \tLoss: 1.501358   Accuracy: 3079/6397 (48%\n",
      "\n",
      "Test set: Average loss: 0.0285, Accuracy: 549/1600 (34%)\n",
      "\n",
      "7.999995524007674e-05\n"
     ]
    },
    {
     "data": {
      "application/vnd.jupyter.widget-view+json": {
       "model_id": "f29640f6a38c4b579e1db4102dca3402",
       "version_major": 2,
       "version_minor": 0
      },
      "text/plain": [
       "  0%|          | 0/100 [00:00<?, ?it/s]"
      ]
     },
     "metadata": {},
     "output_type": "display_data"
    },
    {
     "name": "stdout",
     "output_type": "stream",
     "text": [
      "Train Epoch: 10  \tLoss: 1.454372   Accuracy: 3199/6397 (50%\n",
      "\n",
      "Test set: Average loss: 0.0283, Accuracy: 586/1600 (37%)\n",
      "\n",
      "7.954427194673012e-05\n"
     ]
    },
    {
     "data": {
      "application/vnd.jupyter.widget-view+json": {
       "model_id": "873c699eb769495cb30c0640daa4c4a9",
       "version_major": 2,
       "version_minor": 0
      },
      "text/plain": [
       "  0%|          | 0/100 [00:00<?, ?it/s]"
      ]
     },
     "metadata": {},
     "output_type": "display_data"
    },
    {
     "name": "stdout",
     "output_type": "stream",
     "text": [
      "Train Epoch: 11  \tLoss: 1.235988   Accuracy: 3196/6397 (50%\n",
      "\n",
      "Test set: Average loss: 0.0285, Accuracy: 575/1600 (36%)\n",
      "\n",
      "7.820523853717149e-05\n"
     ]
    },
    {
     "data": {
      "application/vnd.jupyter.widget-view+json": {
       "model_id": "af6fedaa84eb402e9306f0573b8b14de",
       "version_major": 2,
       "version_minor": 0
      },
      "text/plain": [
       "  0%|          | 0/100 [00:00<?, ?it/s]"
      ]
     },
     "metadata": {},
     "output_type": "display_data"
    },
    {
     "name": "stdout",
     "output_type": "stream",
     "text": [
      "Train Epoch: 12  \tLoss: 1.409214   Accuracy: 3308/6397 (52%\n",
      "\n",
      "Test set: Average loss: 0.0284, Accuracy: 562/1600 (35%)\n",
      "\n",
      "7.601276680508433e-05\n"
     ]
    },
    {
     "data": {
      "application/vnd.jupyter.widget-view+json": {
       "model_id": "c250bd0c9d0d494ca5f6e31d50ce02da",
       "version_major": 2,
       "version_minor": 0
      },
      "text/plain": [
       "  0%|          | 0/100 [00:00<?, ?it/s]"
      ]
     },
     "metadata": {},
     "output_type": "display_data"
    },
    {
     "name": "stdout",
     "output_type": "stream",
     "text": [
      "Train Epoch: 13  \tLoss: 1.134088   Accuracy: 3439/6397 (54%\n",
      "\n",
      "Test set: Average loss: 0.0285, Accuracy: 573/1600 (36%)\n",
      "\n",
      "7.301583294601294e-05\n"
     ]
    },
    {
     "data": {
      "application/vnd.jupyter.widget-view+json": {
       "model_id": "cd89f4b913594fd3ab5a7d914f8a08bf",
       "version_major": 2,
       "version_minor": 0
      },
      "text/plain": [
       "  0%|          | 0/100 [00:00<?, ?it/s]"
      ]
     },
     "metadata": {},
     "output_type": "display_data"
    },
    {
     "name": "stdout",
     "output_type": "stream",
     "text": [
      "Train Epoch: 14  \tLoss: 1.395110   Accuracy: 3430/6397 (54%\n",
      "\n",
      "Test set: Average loss: 0.0284, Accuracy: 578/1600 (36%)\n",
      "\n",
      "6.928138351008487e-05\n"
     ]
    },
    {
     "data": {
      "application/vnd.jupyter.widget-view+json": {
       "model_id": "a4ae70c8306a4c09b49ffaa8dd345966",
       "version_major": 2,
       "version_minor": 0
      },
      "text/plain": [
       "  0%|          | 0/100 [00:00<?, ?it/s]"
      ]
     },
     "metadata": {},
     "output_type": "display_data"
    },
    {
     "name": "stdout",
     "output_type": "stream",
     "text": [
      "Train Epoch: 15  \tLoss: 1.321821   Accuracy: 3530/6397 (55%\n",
      "\n",
      "Test set: Average loss: 0.0287, Accuracy: 582/1600 (36%)\n",
      "\n",
      "6.489283992670681e-05\n"
     ]
    },
    {
     "data": {
      "application/vnd.jupyter.widget-view+json": {
       "model_id": "ff3fad8f34bd40be99568949ee8c5fd4",
       "version_major": 2,
       "version_minor": 0
      },
      "text/plain": [
       "  0%|          | 0/100 [00:00<?, ?it/s]"
      ]
     },
     "metadata": {},
     "output_type": "display_data"
    },
    {
     "name": "stdout",
     "output_type": "stream",
     "text": [
      "Train Epoch: 16  \tLoss: 1.222029   Accuracy: 3591/6397 (56%\n",
      "\n",
      "Test set: Average loss: 0.0281, Accuracy: 582/1600 (36%)\n",
      "\n",
      "5.994823500768149e-05\n"
     ]
    },
    {
     "data": {
      "application/vnd.jupyter.widget-view+json": {
       "model_id": "b1461f4ddb0a4f7abe07c92850dcee0c",
       "version_major": 2,
       "version_minor": 0
      },
      "text/plain": [
       "  0%|          | 0/100 [00:00<?, ?it/s]"
      ]
     },
     "metadata": {},
     "output_type": "display_data"
    },
    {
     "name": "stdout",
     "output_type": "stream",
     "text": [
      "Train Epoch: 17  \tLoss: 1.205585   Accuracy: 3689/6397 (58%\n",
      "\n",
      "Test set: Average loss: 0.0283, Accuracy: 572/1600 (36%)\n",
      "\n",
      "5.455802305618624e-05\n"
     ]
    },
    {
     "data": {
      "application/vnd.jupyter.widget-view+json": {
       "model_id": "ebd6f3bfceb74291adeaa24ecd3ef8f4",
       "version_major": 2,
       "version_minor": 0
      },
      "text/plain": [
       "  0%|          | 0/100 [00:00<?, ?it/s]"
      ]
     },
     "metadata": {},
     "output_type": "display_data"
    },
    {
     "name": "stdout",
     "output_type": "stream",
     "text": [
      "Train Epoch: 18  \tLoss: 1.209638   Accuracy: 3755/6397 (59%\n",
      "\n",
      "Test set: Average loss: 0.0285, Accuracy: 584/1600 (36%)\n",
      "\n",
      "4.884261250016032e-05\n"
     ]
    },
    {
     "data": {
      "application/vnd.jupyter.widget-view+json": {
       "model_id": "592a428809b74940922bf43d49a88b02",
       "version_major": 2,
       "version_minor": 0
      },
      "text/plain": [
       "  0%|          | 0/100 [00:00<?, ?it/s]"
      ]
     },
     "metadata": {},
     "output_type": "display_data"
    },
    {
     "name": "stdout",
     "output_type": "stream",
     "text": [
      "Train Epoch: 19  \tLoss: 1.134810   Accuracy: 3874/6397 (61%\n",
      "\n",
      "Test set: Average loss: 0.0286, Accuracy: 588/1600 (37%)\n",
      "\n",
      "4.2929676166993736e-05\n"
     ]
    },
    {
     "data": {
      "application/vnd.jupyter.widget-view+json": {
       "model_id": "37b37b90937a4bdbb140150cd9f11b14",
       "version_major": 2,
       "version_minor": 0
      },
      "text/plain": [
       "  0%|          | 0/100 [00:00<?, ?it/s]"
      ]
     },
     "metadata": {},
     "output_type": "display_data"
    },
    {
     "name": "stdout",
     "output_type": "stream",
     "text": [
      "Train Epoch: 20  \tLoss: 1.074526   Accuracy: 3910/6397 (61%\n",
      "\n",
      "Test set: Average loss: 0.0289, Accuracy: 592/1600 (37%)\n",
      "\n",
      "3.6951299283536267e-05\n"
     ]
    },
    {
     "data": {
      "application/vnd.jupyter.widget-view+json": {
       "model_id": "424157b199684397a5a5cc095e32572a",
       "version_major": 2,
       "version_minor": 0
      },
      "text/plain": [
       "  0%|          | 0/100 [00:00<?, ?it/s]"
      ]
     },
     "metadata": {},
     "output_type": "display_data"
    },
    {
     "name": "stdout",
     "output_type": "stream",
     "text": [
      "Train Epoch: 21  \tLoss: 1.013390   Accuracy: 4059/6397 (63%\n",
      "\n",
      "Test set: Average loss: 0.0279, Accuracy: 613/1600 (38%)\n",
      "\n",
      "3.10410289103939e-05\n"
     ]
    },
    {
     "data": {
      "application/vnd.jupyter.widget-view+json": {
       "model_id": "11a4b840d9994ea2ba77713215192d40",
       "version_major": 2,
       "version_minor": 0
      },
      "text/plain": [
       "  0%|          | 0/100 [00:00<?, ?it/s]"
      ]
     },
     "metadata": {},
     "output_type": "display_data"
    },
    {
     "name": "stdout",
     "output_type": "stream",
     "text": [
      "Train Epoch: 22  \tLoss: 0.882684   Accuracy: 4234/6397 (66%\n",
      "\n",
      "Test set: Average loss: 0.0283, Accuracy: 596/1600 (37%)\n",
      "\n",
      "2.5330890721274868e-05\n"
     ]
    },
    {
     "data": {
      "application/vnd.jupyter.widget-view+json": {
       "model_id": "af35111558234f3e8d1867d6543ebfdb",
       "version_major": 2,
       "version_minor": 0
      },
      "text/plain": [
       "  0%|          | 0/100 [00:00<?, ?it/s]"
      ]
     },
     "metadata": {},
     "output_type": "display_data"
    },
    {
     "name": "stdout",
     "output_type": "stream",
     "text": [
      "Train Epoch: 23  \tLoss: 1.233008   Accuracy: 4249/6397 (66%\n",
      "\n",
      "Test set: Average loss: 0.0284, Accuracy: 613/1600 (38%)\n",
      "\n",
      "1.9948439767604767e-05\n"
     ]
    },
    {
     "data": {
      "application/vnd.jupyter.widget-view+json": {
       "model_id": "b9bec489b91e4730af6d0433066bb6b4",
       "version_major": 2,
       "version_minor": 0
      },
      "text/plain": [
       "  0%|          | 0/100 [00:00<?, ?it/s]"
      ]
     },
     "metadata": {},
     "output_type": "display_data"
    },
    {
     "name": "stdout",
     "output_type": "stream",
     "text": [
      "Train Epoch: 24  \tLoss: 0.852579   Accuracy: 4411/6397 (69%\n",
      "\n",
      "Test set: Average loss: 0.0282, Accuracy: 598/1600 (37%)\n",
      "\n",
      "1.5013911109456122e-05\n"
     ]
    },
    {
     "data": {
      "application/vnd.jupyter.widget-view+json": {
       "model_id": "9d6897d1d565478d99adbbe0c19da388",
       "version_major": 2,
       "version_minor": 0
      },
      "text/plain": [
       "  0%|          | 0/100 [00:00<?, ?it/s]"
      ]
     },
     "metadata": {},
     "output_type": "display_data"
    },
    {
     "name": "stdout",
     "output_type": "stream",
     "text": [
      "Train Epoch: 25  \tLoss: 0.926700   Accuracy: 4493/6397 (70%\n",
      "\n",
      "Test set: Average loss: 0.0288, Accuracy: 588/1600 (37%)\n",
      "\n",
      "1.0637533962988822e-05\n"
     ]
    },
    {
     "data": {
      "application/vnd.jupyter.widget-view+json": {
       "model_id": "5b1cd00b9690420bbb45060fa2f89e20",
       "version_major": 2,
       "version_minor": 0
      },
      "text/plain": [
       "  0%|          | 0/100 [00:00<?, ?it/s]"
      ]
     },
     "metadata": {},
     "output_type": "display_data"
    },
    {
     "name": "stdout",
     "output_type": "stream",
     "text": [
      "Train Epoch: 26  \tLoss: 0.747039   Accuracy: 4629/6397 (72%\n",
      "\n",
      "Test set: Average loss: 0.0288, Accuracy: 608/1600 (38%)\n",
      "\n",
      "6.917069361909408e-06\n"
     ]
    },
    {
     "data": {
      "application/vnd.jupyter.widget-view+json": {
       "model_id": "d35f4878007b4771b632bcb48e7438c6",
       "version_major": 2,
       "version_minor": 0
      },
      "text/plain": [
       "  0%|          | 0/100 [00:00<?, ?it/s]"
      ]
     },
     "metadata": {},
     "output_type": "display_data"
    },
    {
     "name": "stdout",
     "output_type": "stream",
     "text": [
      "Train Epoch: 27  \tLoss: 0.832378   Accuracy: 4630/6397 (72%\n",
      "\n",
      "Test set: Average loss: 0.0288, Accuracy: 613/1600 (38%)\n",
      "\n",
      "3.935626337523319e-06\n"
     ]
    },
    {
     "data": {
      "application/vnd.jupyter.widget-view+json": {
       "model_id": "e43f6f705fec438782c8739c8c489d3c",
       "version_major": 2,
       "version_minor": 0
      },
      "text/plain": [
       "  0%|          | 0/100 [00:00<?, ?it/s]"
      ]
     },
     "metadata": {},
     "output_type": "display_data"
    },
    {
     "name": "stdout",
     "output_type": "stream",
     "text": [
      "Train Epoch: 28  \tLoss: 0.789031   Accuracy: 4701/6397 (73%\n",
      "\n",
      "Test set: Average loss: 0.0287, Accuracy: 611/1600 (38%)\n",
      "\n",
      "1.7598054003090272e-06\n"
     ]
    },
    {
     "data": {
      "application/vnd.jupyter.widget-view+json": {
       "model_id": "de52d3848a754e33b78d5b4cb8b7c2bf",
       "version_major": 2,
       "version_minor": 0
      },
      "text/plain": [
       "  0%|          | 0/100 [00:00<?, ?it/s]"
      ]
     },
     "metadata": {},
     "output_type": "display_data"
    },
    {
     "name": "stdout",
     "output_type": "stream",
     "text": [
      "Train Epoch: 29  \tLoss: 1.001036   Accuracy: 4744/6397 (74%\n",
      "\n",
      "Test set: Average loss: 0.0287, Accuracy: 627/1600 (39%)\n",
      "\n",
      "4.382107945680432e-07\n"
     ]
    },
    {
     "data": {
      "application/vnd.jupyter.widget-view+json": {
       "model_id": "bb9de9cd71a9490b9930fde6394a752f",
       "version_major": 2,
       "version_minor": 0
      },
      "text/plain": [
       "  0%|          | 0/100 [00:00<?, ?it/s]"
      ]
     },
     "metadata": {},
     "output_type": "display_data"
    },
    {
     "name": "stdout",
     "output_type": "stream",
     "text": [
      "Train Epoch: 30  \tLoss: 0.810248   Accuracy: 4777/6397 (75%\n",
      "\n",
      "Test set: Average loss: 0.0285, Accuracy: 611/1600 (38%)\n",
      "\n",
      "3.647599232730588e-10\n"
     ]
    },
    {
     "data": {
      "image/png": "[encoded data removed]",
      "text/plain": [
       "<Figure size 432x288 with 1 Axes>"
      ]
     },
     "metadata": {
      "needs_background": "light"
     },
     "output_type": "display_data"
    },
    {
     "data": {
      "image/png": "[encoded data removed]",
      "text/plain": [
       "<Figure size 432x288 with 1 Axes>"
      ]
     },
     "metadata": {
      "needs_background": "light"
     },
     "output_type": "display_data"
    },
    {
     "data": {
      "application/vnd.jupyter.widget-view+json": {
       "model_id": "cef3d5a34cd14d36afa6130eddc8d991",
       "version_major": 2,
       "version_minor": 0
      },
      "text/plain": [
       "  0%|          | 0/100 [00:00<?, ?it/s]"
      ]
     },
     "metadata": {},
     "output_type": "display_data"
    },
    {
     "name": "stdout",
     "output_type": "stream",
     "text": [
      "Train Epoch: 1  \tLoss: 2.031542   Accuracy: 873/6397 (14%\n",
      "\n",
      "Test set: Average loss: 0.0334, Accuracy: 210/1600 (13%)\n",
      "\n",
      "5.520905616820604e-06\n"
     ]
    },
    {
     "data": {
      "application/vnd.jupyter.widget-view+json": {
       "model_id": "70161b59656843b09e7d1bdad781c98b",
       "version_major": 2,
       "version_minor": 0
      },
      "text/plain": [
       "  0%|          | 0/100 [00:00<?, ?it/s]"
      ]
     },
     "metadata": {},
     "output_type": "display_data"
    },
    {
     "name": "stdout",
     "output_type": "stream",
     "text": [
      "Train Epoch: 2  \tLoss: 2.013278   Accuracy: 999/6397 (16%\n",
      "\n",
      "Test set: Average loss: 0.0326, Accuracy: 266/1600 (17%)\n",
      "\n",
      "1.220307023383507e-05\n"
     ]
    },
    {
     "data": {
      "application/vnd.jupyter.widget-view+json": {
       "model_id": "e8d2b919af50444f90c726143c62120f",
       "version_major": 2,
       "version_minor": 0
      },
      "text/plain": [
       "  0%|          | 0/100 [00:00<?, ?it/s]"
      ]
     },
     "metadata": {},
     "output_type": "display_data"
    },
    {
     "name": "stdout",
     "output_type": "stream",
     "text": [
      "Train Epoch: 3  \tLoss: 1.856398   Accuracy: 1297/6397 (20%\n",
      "\n",
      "Test set: Average loss: 0.0318, Accuracy: 294/1600 (18%)\n",
      "\n",
      "2.243875044520231e-05\n"
     ]
    },
    {
     "data": {
      "application/vnd.jupyter.widget-view+json": {
       "model_id": "de064d63406646faa981b68fb043dacc",
       "version_major": 2,
       "version_minor": 0
      },
      "text/plain": [
       "  0%|          | 0/100 [00:00<?, ?it/s]"
      ]
     },
     "metadata": {},
     "output_type": "display_data"
    },
    {
     "name": "stdout",
     "output_type": "stream",
     "text": [
      "Train Epoch: 4  \tLoss: 1.787413   Accuracy: 1709/6397 (27%\n",
      "\n",
      "Test set: Average loss: 0.0308, Accuracy: 394/1600 (25%)\n",
      "\n",
      "3.499065210016493e-05\n"
     ]
    },
    {
     "data": {
      "application/vnd.jupyter.widget-view+json": {
       "model_id": "57f9f4b994e349e08be904428d202af5",
       "version_major": 2,
       "version_minor": 0
      },
      "text/plain": [
       "  0%|          | 0/100 [00:00<?, ?it/s]"
      ]
     },
     "metadata": {},
     "output_type": "display_data"
    },
    {
     "name": "stdout",
     "output_type": "stream",
     "text": [
      "Train Epoch: 5  \tLoss: 1.806604   Accuracy: 2068/6397 (32%\n",
      "\n",
      "Test set: Average loss: 0.0296, Accuracy: 461/1600 (29%)\n",
      "\n",
      "4.834149503972384e-05\n"
     ]
    },
    {
     "data": {
      "application/vnd.jupyter.widget-view+json": {
       "model_id": "7018b80db84d473bbb3126ac7ae93a62",
       "version_major": 2,
       "version_minor": 0
      },
      "text/plain": [
       "  0%|          | 0/100 [00:00<?, ?it/s]"
      ]
     },
     "metadata": {},
     "output_type": "display_data"
    },
    {
     "name": "stdout",
     "output_type": "stream",
     "text": [
      "Train Epoch: 6  \tLoss: 1.596699   Accuracy: 2372/6397 (37%\n",
      "\n",
      "Test set: Average loss: 0.0293, Accuracy: 517/1600 (32%)\n",
      "\n",
      "6.087742268222736e-05\n"
     ]
    },
    {
     "data": {
      "application/vnd.jupyter.widget-view+json": {
       "model_id": "51cc77d6124348eaac50f4784910fbf8",
       "version_major": 2,
       "version_minor": 0
      },
      "text/plain": [
       "  0%|          | 0/100 [00:00<?, ?it/s]"
      ]
     },
     "metadata": {},
     "output_type": "display_data"
    },
    {
     "name": "stdout",
     "output_type": "stream",
     "text": [
      "Train Epoch: 7  \tLoss: 1.423162   Accuracy: 2608/6397 (41%\n",
      "\n",
      "Test set: Average loss: 0.0289, Accuracy: 531/1600 (33%)\n",
      "\n",
      "7.108308581530347e-05\n"
     ]
    },
    {
     "data": {
      "application/vnd.jupyter.widget-view+json": {
       "model_id": "77d563dbfd864b58896e98253f57057c",
       "version_major": 2,
       "version_minor": 0
      },
      "text/plain": [
       "  0%|          | 0/100 [00:00<?, ?it/s]"
      ]
     },
     "metadata": {},
     "output_type": "display_data"
    },
    {
     "name": "stdout",
     "output_type": "stream",
     "text": [
      "Train Epoch: 8  \tLoss: 1.553673   Accuracy: 2734/6397 (43%\n",
      "\n",
      "Test set: Average loss: 0.0285, Accuracy: 541/1600 (34%)\n",
      "\n",
      "7.772481876765342e-05\n"
     ]
    },
    {
     "data": {
      "application/vnd.jupyter.widget-view+json": {
       "model_id": "c6e54b8ad0534b43bf9edb22b64e90fd",
       "version_major": 2,
       "version_minor": 0
      },
      "text/plain": [
       "  0%|          | 0/100 [00:00<?, ?it/s]"
      ]
     },
     "metadata": {},
     "output_type": "display_data"
    },
    {
     "name": "stdout",
     "output_type": "stream",
     "text": [
      "Train Epoch: 9  \tLoss: 1.583141   Accuracy: 2793/6397 (44%\n",
      "\n",
      "Test set: Average loss: 0.0282, Accuracy: 566/1600 (35%)\n",
      "\n",
      "7.999995524007674e-05\n"
     ]
    },
    {
     "data": {
      "application/vnd.jupyter.widget-view+json": {
       "model_id": "8822ff6cbdd24040a9b2cb711eb1c767",
       "version_major": 2,
       "version_minor": 0
      },
      "text/plain": [
       "  0%|          | 0/100 [00:00<?, ?it/s]"
      ]
     },
     "metadata": {},
     "output_type": "display_data"
    },
    {
     "name": "stdout",
     "output_type": "stream",
     "text": [
      "Train Epoch: 10  \tLoss: 1.555886   Accuracy: 2930/6397 (46%\n",
      "\n",
      "Test set: Average loss: 0.0277, Accuracy: 572/1600 (36%)\n",
      "\n",
      "7.954427194673012e-05\n"
     ]
    },
    {
     "data": {
      "application/vnd.jupyter.widget-view+json": {
       "model_id": "9de47a887cb142048d36afa672c0b3fd",
       "version_major": 2,
       "version_minor": 0
      },
      "text/plain": [
       "  0%|          | 0/100 [00:00<?, ?it/s]"
      ]
     },
     "metadata": {},
     "output_type": "display_data"
    },
    {
     "name": "stdout",
     "output_type": "stream",
     "text": [
      "Train Epoch: 11  \tLoss: 1.463369   Accuracy: 3056/6397 (48%\n",
      "\n",
      "Test set: Average loss: 0.0278, Accuracy: 597/1600 (37%)\n",
      "\n",
      "7.820523853717149e-05\n"
     ]
    },
    {
     "data": {
      "application/vnd.jupyter.widget-view+json": {
       "model_id": "4a44c4bed9e84456b5aff7f84d684c3a",
       "version_major": 2,
       "version_minor": 0
      },
      "text/plain": [
       "  0%|          | 0/100 [00:00<?, ?it/s]"
      ]
     },
     "metadata": {},
     "output_type": "display_data"
    },
    {
     "name": "stdout",
     "output_type": "stream",
     "text": [
      "Train Epoch: 12  \tLoss: 1.437253   Accuracy: 3177/6397 (50%\n",
      "\n",
      "Test set: Average loss: 0.0276, Accuracy: 606/1600 (38%)\n",
      "\n",
      "7.601276680508433e-05\n"
     ]
    },
    {
     "data": {
      "application/vnd.jupyter.widget-view+json": {
       "model_id": "1e2114e6b8154da1a5161e7787747c3b",
       "version_major": 2,
       "version_minor": 0
      },
      "text/plain": [
       "  0%|          | 0/100 [00:00<?, ?it/s]"
      ]
     },
     "metadata": {},
     "output_type": "display_data"
    },
    {
     "name": "stdout",
     "output_type": "stream",
     "text": [
      "Train Epoch: 13  \tLoss: 1.453102   Accuracy: 3245/6397 (51%\n",
      "\n",
      "Test set: Average loss: 0.0279, Accuracy: 607/1600 (38%)\n",
      "\n",
      "7.301583294601294e-05\n"
     ]
    },
    {
     "data": {
      "application/vnd.jupyter.widget-view+json": {
       "model_id": "8db280e5597e494381f370d0dcdaacb8",
       "version_major": 2,
       "version_minor": 0
      },
      "text/plain": [
       "  0%|          | 0/100 [00:00<?, ?it/s]"
      ]
     },
     "metadata": {},
     "output_type": "display_data"
    },
    {
     "name": "stdout",
     "output_type": "stream",
     "text": [
      "Train Epoch: 14  \tLoss: 1.364633   Accuracy: 3337/6397 (52%\n",
      "\n",
      "Test set: Average loss: 0.0278, Accuracy: 614/1600 (38%)\n",
      "\n",
      "6.928138351008487e-05\n"
     ]
    },
    {
     "data": {
      "application/vnd.jupyter.widget-view+json": {
       "model_id": "6ed45583b92a43b48b5bb637f5e42063",
       "version_major": 2,
       "version_minor": 0
      },
      "text/plain": [
       "  0%|          | 0/100 [00:00<?, ?it/s]"
      ]
     },
     "metadata": {},
     "output_type": "display_data"
    },
    {
     "name": "stdout",
     "output_type": "stream",
     "text": [
      "Train Epoch: 15  \tLoss: 1.392612   Accuracy: 3447/6397 (54%\n",
      "\n",
      "Test set: Average loss: 0.0277, Accuracy: 607/1600 (38%)\n",
      "\n",
      "6.489283992670681e-05\n"
     ]
    },
    {
     "data": {
      "application/vnd.jupyter.widget-view+json": {
       "model_id": "9f37ea9b2ea44e1995ff66a25b540e7d",
       "version_major": 2,
       "version_minor": 0
      },
      "text/plain": [
       "  0%|          | 0/100 [00:00<?, ?it/s]"
      ]
     },
     "metadata": {},
     "output_type": "display_data"
    },
    {
     "name": "stdout",
     "output_type": "stream",
     "text": [
      "Train Epoch: 16  \tLoss: 1.146531   Accuracy: 3551/6397 (56%\n",
      "\n",
      "Test set: Average loss: 0.0280, Accuracy: 610/1600 (38%)\n",
      "\n",
      "5.994823500768149e-05\n"
     ]
    },
    {
     "data": {
      "application/vnd.jupyter.widget-view+json": {
       "model_id": "ce6d31ce0f6a4886888557b20f85e19d",
       "version_major": 2,
       "version_minor": 0
      },
      "text/plain": [
       "  0%|          | 0/100 [00:00<?, ?it/s]"
      ]
     },
     "metadata": {},
     "output_type": "display_data"
    },
    {
     "name": "stdout",
     "output_type": "stream",
     "text": [
      "Train Epoch: 17  \tLoss: 1.347201   Accuracy: 3687/6397 (58%\n",
      "\n",
      "Test set: Average loss: 0.0282, Accuracy: 594/1600 (37%)\n",
      "\n",
      "5.455802305618624e-05\n"
     ]
    },
    {
     "data": {
      "application/vnd.jupyter.widget-view+json": {
       "model_id": "6483b4145eea412ba61e0f649aa77bb5",
       "version_major": 2,
       "version_minor": 0
      },
      "text/plain": [
       "  0%|          | 0/100 [00:00<?, ?it/s]"
      ]
     },
     "metadata": {},
     "output_type": "display_data"
    },
    {
     "name": "stdout",
     "output_type": "stream",
     "text": [
      "Train Epoch: 18  \tLoss: 1.285540   Accuracy: 3765/6397 (59%\n",
      "\n",
      "Test set: Average loss: 0.0278, Accuracy: 624/1600 (39%)\n",
      "\n",
      "4.884261250016032e-05\n"
     ]
    },
    {
     "data": {
      "application/vnd.jupyter.widget-view+json": {
       "model_id": "56d8b3fd225f463b9296d7fc605c212e",
       "version_major": 2,
       "version_minor": 0
      },
      "text/plain": [
       "  0%|          | 0/100 [00:00<?, ?it/s]"
      ]
     },
     "metadata": {},
     "output_type": "display_data"
    },
    {
     "name": "stdout",
     "output_type": "stream",
     "text": [
      "Train Epoch: 19  \tLoss: 1.028122   Accuracy: 3956/6397 (62%\n",
      "\n",
      "Test set: Average loss: 0.0283, Accuracy: 591/1600 (37%)\n",
      "\n",
      "4.2929676166993736e-05\n"
     ]
    },
    {
     "data": {
      "application/vnd.jupyter.widget-view+json": {
       "model_id": "f2baa61be6cc4567808747d449773e5e",
       "version_major": 2,
       "version_minor": 0
      },
      "text/plain": [
       "  0%|          | 0/100 [00:00<?, ?it/s]"
      ]
     },
     "metadata": {},
     "output_type": "display_data"
    },
    {
     "name": "stdout",
     "output_type": "stream",
     "text": [
      "Train Epoch: 20  \tLoss: 1.087591   Accuracy: 4067/6397 (64%\n",
      "\n",
      "Test set: Average loss: 0.0281, Accuracy: 605/1600 (38%)\n",
      "\n",
      "3.6951299283536267e-05\n"
     ]
    },
    {
     "data": {
      "application/vnd.jupyter.widget-view+json": {
       "model_id": "75df96a2330f4fc0a529778b5ee3641f",
       "version_major": 2,
       "version_minor": 0
      },
      "text/plain": [
       "  0%|          | 0/100 [00:00<?, ?it/s]"
      ]
     },
     "metadata": {},
     "output_type": "display_data"
    },
    {
     "name": "stdout",
     "output_type": "stream",
     "text": [
      "Train Epoch: 21  \tLoss: 1.068658   Accuracy: 4194/6397 (66%\n",
      "\n",
      "Test set: Average loss: 0.0284, Accuracy: 617/1600 (39%)\n",
      "\n",
      "3.10410289103939e-05\n"
     ]
    },
    {
     "data": {
      "application/vnd.jupyter.widget-view+json": {
       "model_id": "9f2b1af4a57643b6a6b7e430399c09ec",
       "version_major": 2,
       "version_minor": 0
      },
      "text/plain": [
       "  0%|          | 0/100 [00:00<?, ?it/s]"
      ]
     },
     "metadata": {},
     "output_type": "display_data"
    },
    {
     "name": "stdout",
     "output_type": "stream",
     "text": [
      "Train Epoch: 22  \tLoss: 0.922729   Accuracy: 4363/6397 (68%\n",
      "\n",
      "Test set: Average loss: 0.0284, Accuracy: 615/1600 (38%)\n",
      "\n",
      "2.5330890721274868e-05\n"
     ]
    },
    {
     "data": {
      "application/vnd.jupyter.widget-view+json": {
       "model_id": "895a415a98d1446fa2ed61eeb41a0580",
       "version_major": 2,
       "version_minor": 0
      },
      "text/plain": [
       "  0%|          | 0/100 [00:00<?, ?it/s]"
      ]
     },
     "metadata": {},
     "output_type": "display_data"
    },
    {
     "name": "stdout",
     "output_type": "stream",
     "text": [
      "Train Epoch: 23  \tLoss: 0.775896   Accuracy: 4458/6397 (70%\n",
      "\n",
      "Test set: Average loss: 0.0287, Accuracy: 607/1600 (38%)\n",
      "\n",
      "1.9948439767604767e-05\n"
     ]
    },
    {
     "data": {
      "application/vnd.jupyter.widget-view+json": {
       "model_id": "6be29b5d3d2946e5b75db4f83bb819e9",
       "version_major": 2,
       "version_minor": 0
      },
      "text/plain": [
       "  0%|          | 0/100 [00:00<?, ?it/s]"
      ]
     },
     "metadata": {},
     "output_type": "display_data"
    },
    {
     "name": "stdout",
     "output_type": "stream",
     "text": [
      "Train Epoch: 24  \tLoss: 0.901268   Accuracy: 4646/6397 (73%\n",
      "\n",
      "Test set: Average loss: 0.0289, Accuracy: 607/1600 (38%)\n",
      "\n",
      "1.5013911109456122e-05\n"
     ]
    },
    {
     "data": {
      "application/vnd.jupyter.widget-view+json": {
       "model_id": "b24e4712ac624d8899049052e45b323f",
       "version_major": 2,
       "version_minor": 0
      },
      "text/plain": [
       "  0%|          | 0/100 [00:00<?, ?it/s]"
      ]
     },
     "metadata": {},
     "output_type": "display_data"
    },
    {
     "name": "stdout",
     "output_type": "stream",
     "text": [
      "Train Epoch: 25  \tLoss: 0.893700   Accuracy: 4686/6397 (73%\n",
      "\n",
      "Test set: Average loss: 0.0291, Accuracy: 613/1600 (38%)\n",
      "\n",
      "1.0637533962988822e-05\n"
     ]
    },
    {
     "data": {
      "application/vnd.jupyter.widget-view+json": {
       "model_id": "a5e91a64dfad4fa0b1570ff9def7fd4f",
       "version_major": 2,
       "version_minor": 0
      },
      "text/plain": [
       "  0%|          | 0/100 [00:00<?, ?it/s]"
      ]
     },
     "metadata": {},
     "output_type": "display_data"
    },
    {
     "name": "stdout",
     "output_type": "stream",
     "text": [
      "Train Epoch: 26  \tLoss: 0.797722   Accuracy: 4833/6397 (76%\n",
      "\n",
      "Test set: Average loss: 0.0291, Accuracy: 622/1600 (39%)\n",
      "\n",
      "6.917069361909408e-06\n"
     ]
    },
    {
     "data": {
      "application/vnd.jupyter.widget-view+json": {
       "model_id": "b4812f6129774ff79b365153413d4a44",
       "version_major": 2,
       "version_minor": 0
      },
      "text/plain": [
       "  0%|          | 0/100 [00:00<?, ?it/s]"
      ]
     },
     "metadata": {},
     "output_type": "display_data"
    },
    {
     "name": "stdout",
     "output_type": "stream",
     "text": [
      "Train Epoch: 27  \tLoss: 0.791040   Accuracy: 4905/6397 (77%\n",
      "\n",
      "Test set: Average loss: 0.0292, Accuracy: 613/1600 (38%)\n",
      "\n",
      "3.935626337523319e-06\n"
     ]
    },
    {
     "data": {
      "application/vnd.jupyter.widget-view+json": {
       "model_id": "2090f8c417b445878e245fa658950970",
       "version_major": 2,
       "version_minor": 0
      },
      "text/plain": [
       "  0%|          | 0/100 [00:00<?, ?it/s]"
      ]
     },
     "metadata": {},
     "output_type": "display_data"
    },
    {
     "name": "stdout",
     "output_type": "stream",
     "text": [
      "Train Epoch: 28  \tLoss: 0.898997   Accuracy: 4968/6397 (78%\n",
      "\n",
      "Test set: Average loss: 0.0292, Accuracy: 609/1600 (38%)\n",
      "\n",
      "1.7598054003090272e-06\n"
     ]
    },
    {
     "data": {
      "application/vnd.jupyter.widget-view+json": {
       "model_id": "e3762705176c438187a71b7a3b770e41",
       "version_major": 2,
       "version_minor": 0
      },
      "text/plain": [
       "  0%|          | 0/100 [00:00<?, ?it/s]"
      ]
     },
     "metadata": {},
     "output_type": "display_data"
    },
    {
     "name": "stdout",
     "output_type": "stream",
     "text": [
      "Train Epoch: 29  \tLoss: 0.750334   Accuracy: 4979/6397 (78%\n",
      "\n",
      "Test set: Average loss: 0.0292, Accuracy: 615/1600 (38%)\n",
      "\n",
      "4.382107945680432e-07\n"
     ]
    },
    {
     "data": {
      "application/vnd.jupyter.widget-view+json": {
       "model_id": "68e2d501b37246b4920336797e27e164",
       "version_major": 2,
       "version_minor": 0
      },
      "text/plain": [
       "  0%|          | 0/100 [00:00<?, ?it/s]"
      ]
     },
     "metadata": {},
     "output_type": "display_data"
    },
    {
     "name": "stdout",
     "output_type": "stream",
     "text": [
      "Train Epoch: 30  \tLoss: 0.792176   Accuracy: 4983/6397 (78%\n",
      "\n",
      "Test set: Average loss: 0.0291, Accuracy: 608/1600 (38%)\n",
      "\n",
      "3.647599232730588e-10\n"
     ]
    },
    {
     "data": {
      "image/png": "[encoded data removed]",
      "text/plain": [
       "<Figure size 432x288 with 1 Axes>"
      ]
     },
     "metadata": {
      "needs_background": "light"
     },
     "output_type": "display_data"
    },
    {
     "data": {
      "image/png": "[encoded data removed]",
      "text/plain": [
       "<Figure size 432x288 with 1 Axes>"
      ]
     },
     "metadata": {
      "needs_background": "light"
     },
     "output_type": "display_data"
    },
    {
     "data": {
      "application/vnd.jupyter.widget-view+json": {
       "model_id": "35eb202f360f41c0a068159c2579d851",
       "version_major": 2,
       "version_minor": 0
      },
      "text/plain": [
       "  0%|          | 0/100 [00:00<?, ?it/s]"
      ]
     },
     "metadata": {},
     "output_type": "display_data"
    },
    {
     "name": "stdout",
     "output_type": "stream",
     "text": [
      "Train Epoch: 1  \tLoss: 2.046486   Accuracy: 1270/6397 (20%\n",
      "\n",
      "Test set: Average loss: 0.0315, Accuracy: 342/1600 (21%)\n",
      "\n",
      "5.520905616820604e-06\n"
     ]
    },
    {
     "data": {
      "application/vnd.jupyter.widget-view+json": {
       "model_id": "1ca8de4031674fcbba2ba5e23e992eb6",
       "version_major": 2,
       "version_minor": 0
      },
      "text/plain": [
       "  0%|          | 0/100 [00:00<?, ?it/s]"
      ]
     },
     "metadata": {},
     "output_type": "display_data"
    },
    {
     "name": "stdout",
     "output_type": "stream",
     "text": [
      "Train Epoch: 2  \tLoss: 1.928176   Accuracy: 1701/6397 (27%\n",
      "\n",
      "Test set: Average loss: 0.0309, Accuracy: 380/1600 (24%)\n",
      "\n",
      "1.220307023383507e-05\n"
     ]
    },
    {
     "data": {
      "application/vnd.jupyter.widget-view+json": {
       "model_id": "d8456b5aa8824e3898883de20454acdf",
       "version_major": 2,
       "version_minor": 0
      },
      "text/plain": [
       "  0%|          | 0/100 [00:00<?, ?it/s]"
      ]
     },
     "metadata": {},
     "output_type": "display_data"
    },
    {
     "name": "stdout",
     "output_type": "stream",
     "text": [
      "Train Epoch: 3  \tLoss: 1.932007   Accuracy: 1945/6397 (30%\n",
      "\n",
      "Test set: Average loss: 0.0303, Accuracy: 435/1600 (27%)\n",
      "\n",
      "2.243875044520231e-05\n"
     ]
    },
    {
     "data": {
      "application/vnd.jupyter.widget-view+json": {
       "model_id": "24ba5820aaf64d18a9f3ccaafd4d2c33",
       "version_major": 2,
       "version_minor": 0
      },
      "text/plain": [
       "  0%|          | 0/100 [00:00<?, ?it/s]"
      ]
     },
     "metadata": {},
     "output_type": "display_data"
    },
    {
     "name": "stdout",
     "output_type": "stream",
     "text": [
      "Train Epoch: 4  \tLoss: 1.786031   Accuracy: 2147/6397 (34%\n",
      "\n",
      "Test set: Average loss: 0.0297, Accuracy: 462/1600 (29%)\n",
      "\n",
      "3.499065210016493e-05\n"
     ]
    },
    {
     "data": {
      "application/vnd.jupyter.widget-view+json": {
       "model_id": "fe1ab14d3a364141882728c45fceceea",
       "version_major": 2,
       "version_minor": 0
      },
      "text/plain": [
       "  0%|          | 0/100 [00:00<?, ?it/s]"
      ]
     },
     "metadata": {},
     "output_type": "display_data"
    },
    {
     "name": "stdout",
     "output_type": "stream",
     "text": [
      "Train Epoch: 5  \tLoss: 1.783168   Accuracy: 2214/6397 (35%\n",
      "\n",
      "Test set: Average loss: 0.0296, Accuracy: 469/1600 (29%)\n",
      "\n",
      "4.834149503972384e-05\n"
     ]
    },
    {
     "data": {
      "application/vnd.jupyter.widget-view+json": {
       "model_id": "a8fdbefe2d384cc483f0570c4c506ec2",
       "version_major": 2,
       "version_minor": 0
      },
      "text/plain": [
       "  0%|          | 0/100 [00:00<?, ?it/s]"
      ]
     },
     "metadata": {},
     "output_type": "display_data"
    },
    {
     "name": "stdout",
     "output_type": "stream",
     "text": [
      "Train Epoch: 6  \tLoss: 1.635981   Accuracy: 2344/6397 (37%\n",
      "\n",
      "Test set: Average loss: 0.0291, Accuracy: 482/1600 (30%)\n",
      "\n",
      "6.087742268222736e-05\n"
     ]
    },
    {
     "data": {
      "application/vnd.jupyter.widget-view+json": {
       "model_id": "eeba07471728475cb5aba51f8f4ea0fe",
       "version_major": 2,
       "version_minor": 0
      },
      "text/plain": [
       "  0%|          | 0/100 [00:00<?, ?it/s]"
      ]
     },
     "metadata": {},
     "output_type": "display_data"
    },
    {
     "name": "stdout",
     "output_type": "stream",
     "text": [
      "Train Epoch: 7  \tLoss: 1.700808   Accuracy: 2445/6397 (38%\n",
      "\n",
      "Test set: Average loss: 0.0286, Accuracy: 529/1600 (33%)\n",
      "\n",
      "7.108308581530347e-05\n"
     ]
    },
    {
     "data": {
      "application/vnd.jupyter.widget-view+json": {
       "model_id": "11b5668d15174f1a93696657cd3e2146",
       "version_major": 2,
       "version_minor": 0
      },
      "text/plain": [
       "  0%|          | 0/100 [00:00<?, ?it/s]"
      ]
     },
     "metadata": {},
     "output_type": "display_data"
    },
    {
     "name": "stdout",
     "output_type": "stream",
     "text": [
      "Train Epoch: 8  \tLoss: 1.683761   Accuracy: 2621/6397 (41%\n",
      "\n",
      "Test set: Average loss: 0.0293, Accuracy: 508/1600 (32%)\n",
      "\n",
      "7.772481876765342e-05\n"
     ]
    },
    {
     "data": {
      "application/vnd.jupyter.widget-view+json": {
       "model_id": "8230710a681a42fbac56885d736bf8ac",
       "version_major": 2,
       "version_minor": 0
      },
      "text/plain": [
       "  0%|          | 0/100 [00:00<?, ?it/s]"
      ]
     },
     "metadata": {},
     "output_type": "display_data"
    },
    {
     "name": "stdout",
     "output_type": "stream",
     "text": [
      "Train Epoch: 9  \tLoss: 1.445233   Accuracy: 2697/6397 (42%\n",
      "\n",
      "Test set: Average loss: 0.0290, Accuracy: 510/1600 (32%)\n",
      "\n",
      "7.999995524007674e-05\n"
     ]
    },
    {
     "data": {
      "application/vnd.jupyter.widget-view+json": {
       "model_id": "decfc1e9aad44fbd890574e6bf81b1a7",
       "version_major": 2,
       "version_minor": 0
      },
      "text/plain": [
       "  0%|          | 0/100 [00:00<?, ?it/s]"
      ]
     },
     "metadata": {},
     "output_type": "display_data"
    },
    {
     "name": "stdout",
     "output_type": "stream",
     "text": [
      "Train Epoch: 10  \tLoss: 1.620163   Accuracy: 2808/6397 (44%\n",
      "\n",
      "Test set: Average loss: 0.0286, Accuracy: 531/1600 (33%)\n",
      "\n",
      "7.954427194673012e-05\n"
     ]
    },
    {
     "data": {
      "application/vnd.jupyter.widget-view+json": {
       "model_id": "02279bd2151c4362a39b79c8cd0c5bef",
       "version_major": 2,
       "version_minor": 0
      },
      "text/plain": [
       "  0%|          | 0/100 [00:00<?, ?it/s]"
      ]
     },
     "metadata": {},
     "output_type": "display_data"
    },
    {
     "name": "stdout",
     "output_type": "stream",
     "text": [
      "Train Epoch: 11  \tLoss: 1.517725   Accuracy: 2945/6397 (46%\n",
      "\n",
      "Test set: Average loss: 0.0281, Accuracy: 550/1600 (34%)\n",
      "\n",
      "7.820523853717149e-05\n"
     ]
    },
    {
     "data": {
      "application/vnd.jupyter.widget-view+json": {
       "model_id": "1c230eda29644ff8886f5f30a2a1b816",
       "version_major": 2,
       "version_minor": 0
      },
      "text/plain": [
       "  0%|          | 0/100 [00:00<?, ?it/s]"
      ]
     },
     "metadata": {},
     "output_type": "display_data"
    },
    {
     "name": "stdout",
     "output_type": "stream",
     "text": [
      "Train Epoch: 12  \tLoss: 1.508888   Accuracy: 2995/6397 (47%\n",
      "\n",
      "Test set: Average loss: 0.0290, Accuracy: 547/1600 (34%)\n",
      "\n",
      "7.601276680508433e-05\n"
     ]
    },
    {
     "data": {
      "application/vnd.jupyter.widget-view+json": {
       "model_id": "bd5c9b5a14984212883b74234a228e1a",
       "version_major": 2,
       "version_minor": 0
      },
      "text/plain": [
       "  0%|          | 0/100 [00:00<?, ?it/s]"
      ]
     },
     "metadata": {},
     "output_type": "display_data"
    },
    {
     "name": "stdout",
     "output_type": "stream",
     "text": [
      "Train Epoch: 13  \tLoss: 1.552450   Accuracy: 3035/6397 (47%\n",
      "\n",
      "Test set: Average loss: 0.0284, Accuracy: 566/1600 (35%)\n",
      "\n",
      "7.301583294601294e-05\n"
     ]
    },
    {
     "data": {
      "application/vnd.jupyter.widget-view+json": {
       "model_id": "b78199768882471294c768b62aad02b1",
       "version_major": 2,
       "version_minor": 0
      },
      "text/plain": [
       "  0%|          | 0/100 [00:00<?, ?it/s]"
      ]
     },
     "metadata": {},
     "output_type": "display_data"
    },
    {
     "name": "stdout",
     "output_type": "stream",
     "text": [
      "Train Epoch: 14  \tLoss: 1.431771   Accuracy: 3108/6397 (49%\n",
      "\n",
      "Test set: Average loss: 0.0289, Accuracy: 534/1600 (33%)\n",
      "\n",
      "6.928138351008487e-05\n"
     ]
    },
    {
     "data": {
      "application/vnd.jupyter.widget-view+json": {
       "model_id": "42e8ca82f0734e3a9adee5d96c5d3714",
       "version_major": 2,
       "version_minor": 0
      },
      "text/plain": [
       "  0%|          | 0/100 [00:00<?, ?it/s]"
      ]
     },
     "metadata": {},
     "output_type": "display_data"
    },
    {
     "name": "stdout",
     "output_type": "stream",
     "text": [
      "Train Epoch: 15  \tLoss: 1.249275   Accuracy: 3156/6397 (49%\n",
      "\n",
      "Test set: Average loss: 0.0288, Accuracy: 545/1600 (34%)\n",
      "\n",
      "6.489283992670681e-05\n"
     ]
    },
    {
     "data": {
      "application/vnd.jupyter.widget-view+json": {
       "model_id": "09dcabaabdbd4641ada0a226e88fd16d",
       "version_major": 2,
       "version_minor": 0
      },
      "text/plain": [
       "  0%|          | 0/100 [00:00<?, ?it/s]"
      ]
     },
     "metadata": {},
     "output_type": "display_data"
    },
    {
     "name": "stdout",
     "output_type": "stream",
     "text": [
      "Train Epoch: 16  \tLoss: 1.326422   Accuracy: 3191/6397 (50%\n",
      "\n",
      "Test set: Average loss: 0.0284, Accuracy: 560/1600 (35%)\n",
      "\n",
      "5.994823500768149e-05\n"
     ]
    },
    {
     "data": {
      "application/vnd.jupyter.widget-view+json": {
       "model_id": "1060de663baa404e841aa040e2b6c18c",
       "version_major": 2,
       "version_minor": 0
      },
      "text/plain": [
       "  0%|          | 0/100 [00:00<?, ?it/s]"
      ]
     },
     "metadata": {},
     "output_type": "display_data"
    },
    {
     "name": "stdout",
     "output_type": "stream",
     "text": [
      "Train Epoch: 17  \tLoss: 1.293895   Accuracy: 3299/6397 (52%\n",
      "\n",
      "Test set: Average loss: 0.0282, Accuracy: 568/1600 (36%)\n",
      "\n",
      "5.455802305618624e-05\n"
     ]
    },
    {
     "data": {
      "application/vnd.jupyter.widget-view+json": {
       "model_id": "32538142a0f44b98ba9b8b253216752d",
       "version_major": 2,
       "version_minor": 0
      },
      "text/plain": [
       "  0%|          | 0/100 [00:00<?, ?it/s]"
      ]
     },
     "metadata": {},
     "output_type": "display_data"
    },
    {
     "name": "stdout",
     "output_type": "stream",
     "text": [
      "Train Epoch: 18  \tLoss: 1.263995   Accuracy: 3327/6397 (52%\n",
      "\n",
      "Test set: Average loss: 0.0286, Accuracy: 552/1600 (34%)\n",
      "\n",
      "4.884261250016032e-05\n"
     ]
    },
    {
     "data": {
      "application/vnd.jupyter.widget-view+json": {
       "model_id": "94af27511c4c462bb84b528a473b676f",
       "version_major": 2,
       "version_minor": 0
      },
      "text/plain": [
       "  0%|          | 0/100 [00:00<?, ?it/s]"
      ]
     },
     "metadata": {},
     "output_type": "display_data"
    },
    {
     "name": "stdout",
     "output_type": "stream",
     "text": [
      "Train Epoch: 19  \tLoss: 1.567400   Accuracy: 3393/6397 (53%\n",
      "\n",
      "Test set: Average loss: 0.0286, Accuracy: 571/1600 (36%)\n",
      "\n",
      "4.2929676166993736e-05\n"
     ]
    },
    {
     "data": {
      "application/vnd.jupyter.widget-view+json": {
       "model_id": "4dd13105994146a69068cd2e9bf0d515",
       "version_major": 2,
       "version_minor": 0
      },
      "text/plain": [
       "  0%|          | 0/100 [00:00<?, ?it/s]"
      ]
     },
     "metadata": {},
     "output_type": "display_data"
    },
    {
     "name": "stdout",
     "output_type": "stream",
     "text": [
      "Train Epoch: 20  \tLoss: 1.371740   Accuracy: 3499/6397 (55%\n",
      "\n",
      "Test set: Average loss: 0.0285, Accuracy: 590/1600 (37%)\n",
      "\n",
      "3.6951299283536267e-05\n"
     ]
    },
    {
     "data": {
      "application/vnd.jupyter.widget-view+json": {
       "model_id": "ba10ef993eb14d1794b7553d5ce8ee86",
       "version_major": 2,
       "version_minor": 0
      },
      "text/plain": [
       "  0%|          | 0/100 [00:00<?, ?it/s]"
      ]
     },
     "metadata": {},
     "output_type": "display_data"
    },
    {
     "name": "stdout",
     "output_type": "stream",
     "text": [
      "Train Epoch: 21  \tLoss: 1.322532   Accuracy: 3576/6397 (56%\n",
      "\n",
      "Test set: Average loss: 0.0286, Accuracy: 558/1600 (35%)\n",
      "\n",
      "3.10410289103939e-05\n"
     ]
    },
    {
     "data": {
      "application/vnd.jupyter.widget-view+json": {
       "model_id": "13bf865549e34ce486b1e482deb4294e",
       "version_major": 2,
       "version_minor": 0
      },
      "text/plain": [
       "  0%|          | 0/100 [00:00<?, ?it/s]"
      ]
     },
     "metadata": {},
     "output_type": "display_data"
    },
    {
     "name": "stdout",
     "output_type": "stream",
     "text": [
      "Train Epoch: 22  \tLoss: 1.582392   Accuracy: 3653/6397 (57%\n",
      "\n",
      "Test set: Average loss: 0.0292, Accuracy: 561/1600 (35%)\n",
      "\n",
      "2.5330890721274868e-05\n"
     ]
    },
    {
     "data": {
      "application/vnd.jupyter.widget-view+json": {
       "model_id": "e9221965a16844f0bb9d2d3aacae542b",
       "version_major": 2,
       "version_minor": 0
      },
      "text/plain": [
       "  0%|          | 0/100 [00:00<?, ?it/s]"
      ]
     },
     "metadata": {},
     "output_type": "display_data"
    },
    {
     "name": "stdout",
     "output_type": "stream",
     "text": [
      "Train Epoch: 23  \tLoss: 1.165905   Accuracy: 3754/6397 (59%\n",
      "\n",
      "Test set: Average loss: 0.0284, Accuracy: 560/1600 (35%)\n",
      "\n",
      "1.9948439767604767e-05\n"
     ]
    },
    {
     "data": {
      "application/vnd.jupyter.widget-view+json": {
       "model_id": "ded3f481267f440abd4773f79c3f54b9",
       "version_major": 2,
       "version_minor": 0
      },
      "text/plain": [
       "  0%|          | 0/100 [00:00<?, ?it/s]"
      ]
     },
     "metadata": {},
     "output_type": "display_data"
    },
    {
     "name": "stdout",
     "output_type": "stream",
     "text": [
      "Train Epoch: 24  \tLoss: 1.351358   Accuracy: 3839/6397 (60%\n",
      "\n",
      "Test set: Average loss: 0.0286, Accuracy: 578/1600 (36%)\n",
      "\n",
      "1.5013911109456122e-05\n"
     ]
    },
    {
     "data": {
      "application/vnd.jupyter.widget-view+json": {
       "model_id": "d112388ac6d0480188f0a9ef7e97cf3c",
       "version_major": 2,
       "version_minor": 0
      },
      "text/plain": [
       "  0%|          | 0/100 [00:00<?, ?it/s]"
      ]
     },
     "metadata": {},
     "output_type": "display_data"
    },
    {
     "name": "stdout",
     "output_type": "stream",
     "text": [
      "Train Epoch: 25  \tLoss: 1.245850   Accuracy: 3869/6397 (60%\n",
      "\n",
      "Test set: Average loss: 0.0287, Accuracy: 578/1600 (36%)\n",
      "\n",
      "1.0637533962988822e-05\n"
     ]
    },
    {
     "data": {
      "application/vnd.jupyter.widget-view+json": {
       "model_id": "030c7ad75af747b388a2c41f373b101e",
       "version_major": 2,
       "version_minor": 0
      },
      "text/plain": [
       "  0%|          | 0/100 [00:00<?, ?it/s]"
      ]
     },
     "metadata": {},
     "output_type": "display_data"
    },
    {
     "name": "stdout",
     "output_type": "stream",
     "text": [
      "Train Epoch: 26  \tLoss: 1.083163   Accuracy: 3948/6397 (62%\n",
      "\n",
      "Test set: Average loss: 0.0288, Accuracy: 577/1600 (36%)\n",
      "\n",
      "6.917069361909408e-06\n"
     ]
    },
    {
     "data": {
      "application/vnd.jupyter.widget-view+json": {
       "model_id": "b428046248f54422b26befca091d397a",
       "version_major": 2,
       "version_minor": 0
      },
      "text/plain": [
       "  0%|          | 0/100 [00:00<?, ?it/s]"
      ]
     },
     "metadata": {},
     "output_type": "display_data"
    },
    {
     "name": "stdout",
     "output_type": "stream",
     "text": [
      "Train Epoch: 27  \tLoss: 1.033877   Accuracy: 3981/6397 (62%\n",
      "\n",
      "Test set: Average loss: 0.0286, Accuracy: 580/1600 (36%)\n",
      "\n",
      "3.935626337523319e-06\n"
     ]
    },
    {
     "data": {
      "application/vnd.jupyter.widget-view+json": {
       "model_id": "894f46012bb1408fadd49f4b51e0416a",
       "version_major": 2,
       "version_minor": 0
      },
      "text/plain": [
       "  0%|          | 0/100 [00:00<?, ?it/s]"
      ]
     },
     "metadata": {},
     "output_type": "display_data"
    },
    {
     "name": "stdout",
     "output_type": "stream",
     "text": [
      "Train Epoch: 28  \tLoss: 0.956302   Accuracy: 4054/6397 (63%\n",
      "\n",
      "Test set: Average loss: 0.0288, Accuracy: 570/1600 (36%)\n",
      "\n",
      "1.7598054003090272e-06\n"
     ]
    },
    {
     "data": {
      "application/vnd.jupyter.widget-view+json": {
       "model_id": "5feaf68a73d646e3be0c4eea9d17daed",
       "version_major": 2,
       "version_minor": 0
      },
      "text/plain": [
       "  0%|          | 0/100 [00:00<?, ?it/s]"
      ]
     },
     "metadata": {},
     "output_type": "display_data"
    },
    {
     "name": "stdout",
     "output_type": "stream",
     "text": [
      "Train Epoch: 29  \tLoss: 1.184106   Accuracy: 4084/6397 (64%\n",
      "\n",
      "Test set: Average loss: 0.0285, Accuracy: 577/1600 (36%)\n",
      "\n",
      "4.382107945680432e-07\n"
     ]
    },
    {
     "data": {
      "application/vnd.jupyter.widget-view+json": {
       "model_id": "160c4268bde7411da66fbd4894a52700",
       "version_major": 2,
       "version_minor": 0
      },
      "text/plain": [
       "  0%|          | 0/100 [00:00<?, ?it/s]"
      ]
     },
     "metadata": {},
     "output_type": "display_data"
    },
    {
     "name": "stdout",
     "output_type": "stream",
     "text": [
      "Train Epoch: 30  \tLoss: 0.899898   Accuracy: 4088/6397 (64%\n",
      "\n",
      "Test set: Average loss: 0.0287, Accuracy: 577/1600 (36%)\n",
      "\n",
      "3.647599232730588e-10\n"
     ]
    },
    {
     "data": {
      "image/png": "[encoded data removed]",
      "text/plain": [
       "<Figure size 432x288 with 1 Axes>"
      ]
     },
     "metadata": {
      "needs_background": "light"
     },
     "output_type": "display_data"
    },
    {
     "data": {
      "image/png": "[encoded data removed]",
      "text/plain": [
       "<Figure size 432x288 with 1 Axes>"
      ]
     },
     "metadata": {
      "needs_background": "light"
     },
     "output_type": "display_data"
    }
   ],
   "source": [
    "# model.res.fc[2].p=0.0\n",
    "# model.res.fc[5].p=0.0\n",
    "#model.unfreeze\n",
    "# amp_db=transforms.AmplitudeToDB()\n",
    "architecture_name=\"dense net\"\n",
    "#architecture_name=\"conv1d\" #pour resnet \n",
    "\n",
    "for i in range(3):\n",
    "    if i==0:\n",
    "        name_mod=architecture_name+\" mel db \"\n",
    "    if i==1:\n",
    "        name_mod=architecture_name+\" mfcc db \"\n",
    "    if i==2:\n",
    "        name_mod=architecture_name+\" spec db\"\n",
    "    index = i\n",
    "    \n",
    "    spectro_like=[mel_spectrogram,mfcc_transform,spectrogram]\n",
    "    spectro_like=[spectro_like[index]]\n",
    "    spectro_like_device=[i.to(device) for i in spectro_like]\n",
    "\n",
    "    normalize_spec = T.Normalize(mean=[[12.6111, -0.0646,  7.8345][index]],\n",
    "                            std=[[138.5886,   4.2762, 112.3290][index]])\n",
    "    normalize_spec_db = T.Normalize(mean=[[-13.8637, -53.9947, -21.2606][index]],\n",
    "                            std=[[19.2690, 49.1503, 22.0783][index]])\n",
    "    transform_train = T.Compose([             \n",
    "           # transforms.TimeStretch(fixed_rate =1.2),\n",
    "            normalize_spec,\n",
    "            transforms.TimeMasking(time_mask_param=20),\n",
    "            #transforms.FrequencyMasking(freq_mask_param=30),\n",
    "            #T.RandomHorizontalFlip(),\n",
    "            #T.Resize((image_size,image_size))\n",
    "                           ])\n",
    "    transform_test = T.Compose([       \n",
    "            normalize_spec ])\n",
    "\n",
    "    transform_train_db = T.Compose([  amp_db,           \n",
    "            normalize_spec_db,\n",
    "            transforms.TimeMasking(time_mask_param=20),\n",
    "            #transforms.FrequencyMasking(freq_mask_param=30),\n",
    "            #T.RandomHorizontalFlip(),\n",
    "            #T.Resize((image_size,image_size))\n",
    "                           ])\n",
    "    transform_test_db = T.Compose([ amp_db,           \n",
    "            normalize_spec_db])\n",
    "    \n",
    "    torch.cuda.empty_cache()\n",
    "    criterion = nn.CrossEntropyLoss()\n",
    "    grad_clip = 0.1\n",
    "    weight_decay = 1e-5\n",
    "    model=Net_res_mel(spectro_like_device,transform_train_db,transform_test_db).to(device)# transform_train,transform_test \n",
    "    optimizer = optim.Adam(model.parameters(), lr=0.001,weight_decay=weight_decay)\n",
    "    Train_loss=[]\n",
    "    Test_loss=[]\n",
    "    Train_correct=[]\n",
    "    Test_correct=[]\n",
    "    best_model=35\n",
    "    epochs=30\n",
    "    scheduler = torch.optim.lr_scheduler.OneCycleLR(optimizer, max_lr=0.8e-4, steps_per_epoch=len(trainloader), epochs=epochs)\n",
    "    for epoch in range(1, epochs + 1):\n",
    "        train_loss,correct_train=train(model, device, trainloader, criterion, optimizer, epoch,scheduler,log_interval=100,grad_clip=grad_clip)\n",
    "        test_loss,correct_test=test(model, device, testloader,criterion)\n",
    "        Train_loss.append(train_loss)\n",
    "        Test_loss.append(test_loss)\n",
    "        Train_correct.append(correct_train)\n",
    "        Test_correct.append(correct_test)\n",
    "        print(optimizer.param_groups[0]['lr'])\n",
    "        #save model\n",
    "        if correct_test>best_model:\n",
    "            best_model=correct_test\n",
    "            path=\"model_save/resnet_\"+name_mod+\"_specl.pth\"\n",
    "            torch.save(model.state_dict(), path)\n",
    "        \n",
    "    plt.plot(Train_loss)\n",
    "    plt.plot(Test_loss)\n",
    "    plt.legend([\"train\",\"test\"])\n",
    "    plt.title(\"CrossEntropyLoss \"+name_mod)\n",
    "    plt.xlabel(\"epochs\")\n",
    "    plt.savefig('loss_'+name_mod+' _spectro_all_spectr.png')\n",
    "    plt.show()\n",
    "\n",
    "    plt.plot(Train_correct)\n",
    "    plt.plot(Test_correct)\n",
    "    plt.legend([\"train\",\"test\"])\n",
    "    plt.title(name_mod+ \" accuracy % , max acc = \"+str(max(Test_correct)))\n",
    "    plt.xlabel(\"epochs\")\n",
    "    plt.savefig('accuracy_ '+name_mod+' _spectro_all_spectr.png')\n",
    "\n",
    "\n",
    "    plt.show()"
   ]
  },
  {
   "cell_type": "code",
   "execution_count": 26,
   "metadata": {
    "ExecuteTime": {
     "end_time": "2021-04-01T15:30:32.178928Z",
     "start_time": "2021-04-01T15:30:32.118981Z"
    }
   },
   "outputs": [],
   "source": [
    "model = Net_res_mel(spectro_like,transform_train,transform_test).to(device)\n"
   ]
  },
  {
   "cell_type": "code",
   "execution_count": null,
   "metadata": {
    "ExecuteTime": {
     "end_time": "2021-04-01T13:58:59.085053Z",
     "start_time": "2021-04-01T13:58:50.675Z"
    },
    "scrolled": true
   },
   "outputs": [],
   "source": [
    "# model.res.fc[2].p=0.0\n",
    "# model.res.fc[5].p=0.0\n",
    "#model.unfreeze()\n",
    "torch.cuda.empty_cache()\n",
    "criterion = nn.CrossEntropyLoss()\n",
    "grad_clip = 0.1\n",
    "weight_decay = 1e-6\n",
    "model=Net_res_mel(spectro_like_device,transform_train_db,transform_test_db).to(device)\n",
    "optimizer = optim.Adam(model.parameters(), lr=0.001,weight_decay=0)\n",
    "Train_loss=[]\n",
    "Test_loss=[]\n",
    "Train_correct=[]\n",
    "Test_correct=[]\n",
    "epochs=10\n",
    "scheduler = torch.optim.lr_scheduler.OneCycleLR(optimizer, max_lr=1e-4, steps_per_epoch=len(trainloader), epochs=epochs)\n",
    "for epoch in range(1, epochs + 1):\n",
    "    train_loss,correct_train=train(model, device, trainloader, criterion, optimizer, epoch,scheduler,log_interval=100,grad_clip=grad_clip)\n",
    "    test_loss,correct_test=test(model, device, testloader,criterion)\n",
    "    Train_loss.append(train_loss)\n",
    "    Test_loss.append(test_loss)\n",
    "    Train_correct.append(correct_train)\n",
    "    Test_correct.append(correct_test)\n",
    "    print(optimizer.param_groups[0]['lr'])\n",
    "\n",
    "name_mod=\"conv1d mfcc db\"\n",
    "plt.plot(Train_loss)\n",
    "plt.plot(Test_loss)\n",
    "plt.legend([\"train\",\"test\"])\n",
    "plt.title(\"CrossEntropyLoss \"+name_mod)\n",
    "plt.xlabel(\"epochs\")\n",
    "plt.savefig('loss_'+name_mod+' _spectro_all_spectr.png')\n",
    "plt.show()\n",
    "\n",
    "plt.plot(Train_correct)\n",
    "plt.plot(Test_correct)\n",
    "plt.legend([\"train\",\"test\"])\n",
    "plt.title(name_mod+ \" accuracy %, max acc = \"+str(max(Test_correct)))\n",
    "plt.xlabel(\"epochs\")\n",
    "plt.savefig('accuracy_ '+name_mod+' _spectro_all_spectr.png')\n",
    "\n",
    "\n",
    "plt.show()"
   ]
  },
  {
   "cell_type": "markdown",
   "metadata": {},
   "source": [
    "### mix of spectro"
   ]
  },
  {
   "cell_type": "code",
   "execution_count": 88,
   "metadata": {
    "ExecuteTime": {
     "end_time": "2021-04-01T17:42:30.038659Z",
     "start_time": "2021-04-01T17:42:30.026660Z"
    }
   },
   "outputs": [],
   "source": [
    "class Res_Net_mix_spec(nn.Module):\n",
    "    def __init__(self,model):\n",
    "        super(Res_Net_mix_spec, self).__init__()\n",
    "        self.model=model\n",
    "        self.len_model=len(self.model)\n",
    "        if(self.len_model)==1:\n",
    "            print(\"use Net_res_mel\")\n",
    "        if(self.len_model)==2:\n",
    "            self.model1=self.model[0]\n",
    "            self.model2=self.model[1]\n",
    "            self.model=[self.model1,self.model2]\n",
    "        if(self.len_model)==3:\n",
    "            self.model1=self.model[0]\n",
    "            self.model2=self.model[1]\n",
    "            self.model3=self.model[2]\n",
    "            self.model=[self.model1,self.model2,self.model3]\n",
    "            \n",
    "        self.fc=nn.Sequential(nn.Dropout(p=0.5),nn.Linear(self.len_model*512, 1024),\n",
    "                             nn.ReLU(),nn.Dropout(p=0.5),nn.Linear(1024, 512),\n",
    "                              nn.ReLU(),nn.Dropout(p=0.5),nn.Linear(512,8))\n",
    "        #self.res.features[0]=nn.Sequential(nn.Linear(512, 512),nn.ReLU(),nn.Dropout(p=0.2),nn.Linear(512, 512),nn.ReLU(),nn.Dropout(p=0.2),nn.Linear(512,8))\n",
    "    \n",
    "    def freeze(self):\n",
    "        for i in self.model:\n",
    "            for param in i.parameters():\n",
    "                param.require_grad = False\n",
    "        for param in self.fc.parameters():\n",
    "            param.require_grad = True\n",
    "\n",
    "        \n",
    "    def unfreeze(self):\n",
    "        for i in self.model:\n",
    "            for param in i.parameters():\n",
    "                param.require_grad = True\n",
    "        for param in self.fc.parameters():\n",
    "            param.require_grad = True\n",
    "        \n",
    "    def forward(self, x):\n",
    "        out=torch.tensor([]).to(device)\n",
    "        for net in self.model:\n",
    "            x1=net(x)\n",
    "            \n",
    "            out=torch.cat((out,x1),1)\n",
    "        x=self.fc(out)\n",
    "        return x\n",
    "    \n",
    "# model=Res_Net_mix_spec([Net_res_mel(spectro_like_device,transform_train_db,transform_test_db).to(device),Net_res_mel(spectro_like_device,transform_train_db,transform_test_db).to(device)]).to(device)\n",
    "# summary(model, ([1,size_in]))"
   ]
  },
  {
   "cell_type": "code",
   "execution_count": 90,
   "metadata": {
    "ExecuteTime": {
     "end_time": "2021-04-01T18:08:59.904556Z",
     "start_time": "2021-04-01T17:43:57.136856Z"
    }
   },
   "outputs": [
    {
     "data": {
      "application/vnd.jupyter.widget-view+json": {
       "model_id": "4e32e374a4e042718b23c2e47554c74a",
       "version_major": 2,
       "version_minor": 0
      },
      "text/plain": [
       "  0%|          | 0/100 [00:00<?, ?it/s]"
      ]
     },
     "metadata": {},
     "output_type": "display_data"
    },
    {
     "name": "stdout",
     "output_type": "stream",
     "text": [
      "Train Epoch: 1  \tLoss: 2.078774   Accuracy: 851/6397 (13%\n",
      "\n",
      "Test set: Average loss: 0.0322, Accuracy: 274/1600 (17%)\n",
      "\n",
      "4.875566190304801e-06\n"
     ]
    },
    {
     "data": {
      "application/vnd.jupyter.widget-view+json": {
       "model_id": "ae753460cbc747658ecf4b94ef4c6542",
       "version_major": 2,
       "version_minor": 0
      },
      "text/plain": [
       "  0%|          | 0/100 [00:00<?, ?it/s]"
      ]
     },
     "metadata": {},
     "output_type": "display_data"
    },
    {
     "name": "stdout",
     "output_type": "stream",
     "text": [
      "Train Epoch: 2  \tLoss: 1.920445   Accuracy: 1528/6397 (24%\n",
      "\n",
      "Test set: Average loss: 0.0306, Accuracy: 633/1600 (40%)\n",
      "\n",
      "9.956142792969442e-06\n"
     ]
    },
    {
     "data": {
      "application/vnd.jupyter.widget-view+json": {
       "model_id": "700b50b497e44f8487cde36c04056383",
       "version_major": 2,
       "version_minor": 0
      },
      "text/plain": [
       "  0%|          | 0/100 [00:00<?, ?it/s]"
      ]
     },
     "metadata": {},
     "output_type": "display_data"
    },
    {
     "name": "stdout",
     "output_type": "stream",
     "text": [
      "Train Epoch: 3  \tLoss: 1.711776   Accuracy: 2762/6397 (43%\n",
      "\n",
      "Test set: Average loss: 0.0277, Accuracy: 632/1600 (40%)\n",
      "\n",
      "9.17286957714144e-06\n"
     ]
    },
    {
     "data": {
      "application/vnd.jupyter.widget-view+json": {
       "model_id": "d3171f3e14184c03a9fa89a5c73cefa9",
       "version_major": 2,
       "version_minor": 0
      },
      "text/plain": [
       "  0%|          | 0/100 [00:00<?, ?it/s]"
      ]
     },
     "metadata": {},
     "output_type": "display_data"
    },
    {
     "name": "stdout",
     "output_type": "stream",
     "text": [
      "Train Epoch: 4  \tLoss: 1.469973   Accuracy: 3336/6397 (52%\n",
      "\n",
      "Test set: Average loss: 0.0260, Accuracy: 644/1600 (40%)\n",
      "\n",
      "6.696718653961177e-06\n"
     ]
    },
    {
     "data": {
      "application/vnd.jupyter.widget-view+json": {
       "model_id": "d0d584002c6c4727af89622a14b5b79e",
       "version_major": 2,
       "version_minor": 0
      },
      "text/plain": [
       "  0%|          | 0/100 [00:00<?, ?it/s]"
      ]
     },
     "metadata": {},
     "output_type": "display_data"
    },
    {
     "name": "stdout",
     "output_type": "stream",
     "text": [
      "Train Epoch: 5  \tLoss: 1.327661   Accuracy: 3625/6397 (57%\n",
      "\n",
      "Test set: Average loss: 0.0256, Accuracy: 652/1600 (41%)\n",
      "\n",
      "3.546685249837587e-06\n"
     ]
    },
    {
     "data": {
      "application/vnd.jupyter.widget-view+json": {
       "model_id": "ec1f4c90667d41b4b370a6e47ef726af",
       "version_major": 2,
       "version_minor": 0
      },
      "text/plain": [
       "  0%|          | 0/100 [00:00<?, ?it/s]"
      ]
     },
     "metadata": {},
     "output_type": "display_data"
    },
    {
     "name": "stdout",
     "output_type": "stream",
     "text": [
      "Train Epoch: 6  \tLoss: 1.297597   Accuracy: 3708/6397 (58%\n",
      "\n",
      "Test set: Average loss: 0.0256, Accuracy: 655/1600 (41%)\n",
      "\n",
      "4.875566190304801e-06\n"
     ]
    },
    {
     "data": {
      "application/vnd.jupyter.widget-view+json": {
       "model_id": "b07ca49840a745b58cdbc4ee507d81e5",
       "version_major": 2,
       "version_minor": 0
      },
      "text/plain": [
       "  0%|          | 0/100 [00:00<?, ?it/s]"
      ]
     },
     "metadata": {},
     "output_type": "display_data"
    },
    {
     "name": "stdout",
     "output_type": "stream",
     "text": [
      "Train Epoch: 7  \tLoss: 1.210475   Accuracy: 3848/6397 (60%\n",
      "\n",
      "Test set: Average loss: 0.0260, Accuracy: 680/1600 (42%)\n",
      "\n",
      "9.956142792969442e-06\n"
     ]
    },
    {
     "data": {
      "application/vnd.jupyter.widget-view+json": {
       "model_id": "0433ea788eae4bea9d3353cd7e7c9e39",
       "version_major": 2,
       "version_minor": 0
      },
      "text/plain": [
       "  0%|          | 0/100 [00:00<?, ?it/s]"
      ]
     },
     "metadata": {},
     "output_type": "display_data"
    },
    {
     "name": "stdout",
     "output_type": "stream",
     "text": [
      "Train Epoch: 8  \tLoss: 0.977118   Accuracy: 4066/6397 (64%\n",
      "\n",
      "Test set: Average loss: 0.0268, Accuracy: 680/1600 (42%)\n",
      "\n",
      "9.17286957714144e-06\n"
     ]
    },
    {
     "data": {
      "application/vnd.jupyter.widget-view+json": {
       "model_id": "c99c812958384ad5af7c312404f11cb7",
       "version_major": 2,
       "version_minor": 0
      },
      "text/plain": [
       "  0%|          | 0/100 [00:00<?, ?it/s]"
      ]
     },
     "metadata": {},
     "output_type": "display_data"
    },
    {
     "name": "stdout",
     "output_type": "stream",
     "text": [
      "Train Epoch: 9  \tLoss: 0.937261   Accuracy: 4201/6397 (66%\n",
      "\n",
      "Test set: Average loss: 0.0274, Accuracy: 682/1600 (43%)\n",
      "\n",
      "6.696718653961177e-06\n"
     ]
    },
    {
     "data": {
      "application/vnd.jupyter.widget-view+json": {
       "model_id": "61a35becba5a4f72b90dbfb4bef409b8",
       "version_major": 2,
       "version_minor": 0
      },
      "text/plain": [
       "  0%|          | 0/100 [00:00<?, ?it/s]"
      ]
     },
     "metadata": {},
     "output_type": "display_data"
    },
    {
     "name": "stdout",
     "output_type": "stream",
     "text": [
      "Train Epoch: 10  \tLoss: 0.899600   Accuracy: 4356/6397 (68%\n",
      "\n",
      "Test set: Average loss: 0.0281, Accuracy: 671/1600 (42%)\n",
      "\n",
      "3.546685249837587e-06\n"
     ]
    },
    {
     "data": {
      "application/vnd.jupyter.widget-view+json": {
       "model_id": "e62191c57a8e4c3b82b974b8a695306a",
       "version_major": 2,
       "version_minor": 0
      },
      "text/plain": [
       "  0%|          | 0/100 [00:00<?, ?it/s]"
      ]
     },
     "metadata": {},
     "output_type": "display_data"
    },
    {
     "name": "stdout",
     "output_type": "stream",
     "text": [
      "Train Epoch: 11  \tLoss: 1.142604   Accuracy: 4392/6397 (69%\n",
      "\n",
      "Test set: Average loss: 0.0281, Accuracy: 671/1600 (42%)\n",
      "\n",
      "9.738768142103812e-07\n"
     ]
    },
    {
     "data": {
      "application/vnd.jupyter.widget-view+json": {
       "model_id": "55f646f4358a4d6496eb836b71005a47",
       "version_major": 2,
       "version_minor": 0
      },
      "text/plain": [
       "  0%|          | 0/100 [00:00<?, ?it/s]"
      ]
     },
     "metadata": {},
     "output_type": "display_data"
    },
    {
     "name": "stdout",
     "output_type": "stream",
     "text": [
      "Train Epoch: 12  \tLoss: 0.859557   Accuracy: 4385/6397 (69%\n",
      "\n",
      "Test set: Average loss: 0.0282, Accuracy: 667/1600 (42%)\n",
      "\n",
      "1.427647971089312e-10\n"
     ]
    },
    {
     "data": {
      "image/png": "[encoded data removed]",
      "text/plain": [
       "<Figure size 432x288 with 1 Axes>"
      ]
     },
     "metadata": {
      "needs_background": "light"
     },
     "output_type": "display_data"
    },
    {
     "data": {
      "image/png": "[encoded data removed]",
      "text/plain": [
       "<Figure size 432x288 with 1 Axes>"
      ]
     },
     "metadata": {
      "needs_background": "light"
     },
     "output_type": "display_data"
    },
    {
     "data": {
      "application/vnd.jupyter.widget-view+json": {
       "model_id": "09554d58f17e4e45a526876bc1f5f6ab",
       "version_major": 2,
       "version_minor": 0
      },
      "text/plain": [
       "  0%|          | 0/100 [00:00<?, ?it/s]"
      ]
     },
     "metadata": {},
     "output_type": "display_data"
    },
    {
     "name": "stdout",
     "output_type": "stream",
     "text": [
      "Train Epoch: 1  \tLoss: 2.062684   Accuracy: 890/6397 (14%\n",
      "\n",
      "Test set: Average loss: 0.0323, Accuracy: 225/1600 (14%)\n",
      "\n",
      "4.875566190304801e-06\n"
     ]
    },
    {
     "data": {
      "application/vnd.jupyter.widget-view+json": {
       "model_id": "4078b90f086a4869ab01a48046c159b3",
       "version_major": 2,
       "version_minor": 0
      },
      "text/plain": [
       "  0%|          | 0/100 [00:00<?, ?it/s]"
      ]
     },
     "metadata": {},
     "output_type": "display_data"
    },
    {
     "name": "stdout",
     "output_type": "stream",
     "text": [
      "Train Epoch: 2  \tLoss: 1.928865   Accuracy: 1341/6397 (21%\n",
      "\n",
      "Test set: Average loss: 0.0308, Accuracy: 583/1600 (36%)\n",
      "\n",
      "9.956142792969442e-06\n"
     ]
    },
    {
     "data": {
      "application/vnd.jupyter.widget-view+json": {
       "model_id": "3208819de9cf44809d006153e08512dd",
       "version_major": 2,
       "version_minor": 0
      },
      "text/plain": [
       "  0%|          | 0/100 [00:00<?, ?it/s]"
      ]
     },
     "metadata": {},
     "output_type": "display_data"
    },
    {
     "name": "stdout",
     "output_type": "stream",
     "text": [
      "Train Epoch: 3  \tLoss: 1.686105   Accuracy: 2632/6397 (41%\n",
      "\n",
      "Test set: Average loss: 0.0278, Accuracy: 628/1600 (39%)\n",
      "\n",
      "9.17286957714144e-06\n"
     ]
    },
    {
     "data": {
      "application/vnd.jupyter.widget-view+json": {
       "model_id": "bad1f823aed4400b9383ae36e111017e",
       "version_major": 2,
       "version_minor": 0
      },
      "text/plain": [
       "  0%|          | 0/100 [00:00<?, ?it/s]"
      ]
     },
     "metadata": {},
     "output_type": "display_data"
    },
    {
     "name": "stdout",
     "output_type": "stream",
     "text": [
      "Train Epoch: 4  \tLoss: 1.486384   Accuracy: 3413/6397 (53%\n",
      "\n",
      "Test set: Average loss: 0.0259, Accuracy: 657/1600 (41%)\n",
      "\n",
      "6.696718653961177e-06\n"
     ]
    },
    {
     "data": {
      "application/vnd.jupyter.widget-view+json": {
       "model_id": "11060500c4264ace9e112f7cd032228b",
       "version_major": 2,
       "version_minor": 0
      },
      "text/plain": [
       "  0%|          | 0/100 [00:00<?, ?it/s]"
      ]
     },
     "metadata": {},
     "output_type": "display_data"
    },
    {
     "name": "stdout",
     "output_type": "stream",
     "text": [
      "Train Epoch: 5  \tLoss: 1.336924   Accuracy: 3825/6397 (60%\n",
      "\n",
      "Test set: Average loss: 0.0253, Accuracy: 664/1600 (42%)\n",
      "\n",
      "3.546685249837587e-06\n"
     ]
    },
    {
     "data": {
      "application/vnd.jupyter.widget-view+json": {
       "model_id": "cae561d2816f449aae3daa9ee149c881",
       "version_major": 2,
       "version_minor": 0
      },
      "text/plain": [
       "  0%|          | 0/100 [00:00<?, ?it/s]"
      ]
     },
     "metadata": {},
     "output_type": "display_data"
    },
    {
     "name": "stdout",
     "output_type": "stream",
     "text": [
      "Train Epoch: 6  \tLoss: 1.287491   Accuracy: 3967/6397 (62%\n",
      "\n",
      "Test set: Average loss: 0.0253, Accuracy: 665/1600 (42%)\n",
      "\n",
      "4.875566190304801e-06\n"
     ]
    },
    {
     "data": {
      "application/vnd.jupyter.widget-view+json": {
       "model_id": "75333cfdc5fb48f7a482e1d59e3fe9b2",
       "version_major": 2,
       "version_minor": 0
      },
      "text/plain": [
       "  0%|          | 0/100 [00:00<?, ?it/s]"
      ]
     },
     "metadata": {},
     "output_type": "display_data"
    },
    {
     "name": "stdout",
     "output_type": "stream",
     "text": [
      "Train Epoch: 7  \tLoss: 1.165736   Accuracy: 4147/6397 (65%\n",
      "\n",
      "Test set: Average loss: 0.0259, Accuracy: 664/1600 (42%)\n",
      "\n",
      "9.956142792969442e-06\n"
     ]
    },
    {
     "data": {
      "application/vnd.jupyter.widget-view+json": {
       "model_id": "0ca0602293404bada253d70f85dc76f4",
       "version_major": 2,
       "version_minor": 0
      },
      "text/plain": [
       "  0%|          | 0/100 [00:00<?, ?it/s]"
      ]
     },
     "metadata": {},
     "output_type": "display_data"
    },
    {
     "name": "stdout",
     "output_type": "stream",
     "text": [
      "Train Epoch: 8  \tLoss: 0.860380   Accuracy: 4346/6397 (68%\n",
      "\n",
      "Test set: Average loss: 0.0273, Accuracy: 669/1600 (42%)\n",
      "\n",
      "9.17286957714144e-06\n"
     ]
    },
    {
     "data": {
      "application/vnd.jupyter.widget-view+json": {
       "model_id": "9c412c714b5840efb1ac37c1bd609c61",
       "version_major": 2,
       "version_minor": 0
      },
      "text/plain": [
       "  0%|          | 0/100 [00:00<?, ?it/s]"
      ]
     },
     "metadata": {},
     "output_type": "display_data"
    },
    {
     "name": "stdout",
     "output_type": "stream",
     "text": [
      "Train Epoch: 9  \tLoss: 0.828781   Accuracy: 4494/6397 (70%\n",
      "\n",
      "Test set: Average loss: 0.0283, Accuracy: 661/1600 (41%)\n",
      "\n",
      "6.696718653961177e-06\n"
     ]
    },
    {
     "data": {
      "application/vnd.jupyter.widget-view+json": {
       "model_id": "6097baedf6a2426fa2a274df2828b3f2",
       "version_major": 2,
       "version_minor": 0
      },
      "text/plain": [
       "  0%|          | 0/100 [00:00<?, ?it/s]"
      ]
     },
     "metadata": {},
     "output_type": "display_data"
    },
    {
     "name": "stdout",
     "output_type": "stream",
     "text": [
      "Train Epoch: 10  \tLoss: 0.840148   Accuracy: 4663/6397 (73%\n",
      "\n",
      "Test set: Average loss: 0.0290, Accuracy: 661/1600 (41%)\n",
      "\n",
      "3.546685249837587e-06\n"
     ]
    },
    {
     "data": {
      "application/vnd.jupyter.widget-view+json": {
       "model_id": "3f2706667da44bbea008fe80a4cf62a7",
       "version_major": 2,
       "version_minor": 0
      },
      "text/plain": [
       "  0%|          | 0/100 [00:00<?, ?it/s]"
      ]
     },
     "metadata": {},
     "output_type": "display_data"
    },
    {
     "name": "stdout",
     "output_type": "stream",
     "text": [
      "Train Epoch: 11  \tLoss: 0.631263   Accuracy: 4719/6397 (74%\n",
      "\n",
      "Test set: Average loss: 0.0292, Accuracy: 670/1600 (42%)\n",
      "\n",
      "9.738768142103812e-07\n"
     ]
    },
    {
     "data": {
      "application/vnd.jupyter.widget-view+json": {
       "model_id": "eb0c4c095b5847e682622b7b52366bee",
       "version_major": 2,
       "version_minor": 0
      },
      "text/plain": [
       "  0%|          | 0/100 [00:00<?, ?it/s]"
      ]
     },
     "metadata": {},
     "output_type": "display_data"
    },
    {
     "name": "stdout",
     "output_type": "stream",
     "text": [
      "Train Epoch: 12  \tLoss: 0.871644   Accuracy: 4758/6397 (74%\n",
      "\n",
      "Test set: Average loss: 0.0293, Accuracy: 667/1600 (42%)\n",
      "\n",
      "1.427647971089312e-10\n"
     ]
    },
    {
     "data": {
      "image/png": "[encoded data removed]",
      "text/plain": [
       "<Figure size 432x288 with 1 Axes>"
      ]
     },
     "metadata": {
      "needs_background": "light"
     },
     "output_type": "display_data"
    },
    {
     "data": {
      "image/png": "[encoded data removed]",
      "text/plain": [
       "<Figure size 432x288 with 1 Axes>"
      ]
     },
     "metadata": {
      "needs_background": "light"
     },
     "output_type": "display_data"
    },
    {
     "data": {
      "application/vnd.jupyter.widget-view+json": {
       "model_id": "c53cd999520f46bc8ac29063a16f8c8d",
       "version_major": 2,
       "version_minor": 0
      },
      "text/plain": [
       "  0%|          | 0/100 [00:00<?, ?it/s]"
      ]
     },
     "metadata": {},
     "output_type": "display_data"
    },
    {
     "name": "stdout",
     "output_type": "stream",
     "text": [
      "Train Epoch: 1  \tLoss: 2.001051   Accuracy: 850/6397 (13%\n",
      "\n",
      "Test set: Average loss: 0.0322, Accuracy: 315/1600 (20%)\n",
      "\n",
      "4.875566190304801e-06\n"
     ]
    },
    {
     "data": {
      "application/vnd.jupyter.widget-view+json": {
       "model_id": "4f6659e95f584c87a0ddd0c60909890a",
       "version_major": 2,
       "version_minor": 0
      },
      "text/plain": [
       "  0%|          | 0/100 [00:00<?, ?it/s]"
      ]
     },
     "metadata": {},
     "output_type": "display_data"
    },
    {
     "name": "stdout",
     "output_type": "stream",
     "text": [
      "Train Epoch: 2  \tLoss: 1.911423   Accuracy: 1471/6397 (23%\n",
      "\n",
      "Test set: Average loss: 0.0306, Accuracy: 591/1600 (37%)\n",
      "\n",
      "9.956142792969442e-06\n"
     ]
    },
    {
     "data": {
      "application/vnd.jupyter.widget-view+json": {
       "model_id": "8db0f6d36e7f43b49c625e89c01b80a3",
       "version_major": 2,
       "version_minor": 0
      },
      "text/plain": [
       "  0%|          | 0/100 [00:00<?, ?it/s]"
      ]
     },
     "metadata": {},
     "output_type": "display_data"
    },
    {
     "name": "stdout",
     "output_type": "stream",
     "text": [
      "Train Epoch: 3  \tLoss: 1.669723   Accuracy: 2760/6397 (43%\n",
      "\n",
      "Test set: Average loss: 0.0275, Accuracy: 627/1600 (39%)\n",
      "\n",
      "9.17286957714144e-06\n"
     ]
    },
    {
     "data": {
      "application/vnd.jupyter.widget-view+json": {
       "model_id": "75ffe2349345446796078fd349e577d3",
       "version_major": 2,
       "version_minor": 0
      },
      "text/plain": [
       "  0%|          | 0/100 [00:00<?, ?it/s]"
      ]
     },
     "metadata": {},
     "output_type": "display_data"
    },
    {
     "name": "stdout",
     "output_type": "stream",
     "text": [
      "Train Epoch: 4  \tLoss: 1.575285   Accuracy: 3295/6397 (52%\n",
      "\n",
      "Test set: Average loss: 0.0260, Accuracy: 644/1600 (40%)\n",
      "\n",
      "6.696718653961177e-06\n"
     ]
    },
    {
     "data": {
      "application/vnd.jupyter.widget-view+json": {
       "model_id": "8051ab97974145dcab580d2663494ecb",
       "version_major": 2,
       "version_minor": 0
      },
      "text/plain": [
       "  0%|          | 0/100 [00:00<?, ?it/s]"
      ]
     },
     "metadata": {},
     "output_type": "display_data"
    },
    {
     "name": "stdout",
     "output_type": "stream",
     "text": [
      "Train Epoch: 5  \tLoss: 1.489984   Accuracy: 3580/6397 (56%\n",
      "\n",
      "Test set: Average loss: 0.0257, Accuracy: 653/1600 (41%)\n",
      "\n",
      "3.546685249837587e-06\n"
     ]
    },
    {
     "data": {
      "application/vnd.jupyter.widget-view+json": {
       "model_id": "c9d0a6a31a6f49ec99d4cb5460289485",
       "version_major": 2,
       "version_minor": 0
      },
      "text/plain": [
       "  0%|          | 0/100 [00:00<?, ?it/s]"
      ]
     },
     "metadata": {},
     "output_type": "display_data"
    },
    {
     "name": "stdout",
     "output_type": "stream",
     "text": [
      "Train Epoch: 6  \tLoss: 1.233889   Accuracy: 3770/6397 (59%\n",
      "\n",
      "Test set: Average loss: 0.0259, Accuracy: 648/1600 (40%)\n",
      "\n",
      "4.875566190304801e-06\n"
     ]
    },
    {
     "data": {
      "application/vnd.jupyter.widget-view+json": {
       "model_id": "01e4793f7fe24d318bbdedb48628c56b",
       "version_major": 2,
       "version_minor": 0
      },
      "text/plain": [
       "  0%|          | 0/100 [00:00<?, ?it/s]"
      ]
     },
     "metadata": {},
     "output_type": "display_data"
    },
    {
     "name": "stdout",
     "output_type": "stream",
     "text": [
      "Train Epoch: 7  \tLoss: 1.522210   Accuracy: 3844/6397 (60%\n",
      "\n",
      "Test set: Average loss: 0.0263, Accuracy: 642/1600 (40%)\n",
      "\n",
      "9.956142792969442e-06\n"
     ]
    },
    {
     "data": {
      "application/vnd.jupyter.widget-view+json": {
       "model_id": "a1a017f4df0543b7af7a9e3340955df1",
       "version_major": 2,
       "version_minor": 0
      },
      "text/plain": [
       "  0%|          | 0/100 [00:00<?, ?it/s]"
      ]
     },
     "metadata": {},
     "output_type": "display_data"
    },
    {
     "name": "stdout",
     "output_type": "stream",
     "text": [
      "Train Epoch: 8  \tLoss: 1.035714   Accuracy: 4061/6397 (63%\n",
      "\n",
      "Test set: Average loss: 0.0273, Accuracy: 654/1600 (41%)\n",
      "\n",
      "9.17286957714144e-06\n"
     ]
    },
    {
     "data": {
      "application/vnd.jupyter.widget-view+json": {
       "model_id": "43c77c4c13ea41fb95244ec5aaddfac5",
       "version_major": 2,
       "version_minor": 0
      },
      "text/plain": [
       "  0%|          | 0/100 [00:00<?, ?it/s]"
      ]
     },
     "metadata": {},
     "output_type": "display_data"
    },
    {
     "name": "stdout",
     "output_type": "stream",
     "text": [
      "Train Epoch: 9  \tLoss: 1.039530   Accuracy: 4179/6397 (65%\n",
      "\n",
      "Test set: Average loss: 0.0284, Accuracy: 623/1600 (39%)\n",
      "\n",
      "6.696718653961177e-06\n"
     ]
    },
    {
     "data": {
      "application/vnd.jupyter.widget-view+json": {
       "model_id": "112a2ed27df0429faaba602219c2281d",
       "version_major": 2,
       "version_minor": 0
      },
      "text/plain": [
       "  0%|          | 0/100 [00:00<?, ?it/s]"
      ]
     },
     "metadata": {},
     "output_type": "display_data"
    },
    {
     "name": "stdout",
     "output_type": "stream",
     "text": [
      "Train Epoch: 10  \tLoss: 0.999162   Accuracy: 4351/6397 (68%\n",
      "\n",
      "Test set: Average loss: 0.0288, Accuracy: 648/1600 (40%)\n",
      "\n",
      "3.546685249837587e-06\n"
     ]
    },
    {
     "data": {
      "application/vnd.jupyter.widget-view+json": {
       "model_id": "9b506112fdd5414894ed1fd1daab359b",
       "version_major": 2,
       "version_minor": 0
      },
      "text/plain": [
       "  0%|          | 0/100 [00:00<?, ?it/s]"
      ]
     },
     "metadata": {},
     "output_type": "display_data"
    },
    {
     "name": "stdout",
     "output_type": "stream",
     "text": [
      "Train Epoch: 11  \tLoss: 1.112890   Accuracy: 4399/6397 (69%\n",
      "\n",
      "Test set: Average loss: 0.0291, Accuracy: 632/1600 (40%)\n",
      "\n",
      "9.738768142103812e-07\n"
     ]
    },
    {
     "data": {
      "application/vnd.jupyter.widget-view+json": {
       "model_id": "448ed8311d694a169e5e316757206f58",
       "version_major": 2,
       "version_minor": 0
      },
      "text/plain": [
       "  0%|          | 0/100 [00:00<?, ?it/s]"
      ]
     },
     "metadata": {},
     "output_type": "display_data"
    },
    {
     "name": "stdout",
     "output_type": "stream",
     "text": [
      "Train Epoch: 12  \tLoss: 0.899430   Accuracy: 4487/6397 (70%\n",
      "\n",
      "Test set: Average loss: 0.0290, Accuracy: 642/1600 (40%)\n",
      "\n",
      "1.427647971089312e-10\n"
     ]
    },
    {
     "data": {
      "image/png": "[encoded data removed]",
      "text/plain": [
       "<Figure size 432x288 with 1 Axes>"
      ]
     },
     "metadata": {
      "needs_background": "light"
     },
     "output_type": "display_data"
    },
    {
     "data": {
      "image/png": "[encoded data removed]",
      "text/plain": [
       "<Figure size 432x288 with 1 Axes>"
      ]
     },
     "metadata": {
      "needs_background": "light"
     },
     "output_type": "display_data"
    },
    {
     "data": {
      "application/vnd.jupyter.widget-view+json": {
       "model_id": "395803fd1b3f4830b83f5f990e763e3a",
       "version_major": 2,
       "version_minor": 0
      },
      "text/plain": [
       "  0%|          | 0/100 [00:00<?, ?it/s]"
      ]
     },
     "metadata": {},
     "output_type": "display_data"
    },
    {
     "name": "stdout",
     "output_type": "stream",
     "text": [
      "Train Epoch: 1  \tLoss: 2.051060   Accuracy: 852/6397 (13%\n",
      "\n",
      "Test set: Average loss: 0.0321, Accuracy: 333/1600 (21%)\n",
      "\n",
      "4.875566190304801e-06\n"
     ]
    },
    {
     "data": {
      "application/vnd.jupyter.widget-view+json": {
       "model_id": "5d10640297574ad9bf58136644993b58",
       "version_major": 2,
       "version_minor": 0
      },
      "text/plain": [
       "  0%|          | 0/100 [00:00<?, ?it/s]"
      ]
     },
     "metadata": {},
     "output_type": "display_data"
    },
    {
     "name": "stdout",
     "output_type": "stream",
     "text": [
      "Train Epoch: 2  \tLoss: 1.872036   Accuracy: 1717/6397 (27%\n",
      "\n",
      "Test set: Average loss: 0.0301, Accuracy: 681/1600 (43%)\n",
      "\n",
      "9.956142792969442e-06\n"
     ]
    },
    {
     "data": {
      "application/vnd.jupyter.widget-view+json": {
       "model_id": "2c1ee92e43ce4a618490a4eae9afc6cf",
       "version_major": 2,
       "version_minor": 0
      },
      "text/plain": [
       "  0%|          | 0/100 [00:00<?, ?it/s]"
      ]
     },
     "metadata": {},
     "output_type": "display_data"
    },
    {
     "name": "stdout",
     "output_type": "stream",
     "text": [
      "Train Epoch: 3  \tLoss: 1.612023   Accuracy: 3152/6397 (49%\n",
      "\n",
      "Test set: Average loss: 0.0265, Accuracy: 652/1600 (41%)\n",
      "\n",
      "9.17286957714144e-06\n"
     ]
    },
    {
     "data": {
      "application/vnd.jupyter.widget-view+json": {
       "model_id": "a0fbf94e0d2942e99b59bcfa8937fed6",
       "version_major": 2,
       "version_minor": 0
      },
      "text/plain": [
       "  0%|          | 0/100 [00:00<?, ?it/s]"
      ]
     },
     "metadata": {},
     "output_type": "display_data"
    },
    {
     "name": "stdout",
     "output_type": "stream",
     "text": [
      "Train Epoch: 4  \tLoss: 1.330041   Accuracy: 3648/6397 (57%\n",
      "\n",
      "Test set: Average loss: 0.0252, Accuracy: 674/1600 (42%)\n",
      "\n",
      "6.696718653961177e-06\n"
     ]
    },
    {
     "data": {
      "application/vnd.jupyter.widget-view+json": {
       "model_id": "c9f4057b78f54d999855e95f53374d92",
       "version_major": 2,
       "version_minor": 0
      },
      "text/plain": [
       "  0%|          | 0/100 [00:00<?, ?it/s]"
      ]
     },
     "metadata": {},
     "output_type": "display_data"
    },
    {
     "name": "stdout",
     "output_type": "stream",
     "text": [
      "Train Epoch: 5  \tLoss: 0.975425   Accuracy: 3965/6397 (62%\n",
      "\n",
      "Test set: Average loss: 0.0252, Accuracy: 680/1600 (42%)\n",
      "\n",
      "3.546685249837587e-06\n"
     ]
    },
    {
     "data": {
      "application/vnd.jupyter.widget-view+json": {
       "model_id": "1569b778c184416c8c2039f53e2d232d",
       "version_major": 2,
       "version_minor": 0
      },
      "text/plain": [
       "  0%|          | 0/100 [00:00<?, ?it/s]"
      ]
     },
     "metadata": {},
     "output_type": "display_data"
    },
    {
     "name": "stdout",
     "output_type": "stream",
     "text": [
      "Train Epoch: 6  \tLoss: 1.274900   Accuracy: 4044/6397 (63%\n",
      "\n",
      "Test set: Average loss: 0.0253, Accuracy: 680/1600 (42%)\n",
      "\n",
      "4.875566190304801e-06\n"
     ]
    },
    {
     "data": {
      "application/vnd.jupyter.widget-view+json": {
       "model_id": "51e113e160fd4d05ba4d7d6367cd0014",
       "version_major": 2,
       "version_minor": 0
      },
      "text/plain": [
       "  0%|          | 0/100 [00:00<?, ?it/s]"
      ]
     },
     "metadata": {},
     "output_type": "display_data"
    },
    {
     "name": "stdout",
     "output_type": "stream",
     "text": [
      "Train Epoch: 7  \tLoss: 0.959388   Accuracy: 4208/6397 (66%\n",
      "\n",
      "Test set: Average loss: 0.0262, Accuracy: 688/1600 (43%)\n",
      "\n",
      "9.956142792969442e-06\n"
     ]
    },
    {
     "data": {
      "application/vnd.jupyter.widget-view+json": {
       "model_id": "0eeb8592ea4449df867a19bf15d73908",
       "version_major": 2,
       "version_minor": 0
      },
      "text/plain": [
       "  0%|          | 0/100 [00:00<?, ?it/s]"
      ]
     },
     "metadata": {},
     "output_type": "display_data"
    },
    {
     "name": "stdout",
     "output_type": "stream",
     "text": [
      "Train Epoch: 8  \tLoss: 0.853279   Accuracy: 4382/6397 (69%\n",
      "\n",
      "Test set: Average loss: 0.0273, Accuracy: 673/1600 (42%)\n",
      "\n",
      "9.17286957714144e-06\n"
     ]
    },
    {
     "data": {
      "application/vnd.jupyter.widget-view+json": {
       "model_id": "8f25e74423734d7ca3d2475021ca957c",
       "version_major": 2,
       "version_minor": 0
      },
      "text/plain": [
       "  0%|          | 0/100 [00:00<?, ?it/s]"
      ]
     },
     "metadata": {},
     "output_type": "display_data"
    },
    {
     "name": "stdout",
     "output_type": "stream",
     "text": [
      "Train Epoch: 9  \tLoss: 1.060574   Accuracy: 4611/6397 (72%\n",
      "\n",
      "Test set: Average loss: 0.0281, Accuracy: 683/1600 (43%)\n",
      "\n",
      "6.696718653961177e-06\n"
     ]
    },
    {
     "data": {
      "application/vnd.jupyter.widget-view+json": {
       "model_id": "4ee86a6e9bff48499a5bccff68d65d96",
       "version_major": 2,
       "version_minor": 0
      },
      "text/plain": [
       "  0%|          | 0/100 [00:00<?, ?it/s]"
      ]
     },
     "metadata": {},
     "output_type": "display_data"
    },
    {
     "name": "stdout",
     "output_type": "stream",
     "text": [
      "Train Epoch: 10  \tLoss: 0.802299   Accuracy: 4711/6397 (74%\n",
      "\n",
      "Test set: Average loss: 0.0288, Accuracy: 678/1600 (42%)\n",
      "\n",
      "3.546685249837587e-06\n"
     ]
    },
    {
     "data": {
      "application/vnd.jupyter.widget-view+json": {
       "model_id": "98720a502fda4e81bb230e45ab04f051",
       "version_major": 2,
       "version_minor": 0
      },
      "text/plain": [
       "  0%|          | 0/100 [00:00<?, ?it/s]"
      ]
     },
     "metadata": {},
     "output_type": "display_data"
    },
    {
     "name": "stdout",
     "output_type": "stream",
     "text": [
      "Train Epoch: 11  \tLoss: 0.832801   Accuracy: 4811/6397 (75%\n",
      "\n",
      "Test set: Average loss: 0.0293, Accuracy: 664/1600 (42%)\n",
      "\n",
      "9.738768142103812e-07\n"
     ]
    },
    {
     "data": {
      "application/vnd.jupyter.widget-view+json": {
       "model_id": "ba5289e98ba6419e94c7366d3daa8018",
       "version_major": 2,
       "version_minor": 0
      },
      "text/plain": [
       "  0%|          | 0/100 [00:00<?, ?it/s]"
      ]
     },
     "metadata": {},
     "output_type": "display_data"
    },
    {
     "name": "stdout",
     "output_type": "stream",
     "text": [
      "Train Epoch: 12  \tLoss: 0.714125   Accuracy: 4804/6397 (75%\n",
      "\n",
      "Test set: Average loss: 0.0293, Accuracy: 671/1600 (42%)\n",
      "\n",
      "1.427647971089312e-10\n"
     ]
    },
    {
     "data": {
      "image/png": "[encoded data removed]",
      "text/plain": [
       "<Figure size 432x288 with 1 Axes>"
      ]
     },
     "metadata": {
      "needs_background": "light"
     },
     "output_type": "display_data"
    },
    {
     "data": {
      "image/png": "[encoded data removed]",
      "text/plain": [
       "<Figure size 432x288 with 1 Axes>"
      ]
     },
     "metadata": {
      "needs_background": "light"
     },
     "output_type": "display_data"
    }
   ],
   "source": [
    "# model.res.fc[2].p=0.0\n",
    "# model.res.fc[5].p=0.0\n",
    "#model.unfreeze\n",
    "\n",
    "# 0 = mel\n",
    "# 1 = mfcc\n",
    "# 2 = spec\n",
    "torch.cuda.empty_cache()\n",
    "\n",
    "label_dic = {0: \"model_save/resnet_conv1d mel db _specl.pth\",  1:\"model_save/resnet_conv1d mfcc db _specl.pth\",2:\"model_save/resnet_conv1d spec db_specl.pth\"}\n",
    "\n",
    "amp_db=transforms.AmplitudeToDB()\n",
    "for i in range(4):\n",
    "    if i==0:\n",
    "        name_mod=\"conv1d mfcc+spec \"\n",
    "        index=[1,2]\n",
    "    if i==1:\n",
    "        name_mod=\"conv1d mfcc+mel \"\n",
    "        index=[0,1]\n",
    "    if i==2:\n",
    "        name_mod=\"conv1d mel+spec\"\n",
    "        index=[0,2]\n",
    "    if i==3:\n",
    "        name_mod=\"conv1d mfcc+mel+spec\"\n",
    "        index=[0,1,2]\n",
    "    \n",
    "    all_model=[]\n",
    "    \n",
    "    for j in range(len(index)):\n",
    "        idx=index[j]\n",
    "        spectro_like=[mel_spectrogram,mfcc_transform,spectrogram]\n",
    "        spectro_like=[spectro_like[idx]]\n",
    "        spectro_like_device=[i.to(device) for i in spectro_like]\n",
    "\n",
    "\n",
    "        normalize_spec_db = T.Normalize(mean=[[-13.8637, -53.9947, -21.2606][idx]],\n",
    "                                std=[[19.2690, 49.1503, 22.0783][idx]])\n",
    "\n",
    "        transform_train_db = T.Compose([ amp_db,           \n",
    "                normalize_spec_db,\n",
    "                transforms.TimeMasking(time_mask_param=20),\n",
    "                #transforms.FrequencyMasking(freq_mask_param=30),\n",
    "                #T.RandomHorizontalFlip(),\n",
    "                #T.Resize((image_size,image_size))\n",
    "                               ])\n",
    "        transform_test_db = T.Compose([ amp_db,           \n",
    "                normalize_spec_db])\n",
    "\n",
    "\n",
    "        all_model.append(Net_res_mel(spectro_like_device,transform_train_db,transform_test_db).to(device))\n",
    "        \n",
    "        all_model[j].load_state_dict(torch.load(label_dic[idx]))#,strict=False)\n",
    "        all_model[j].fc[6],all_model[j].fc[5]=nn.Identity(),nn.Identity()\n",
    "    \n",
    "    model=Res_Net_mix_spec(all_model).to(device)\n",
    "    criterion = nn.CrossEntropyLoss()\n",
    "    grad_clip = 0.1\n",
    "    weight_decay = 1e-5\n",
    "    optimizer = optim.Adam(model.parameters(), lr=0.001,weight_decay=weight_decay)\n",
    "    Train_loss=[]\n",
    "    Test_loss=[]\n",
    "    Train_correct=[]\n",
    "    Test_correct=[]\n",
    "    best_model=40\n",
    "    epochs1=6\n",
    "    epochs2=6\n",
    "    epochs=epochs1+epochs2\n",
    "    scheduler = torch.optim.lr_scheduler.OneCycleLR(optimizer, max_lr=1e-5, steps_per_epoch=len(trainloader), epochs=epochs1+1)\n",
    "    model.freeze()\n",
    "    \n",
    "    for epoch in range(1, epochs + 1):\n",
    "        if epoch==epochs1:\n",
    "            scheduler = torch.optim.lr_scheduler.OneCycleLR(optimizer, max_lr=1e-5, steps_per_epoch=len(trainloader), epochs=epochs2+1)\n",
    "            model.unfreeze()\n",
    "        train_loss,correct_train=train(model, device, trainloader, criterion, optimizer, epoch,scheduler,log_interval=100,grad_clip=grad_clip)\n",
    "        test_loss,correct_test=test(model, device, testloader,criterion)\n",
    "        Train_loss.append(train_loss)\n",
    "        Test_loss.append(test_loss)\n",
    "        Train_correct.append(correct_train)\n",
    "        Test_correct.append(correct_test)\n",
    "        print(optimizer.param_groups[0]['lr'])\n",
    "        #save model\n",
    "        if correct_test>best_model:\n",
    "            best_model=correct_test\n",
    "            path=\"model_save/resnet_\"+name_mod+\"_specl.pth\"\n",
    "            torch.save(model.state_dict(), path)\n",
    "        \n",
    "    plt.plot(Train_loss)\n",
    "    plt.plot(Test_loss)\n",
    "    plt.legend([\"train\",\"test\"])\n",
    "    plt.title(\"CrossEntropyLoss \"+name_mod)\n",
    "    plt.xlabel(\"epochs\")\n",
    "    plt.savefig('loss_'+name_mod+' _spectro_all_spectr.png')\n",
    "    plt.show()\n",
    "\n",
    "    plt.plot(Train_correct)\n",
    "    plt.plot(Test_correct)\n",
    "    plt.legend([\"train\",\"test\"])\n",
    "    plt.title(name_mod+ \" accuracy % , max acc = \"+str(max(Test_correct)))\n",
    "    plt.xlabel(\"epochs\")\n",
    "    plt.savefig('accuracy_ '+name_mod+' _spectro_all_spectr.png')\n",
    "\n",
    "\n",
    "    plt.show()"
   ]
  },
  {
   "cell_type": "markdown",
   "metadata": {
    "ExecuteTime": {
     "end_time": "2021-03-31T17:30:30.982730Z",
     "start_time": "2021-03-31T17:30:30.979764Z"
    },
    "heading_collapsed": true
   },
   "source": [
    "# try with net pretrain on multi label"
   ]
  },
  {
   "cell_type": "code",
   "execution_count": 14,
   "metadata": {
    "ExecuteTime": {
     "end_time": "2021-03-31T17:53:30.744920Z",
     "start_time": "2021-03-31T17:53:30.075130Z"
    },
    "hidden": true
   },
   "outputs": [],
   "source": [
    "path=\"model_save/vgg_34_all_specl_mult_lab.pth\"\n",
    "\n",
    "model = Net_res_mel(spectro_like,transform_train,transform_test)\n",
    "model.res.fc=nn.Linear(2048, 8)\n",
    "\n",
    "model.load_state_dict(torch.load(path),strict=False)\n",
    "model.res.fc=nn.Sequential(nn.Linear(2048, 2048),nn.ReLU(),nn.Dropout(),nn.Linear(2048, 1024),nn.ReLU(),nn.Dropout(),nn.Linear(1024,8))\n",
    "model=model.to(device)"
   ]
  },
  {
   "cell_type": "code",
   "execution_count": 15,
   "metadata": {
    "ExecuteTime": {
     "end_time": "2021-03-31T17:53:31.355711Z",
     "start_time": "2021-03-31T17:53:31.349683Z"
    },
    "hidden": true
   },
   "outputs": [],
   "source": [
    "torch.cuda.empty_cache()\n",
    "criterion = nn.CrossEntropyLoss()\n",
    "grad_clip = 0.2\n",
    "weight_decay = 1e-6\n",
    "\n",
    "optimizer = optim.Adam(model.parameters(), lr=0.001,weight_decay=0)\n",
    "Train_loss=[]\n",
    "Test_loss=[]\n",
    "Train_correct=[]\n",
    "Test_correct=[]\n",
    "model.freeze()"
   ]
  },
  {
   "cell_type": "code",
   "execution_count": 28,
   "metadata": {
    "ExecuteTime": {
     "end_time": "2021-03-31T19:40:00.943479Z",
     "start_time": "2021-03-31T19:28:54.720462Z"
    },
    "hidden": true,
    "scrolled": true
   },
   "outputs": [
    {
     "data": {
      "application/vnd.jupyter.widget-view+json": {
       "model_id": "64523359e34247b8b82bf0f3617e20b3",
       "version_major": 2,
       "version_minor": 0
      },
      "text/plain": [
       "  0%|          | 0/400 [00:00<?, ?it/s]"
      ]
     },
     "metadata": {},
     "output_type": "display_data"
    },
    {
     "name": "stdout",
     "output_type": "stream",
     "text": [
      "Train Epoch: 1  \tLoss: 1.489191   Accuracy: 3709/6397 (58%\n",
      "\n",
      "Test set: Average loss: 0.0271, Accuracy: 675/1600 (42%)\n",
      "\n",
      "1.5229039838363913e-06\n"
     ]
    },
    {
     "data": {
      "application/vnd.jupyter.widget-view+json": {
       "model_id": "917726084e084c7899bf35ef55939555",
       "version_major": 2,
       "version_minor": 0
      },
      "text/plain": [
       "  0%|          | 0/400 [00:00<?, ?it/s]"
      ]
     },
     "metadata": {},
     "output_type": "display_data"
    },
    {
     "name": "stdout",
     "output_type": "stream",
     "text": [
      "Train Epoch: 2  \tLoss: 0.822994   Accuracy: 3713/6397 (58%\n",
      "\n",
      "Test set: Average loss: 0.0269, Accuracy: 677/1600 (42%)\n",
      "\n",
      "1.8999933674948462e-06\n"
     ]
    },
    {
     "data": {
      "application/vnd.jupyter.widget-view+json": {
       "model_id": "7d915b80ae45419cb8dd6558e4544ea6",
       "version_major": 2,
       "version_minor": 0
      },
      "text/plain": [
       "  0%|          | 0/400 [00:00<?, ?it/s]"
      ]
     },
     "metadata": {},
     "output_type": "display_data"
    },
    {
     "name": "stdout",
     "output_type": "stream",
     "text": [
      "Train Epoch: 3  \tLoss: 1.542564   Accuracy: 3724/6397 (58%\n",
      "\n",
      "Test set: Average loss: 0.0271, Accuracy: 659/1600 (41%)\n",
      "\n",
      "1.220335761089508e-06\n"
     ]
    },
    {
     "data": {
      "application/vnd.jupyter.widget-view+json": {
       "model_id": "34ba46a65bc840059502fd3c24a03b90",
       "version_major": 2,
       "version_minor": 0
      },
      "text/plain": [
       "  0%|          | 0/400 [00:00<?, ?it/s]"
      ]
     },
     "metadata": {},
     "output_type": "display_data"
    },
    {
     "name": "stdout",
     "output_type": "stream",
     "text": [
      "Train Epoch: 4  \tLoss: 1.380597   Accuracy: 3719/6397 (58%\n",
      "\n",
      "Test set: Average loss: 0.0270, Accuracy: 669/1600 (42%)\n",
      "\n",
      "3.747638446349205e-07\n"
     ]
    },
    {
     "data": {
      "application/vnd.jupyter.widget-view+json": {
       "model_id": "2d73ab0340c546e3be9c3a2b1f1bff51",
       "version_major": 2,
       "version_minor": 0
      },
      "text/plain": [
       "  0%|          | 0/400 [00:00<?, ?it/s]"
      ]
     },
     "metadata": {},
     "output_type": "display_data"
    },
    {
     "name": "stdout",
     "output_type": "stream",
     "text": [
      "Train Epoch: 5  \tLoss: 1.458459   Accuracy: 3749/6397 (59%\n",
      "\n",
      "Test set: Average loss: 0.0271, Accuracy: 668/1600 (42%)\n",
      "\n",
      "1.0517745097220258e-11\n"
     ]
    },
    {
     "data": {
      "image/png": "[encoded data removed]",
      "text/plain": [
       "<Figure size 432x288 with 1 Axes>"
      ]
     },
     "metadata": {
      "needs_background": "light"
     },
     "output_type": "display_data"
    },
    {
     "data": {
      "image/png": "[encoded data removed]",
      "text/plain": [
       "<Figure size 432x288 with 1 Axes>"
      ]
     },
     "metadata": {
      "needs_background": "light"
     },
     "output_type": "display_data"
    }
   ],
   "source": [
    "model.unfreeze()\n",
    "model.res.fc[2].p=0.0\n",
    "model.res.fc[5].p=0.0\n",
    "#model.unfreeze()\n",
    "epochs=5\n",
    "scheduler = torch.optim.lr_scheduler.OneCycleLR(optimizer, max_lr=2e-6, steps_per_epoch=len(trainloader), epochs=epochs)\n",
    "for epoch in range(1, epochs + 1):\n",
    "    train_loss,correct_train=train(model, device, trainloader, criterion, optimizer, epoch,scheduler,log_interval=100,grad_clip=grad_clip)\n",
    "    test_loss,correct_test=test(model, device, testloader,criterion)\n",
    "    Train_loss.append(train_loss)\n",
    "    Test_loss.append(test_loss)\n",
    "    Train_correct.append(correct_train)\n",
    "    Test_correct.append(correct_test)\n",
    "    print(optimizer.param_groups[0]['lr'])\n",
    "\n",
    "plt.plot(Train_loss)\n",
    "plt.plot(Test_loss)\n",
    "plt.legend([\"train\",\"test\"])\n",
    "plt.show()\n",
    "plt.plot(Train_correct)\n",
    "plt.plot(Test_correct)\n",
    "plt.legend([\"train\",\"test\"])\n",
    "plt.show()"
   ]
  },
  {
   "cell_type": "code",
   "execution_count": 29,
   "metadata": {
    "ExecuteTime": {
     "end_time": "2021-03-31T19:40:02.506474Z",
     "start_time": "2021-03-31T19:40:02.087476Z"
    },
    "hidden": true
   },
   "outputs": [],
   "source": [
    "path=\"model_save/resnetxt_pretrain+train_all_specl.pth\"\n",
    "\n",
    "torch.save(model.state_dict(), path)"
   ]
  },
  {
   "cell_type": "code",
   "execution_count": 30,
   "metadata": {
    "ExecuteTime": {
     "end_time": "2021-03-31T19:41:54.882072Z",
     "start_time": "2021-03-31T19:41:54.514119Z"
    },
    "hidden": true
   },
   "outputs": [
    {
     "data": {
      "image/png": "[encoded data removed]",
      "text/plain": [
       "<Figure size 432x288 with 1 Axes>"
      ]
     },
     "metadata": {
      "needs_background": "light"
     },
     "output_type": "display_data"
    },
    {
     "data": {
      "image/png": "[encoded data removed]",
      "text/plain": [
       "<Figure size 432x288 with 1 Axes>"
      ]
     },
     "metadata": {
      "needs_background": "light"
     },
     "output_type": "display_data"
    }
   ],
   "source": [
    "name_mod=\"resnext50_32x4d pretrained\"\n",
    "plt.plot(Train_loss)\n",
    "plt.plot(Test_loss)\n",
    "plt.legend([\"train\",\"test\"])\n",
    "plt.title(\"CrossEntropyLoss \"+name_mod)\n",
    "plt.xlabel(\"epochs\")\n",
    "plt.savefig('loss_'+name_mod+' _spectro_all_spectr.png')\n",
    "plt.show()\n",
    "\n",
    "plt.plot(Train_correct)\n",
    "plt.plot(Test_correct)\n",
    "plt.legend([\"train\",\"test\"])\n",
    "plt.title(name_mod+ \" accuracy %\")\n",
    "plt.xlabel(\"epochs\")\n",
    "plt.savefig('accuracy_ '+name_mod+' _spectro_all_spectr.png')\n",
    "\n",
    "\n",
    "plt.show()"
   ]
  },
  {
   "cell_type": "markdown",
   "metadata": {
    "ExecuteTime": {
     "end_time": "2021-03-31T14:02:41.273108Z",
     "start_time": "2021-03-31T14:02:41.269107Z"
    }
   },
   "source": [
    "# multi label"
   ]
  },
  {
   "cell_type": "code",
   "execution_count": 98,
   "metadata": {
    "ExecuteTime": {
     "end_time": "2021-03-31T14:41:13.242032Z",
     "start_time": "2021-03-31T14:41:13.233052Z"
    }
   },
   "outputs": [
    {
     "name": "stderr",
     "output_type": "stream",
     "text": [
      "C:\\Users\\lejuj\\Anaconda3\\envs\\torchaudio\\lib\\site-packages\\torch\\nn\\functional.py:1709: UserWarning: nn.functional.sigmoid is deprecated. Use torch.sigmoid instead.\n",
      "  warnings.warn(\"nn.functional.sigmoid is deprecated. Use torch.sigmoid instead.\")\n"
     ]
    },
    {
     "data": {
      "text/plain": [
       "tensor([0.7311])"
      ]
     },
     "execution_count": 98,
     "metadata": {},
     "output_type": "execute_result"
    }
   ],
   "source": []
  },
  {
   "cell_type": "code",
   "execution_count": 49,
   "metadata": {
    "ExecuteTime": {
     "end_time": "2021-03-31T15:35:49.010619Z",
     "start_time": "2021-03-31T15:35:48.998619Z"
    }
   },
   "outputs": [],
   "source": [
    "use_amp = False #mixed precision float 16\n",
    "scaler = torch.cuda.amp.GradScaler(enabled=use_amp)\n",
    "\n",
    "def get_accuracy(y_true, y_prob):\n",
    "    assert y_true.size() == y_prob.size()\n",
    "    y_prob=torch.sigmoid(y_prob)\n",
    "    y_prob = y_prob > 0.5\n",
    "    return (y_true == y_prob).sum().item()/ y_true.size(0)\n",
    "\n",
    "def train_multi(model, device, trainloader, criterion, optimizer, epoch,scheduler, log_interval,grad_clip=None):\n",
    "    model.train()\n",
    "    correct = 0\n",
    "    train_loss = 0\n",
    "    for batch_idx, (data, target) in enumerate(tqdm(trainloader)):\n",
    "        data, target = data.to(device), target.to(device)\n",
    "        optimizer.zero_grad()\n",
    "        with torch.cuda.amp.autocast(enabled=use_amp): #mixed precision\n",
    "            output = model(data)\n",
    "            loss = criterion(output, target)\n",
    "        scaler.scale(loss).backward()\n",
    "        if grad_clip: \n",
    "                nn.utils.clip_grad_value_(model.parameters(), grad_clip)\n",
    "        scaler.step(optimizer)\n",
    "        scaler.update()\n",
    "        scheduler.step()\n",
    "\n",
    "        correct += get_accuracy(target, output)\n",
    "#         loss.backward()\n",
    "#         optimizer.step()\n",
    "        train_loss += loss.item()\n",
    "#     if batch_idx % log_interval == 0:\n",
    "    print('Train Epoch: {}  \\tLoss: {:.6f}   Accuracy: {}/{} ({:.0f}%'.format(\n",
    "        epoch, loss.item(), correct, len(trainloader.dataset), 100. * correct / len(trainloader.dataset)))\n",
    "    return train_loss/len(trainloader.dataset),100. * correct / len(trainloader.dataset)\n",
    "\n",
    "\n",
    "def test_multi(model, device, testloader,criterion):\n",
    "    model.eval()\n",
    "    test_loss = 0\n",
    "    correct = 0\n",
    "    with torch.no_grad():\n",
    "        for data, target in testloader:\n",
    "            data, target = data.to(device), target.to(device)\n",
    "            output = model(data)\n",
    "            test_loss += criterion(output, target).item()  # sum up batch loss\n",
    "            correct += get_accuracy(target, output)\n",
    "\n",
    "    test_loss /= len(testloader.dataset)\n",
    "\n",
    "    print('\\nTest set: Average loss: {:.4f}, Accuracy: {}/{} ({:.0f}%)\\n'.format(\n",
    "        test_loss, correct, len(testloader.dataset),\n",
    "        100. * correct / len(testloader.dataset)))\n",
    "    return test_loss,100. * correct / len(testloader.dataset)"
   ]
  },
  {
   "cell_type": "code",
   "execution_count": 50,
   "metadata": {
    "ExecuteTime": {
     "end_time": "2021-03-31T15:35:53.903044Z",
     "start_time": "2021-03-31T15:35:53.871040Z"
    }
   },
   "outputs": [],
   "source": [
    "from torch.utils.data import Dataset, DataLoader\n",
    "\n",
    "# creation of torch dataset\n",
    "\n",
    "\n",
    "#type_set= train or test \n",
    "#audio_ids\n",
    "test_multi_index = tracks.index[(tracks['set', 'split'] == 'test' ) ]\n",
    "\n",
    "# Split in training, validation and testing sets.\n",
    "y_train = enc.fit_transform(labels[train_index])\n",
    "y_val = enc.transform(labels[val_index])\n",
    "y_test = enc.transform(labels[test_index])\n",
    "\n",
    "\n",
    "class Audio_multiLabel_classification(Dataset):\n",
    "    def __init__(self,type_set, audio_idx, class_ids,time_audio_resize=3, transform = None):#(\"train\",train,data,)\n",
    "            self.type_set=type_set\n",
    "            self.audio_ids = audio_idx\n",
    "            self.class_ids = class_ids\n",
    "            self.time_audio_resize=time_audio_resize\n",
    "            self.transform = transform\n",
    "#             if self.is_valid == 1:\n",
    "#                 self.aug = # transfoms for validation images\n",
    "#             else:                  \n",
    "#                 self.aug = # transfoms for training images\n",
    "                \n",
    "    def __len__(self):\n",
    "          return len(self.audio_ids)\n",
    "    \n",
    "        \n",
    "    def __getitem__(self, index):\n",
    "            #on prend 3s\n",
    "            load_first_n_sec_audio=15\n",
    "            sample_rate_default=22050\n",
    "            #time_audio_resize #= 3#sec\n",
    "            \n",
    "            #audio_path is like 000002.wav but self.audio_ids[index] has not all the 0 include so ...\n",
    "            idx=self.audio_ids[index]\n",
    "            count=len(str(idx))\n",
    "            #print(\"The number of digits in the number are:\",count)\n",
    "            if count!=6:\n",
    "                idx=\"0\"*(6-count)+str(idx)\n",
    "            audio_path=str(idx)\n",
    "\n",
    "            filename = \"data_proces/fma_small/\"+ audio_path +\".wav\"\n",
    "            label = self.class_ids[index]\n",
    "            \n",
    "            #load audio mp3\n",
    "            \n",
    "            waveform, sample_rate=torchaudio.load(filename, normalize = True)\n",
    "            #waveform, sample_rate=sf.read(filename,sr=None)\n",
    "                \n",
    "            len_audio_resize = int(sample_rate_default * self.time_audio_resize)\n",
    "            indice_max=len(waveform[0])-len_audio_resize-1\n",
    "            indice_initial=np.random.randint(max(indice_max,1))\n",
    "            #make 3sec long audio (time_audio_resize=3sec)\n",
    "            if self.type_set==\"train\":\n",
    "                waveform = waveform[:,indice_initial:indice_initial+len_audio_resize]\n",
    "            else:\n",
    "                waveform = waveform[:,0:len_audio_resize]\n",
    "                \n",
    "            # if weveform is to short zero padding at the end \n",
    "            if waveform.size()!=(1,len_audio_resize):\n",
    "                waveform=torch.cat((waveform,torch.zeros((1,len_audio_resize-waveform.size(1)))),1)\n",
    "            #to torch\n",
    "            #waveform=torch.tensor(waveform)#m, dtype = torch.float)\n",
    "            # reshape to 1 channel if required\n",
    "            #waveform = torch.reshape(waveform, (1, waveform.shape[0]))\n",
    "           # Change the waveform to Spectrogram, Mel-Spectrogram or,MFCC\n",
    "#             specgram = torchaudio.transforms.Spectrogram()(waveform)\n",
    "\n",
    "#             # convert 1 channel to 3 channels applying imagenet models\n",
    "#             specgram = specgram.repeat(3, 1, 1)\n",
    "\n",
    "#             # Applying audio augmentations by converting to numpy array\n",
    "#             specgram = np.transpose(specgram.numpy(), (1,2,0))\n",
    "#             specgram = self.aug(image = specgram)['image']\n",
    "\n",
    "#             #As torch accepts channels first so applying this\n",
    "#             specgram = np.transpose(specgram,(2,0,1)).astype(np.float32)\n",
    "#             specgram=torch.tensor(waveform, dtype = torch.float) \n",
    "            if self.transform:\n",
    "                waveform = self.transform(waveform)\n",
    "            return waveform,torch.tensor(label, dtype = torch.float)\n",
    "#             return {\n",
    "#                 'waveform' : waveform,\n",
    "#                 'label' : torch.tensor(label, dtype = torch.float)\n",
    "#             }\n",
    "        \n"
   ]
  },
  {
   "cell_type": "code",
   "execution_count": 51,
   "metadata": {
    "ExecuteTime": {
     "end_time": "2021-03-31T15:35:56.543183Z",
     "start_time": "2021-03-31T15:35:56.502222Z"
    }
   },
   "outputs": [
    {
     "data": {
      "text/plain": [
       "(torch.Size([16, 1, 114660]), torch.Size([16, 14]), 'torch.FloatTensor')"
      ]
     },
     "execution_count": 51,
     "metadata": {},
     "output_type": "execute_result"
    }
   ],
   "source": [
    "\n",
    "trainset  = Audio_multiLabel_classification(\"train\",train_index,y_train,time_audio_resize=5.2)\n",
    "trainloader  = DataLoader(trainset , batch_size=16,\n",
    "                        shuffle=True, num_workers=0)\n",
    "\n",
    "testset = Audio_multiLabel_classification(\"test\",test_multi_index,y_test,time_audio_resize=5.2)\n",
    "testloader   = DataLoader(testset , batch_size=64,\n",
    "                        shuffle=False, num_workers=0)\n",
    "\n",
    "# trainloader = DeviceDataLoader(trainloader_mel, device)\n",
    "# testloader = DeviceDataLoader(testloader_mel, device)\n",
    "a=iter(trainloader)\n",
    "im,l=next(a)\n",
    "size_in=im.size(2)\n",
    "im.size(),l.size(),l.type()\n"
   ]
  },
  {
   "cell_type": "code",
   "execution_count": 48,
   "metadata": {
    "ExecuteTime": {
     "end_time": "2021-03-31T15:35:20.762222Z",
     "start_time": "2021-03-31T15:35:20.716268Z"
    }
   },
   "outputs": [
    {
     "data": {
      "text/plain": [
       "(torch.Size([16, 1, 114660]),\n",
       " torch.Size([16, 14]),\n",
       " tensor([[0., 0., 0., 1., 1., 1., 0., 1., 0., 0., 0., 0., 1., 1.],\n",
       "         [1., 1., 0., 1., 0., 0., 1., 0., 0., 1., 0., 1., 1., 1.],\n",
       "         [1., 1., 0., 1., 1., 0., 0., 0., 0., 0., 1., 1., 1., 1.],\n",
       "         [1., 1., 0., 1., 0., 1., 1., 1., 0., 0., 1., 0., 1., 1.],\n",
       "         [1., 1., 0., 1., 1., 1., 0., 1., 0., 0., 1., 0., 1., 1.],\n",
       "         [1., 1., 1., 1., 0., 1., 0., 0., 0., 1., 0., 0., 1., 1.],\n",
       "         [1., 1., 1., 1., 1., 1., 0., 0., 0., 0., 1., 0., 1., 1.],\n",
       "         [1., 1., 0., 1., 0., 1., 1., 1., 0., 1., 1., 0., 1., 1.],\n",
       "         [1., 1., 0., 1., 1., 1., 0., 1., 1., 1., 0., 0., 1., 1.],\n",
       "         [1., 1., 1., 1., 0., 1., 0., 0., 0., 1., 0., 0., 1., 1.],\n",
       "         [0., 0., 1., 1., 0., 0., 0., 0., 0., 0., 0., 0., 1., 1.],\n",
       "         [0., 0., 0., 1., 1., 0., 0., 0., 0., 0., 0., 0., 1., 1.],\n",
       "         [0., 0., 0., 1., 1., 1., 0., 1., 0., 0., 0., 0., 1., 1.],\n",
       "         [1., 1., 1., 1., 0., 1., 0., 0., 0., 1., 0., 0., 1., 1.],\n",
       "         [1., 1., 0., 1., 0., 1., 1., 0., 0., 0., 1., 0., 1., 1.],\n",
       "         [0., 0., 0., 1., 1., 0., 0., 0., 0., 0., 0., 0., 1., 1.]]))"
      ]
     },
     "execution_count": 48,
     "metadata": {},
     "output_type": "execute_result"
    }
   ],
   "source": [
    "im,l=next(a)\n",
    "size_in=im.size(2)\n",
    "im.size(),l.size(),l"
   ]
  },
  {
   "cell_type": "code",
   "execution_count": 17,
   "metadata": {
    "ExecuteTime": {
     "end_time": "2021-03-31T17:35:34.447355Z",
     "start_time": "2021-03-31T17:35:34.434351Z"
    }
   },
   "outputs": [],
   "source": [
    "# https://medium.com/swlh/music-genre-classification-using-transfer-learning-pytorch-ea1c23e36eb8\n",
    "\n",
    "normalize_spec = T.Normalize(mean=[12.6111, -0.0646,  7.8345],\n",
    "                        std=[138.5886,   4.2762, 112.3290])\n",
    "transform_train = T.Compose([             \n",
    "       # transforms.TimeStretch(fixed_rate =1.2),\n",
    "        normalize_spec,\n",
    "        transforms.TimeMasking(time_mask_param=20),\n",
    "        #transforms.FrequencyMasking(freq_mask_param=30),\n",
    "        #T.RandomHorizontalFlip(),\n",
    "        #T.Resize((image_size,image_size))\n",
    "                       ])\n",
    "transform_test = T.Compose([             \n",
    "       # transforms.TimeStretch(fixed_rate =1.2),\n",
    "        normalize_spec ])\n",
    "\n",
    "spectro_like=[mel_spectrogram,mfcc_transform,spectrogram]\n",
    "spectro_like=[i.to(device) for i in spectro_like]\n",
    "\n",
    "class Net_res_mel(nn.Module):\n",
    "    def __init__(self,spectro_like=None,transform_train=None,transform_test=None):\n",
    "        super(Net_res_mel, self).__init__()\n",
    "        self.spectro_like=spectro_like\n",
    "        self.len_feat=len(self.spectro_like)\n",
    "        self.transform_train=transform_train\n",
    "        self.transform_test=transform_test\n",
    "        kernel_size=3\n",
    "\n",
    "        self.res=models.resnext50_32x4d()#models.vgg16_bn()#models.resnet34(pretrained=True)\n",
    "        \n",
    "\n",
    "        self.res.fc=nn.Sequential(nn.Linear(2048, 14))\n",
    "    \n",
    "    def freeze(self):\n",
    "        for param in self.res.parameters():\n",
    "            param.require_grad = False\n",
    "        for param in self.res.fc.parameters():\n",
    "            param.require_grad = True\n",
    "        for param in self.res.avgpool.parameters():\n",
    "            param.require_grad = True\n",
    "        \n",
    "    def unfreeze(self):\n",
    "        for param in self.res.parameters():\n",
    "            param.require_grad = True\n",
    "        \n",
    "    def forward(self, x):\n",
    "        if self.spectro_like:\n",
    "            spec=torch.tensor([]).to(device)\n",
    "            for spectro in self.spectro_like :\n",
    "                spec1=spectro(x)\n",
    "                spec=torch.cat((spec,spec1),1)\n",
    "            x=spec.to(device)\n",
    "        if self.train():\n",
    "            if self.transform_train:\n",
    "                x = self.transform_train(x)\n",
    "        else:\n",
    "            if self.transform_test:\n",
    "                x = self.transform_test(x)\n",
    "        #x = x.repeat(1,3, 1, 1) #like imagenet\n",
    "        #x = self.preprocess(x)\n",
    "        #x = x\n",
    "        x = self.res(x)\n",
    "        \n",
    "#         x = F.relu(self.fc1(x))\n",
    "#         x = F.relu(self.fc2(x))\n",
    "        return x\n",
    "\n",
    "        \n",
    "#model = Net_res_mel(spectro_like,transform_train,transform_test)\n",
    "# model\n",
    "# print(model)\n",
    "#summary(model, ([1, size_in]))"
   ]
  },
  {
   "cell_type": "code",
   "execution_count": 53,
   "metadata": {
    "ExecuteTime": {
     "end_time": "2021-03-31T15:36:05.211912Z",
     "start_time": "2021-03-31T15:36:04.811900Z"
    }
   },
   "outputs": [],
   "source": [
    "torch.cuda.empty_cache()\n",
    "model = Net_res_mel(spectro_like,transform_train,transform_test).to(device)\n",
    "criterion = nn.BCEWithLogitsLoss()\n",
    "\n",
    "grad_clip = 0.1\n",
    "weight_decay = 1e-7\n",
    "\n",
    "optimizer = optim.Adam(model.parameters(), lr=0.001,weight_decay=0)\n",
    "Train_loss=[]\n",
    "Test_loss=[]\n",
    "Train_correct=[]\n",
    "Test_correct=[]"
   ]
  },
  {
   "cell_type": "code",
   "execution_count": 59,
   "metadata": {
    "ExecuteTime": {
     "end_time": "2021-03-31T17:17:44.253802Z",
     "start_time": "2021-03-31T17:13:40.036299Z"
    },
    "scrolled": true
   },
   "outputs": [
    {
     "data": {
      "application/vnd.jupyter.widget-view+json": {
       "model_id": "ed923ba87ac14f3597091182134575d4",
       "version_major": 2,
       "version_minor": 0
      },
      "text/plain": [
       "  0%|          | 0/400 [00:00<?, ?it/s]"
      ]
     },
     "metadata": {},
     "output_type": "display_data"
    },
    {
     "name": "stdout",
     "output_type": "stream",
     "text": [
      "Train Epoch: 1  \tLoss: 0.395024   Accuracy: 4394.221153846154/6397 (69%\n",
      "\n",
      "Test set: Average loss: 0.0089, Accuracy: 131.484375/800 (16%)\n",
      "\n",
      "8.095477364670185e-11\n"
     ]
    },
    {
     "data": {
      "application/vnd.jupyter.widget-view+json": {
       "model_id": "6c1803c2881f41da866181d6d5b28385",
       "version_major": 2,
       "version_minor": 0
      },
      "text/plain": [
       "  0%|          | 0/400 [00:00<?, ?it/s]"
      ]
     },
     "metadata": {},
     "output_type": "display_data"
    },
    {
     "name": "stdout",
     "output_type": "stream",
     "text": [
      "Train Epoch: 2  \tLoss: 0.437191   Accuracy: 4395.259615384615/6397 (69%\n",
      "\n",
      "Test set: Average loss: 0.0089, Accuracy: 131.5/800 (16%)\n",
      "\n",
      "1.1867936095484038e-15\n"
     ]
    },
    {
     "data": {
      "image/png": "[encoded data removed]",
      "text/plain": [
       "<Figure size 432x288 with 1 Axes>"
      ]
     },
     "metadata": {
      "needs_background": "light"
     },
     "output_type": "display_data"
    },
    {
     "data": {
      "image/png": "[encoded data removed]",
      "text/plain": [
       "<Figure size 432x288 with 1 Axes>"
      ]
     },
     "metadata": {
      "needs_background": "light"
     },
     "output_type": "display_data"
    }
   ],
   "source": [
    "\n",
    "# model.res.classifier[2].p=0.0\n",
    "# model.res.classifier[5].p=0.0\n",
    "epochs=2\n",
    "scheduler = torch.optim.lr_scheduler.OneCycleLR(optimizer, max_lr=1e-10, steps_per_epoch=len(trainloader), epochs=epochs)\n",
    "for epoch in range(1, epochs + 1):\n",
    "    train_loss,correct_train=train_multi(model, device, trainloader, criterion, optimizer, epoch,scheduler,log_interval=100,grad_clip=grad_clip)\n",
    "    test_loss,correct_test=test_multi(model, device, testloader,criterion)\n",
    "    Train_loss.append(train_loss)\n",
    "    Test_loss.append(test_loss)\n",
    "    Train_correct.append(correct_train)\n",
    "    Test_correct.append(correct_test)\n",
    "    print(optimizer.param_groups[0]['lr'])\n",
    "\n",
    "plt.plot(Train_loss)\n",
    "plt.plot(Test_loss)\n",
    "plt.legend([\"train\",\"test\"])\n",
    "plt.show()\n",
    "plt.plot(Train_correct)\n",
    "plt.plot(Test_correct)\n",
    "plt.legend([\"train\",\"test\"])\n",
    "plt.show()"
   ]
  },
  {
   "cell_type": "code",
   "execution_count": 60,
   "metadata": {
    "ExecuteTime": {
     "end_time": "2021-03-31T17:21:08.857532Z",
     "start_time": "2021-03-31T17:21:08.629104Z"
    }
   },
   "outputs": [],
   "source": [
    "path=\"model_save/vgg_34_all_specl_mult_lab.pth\"\n",
    "\n",
    "torch.save(model.state_dict(), path)"
   ]
  }
 ],
 "metadata": {
  "kernelspec": {
   "display_name": "Python 3",
   "language": "python",
   "name": "python3"
  },
  "language_info": {
   "codemirror_mode": {
    "name": "ipython",
    "version": 3
   },
   "file_extension": ".py",
   "mimetype": "text/x-python",
   "name": "python",
   "nbconvert_exporter": "python",
   "pygments_lexer": "ipython3",
   "version": "3.6.13"
  },
  "notify_time": "5",
  "toc": {
   "base_numbering": 1,
   "nav_menu": {},
   "number_sections": true,
   "sideBar": false,
   "skip_h1_title": false,
   "title_cell": "Table of Contents",
   "title_sidebar": "Contents",
   "toc_cell": false,
   "toc_position": {
    "height": "756.979px",
    "left": "1865.43px",
    "top": "90.1806px",
    "width": "267.899px"
   },
   "toc_section_display": true,
   "toc_window_display": true
  },
  "varInspector": {
   "cols": {
    "lenName": 16,
    "lenType": 16,
    "lenVar": 40
   },
   "kernels_config": {
    "python": {
     "delete_cmd_postfix": "",
     "delete_cmd_prefix": "del ",
     "library": "var_list.py",
     "varRefreshCmd": "print(var_dic_list())"
    },
    "r": {
     "delete_cmd_postfix": ") ",
     "delete_cmd_prefix": "rm(",
     "library": "var_list.r",
     "varRefreshCmd": "cat(var_dic_list()) "
    }
   },
   "position": {
    "height": "318.991px",
    "left": "1107.99px",
    "right": "20px",
    "top": "96px",
    "width": "350px"
   },
   "types_to_exclude": [
    "module",
    "function",
    "builtin_function_or_method",
    "instance",
    "_Feature"
   ],
   "window_display": false
  }
 },
 "nbformat": 4,
 "nbformat_minor": 4
}
